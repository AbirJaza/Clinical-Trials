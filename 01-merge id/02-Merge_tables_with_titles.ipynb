{
 "cells": [
  {
   "cell_type": "code",
   "execution_count": 2,
   "metadata": {},
   "outputs": [],
   "source": [
    "import csv\n",
    "import pandas as pd\n",
    "from difflib import SequenceMatcher\n",
    "import itertools\n",
    "from fuzzywuzzy import fuzz, process\n",
    "import pickle\n",
    "\n",
    "from dask import delayed, compute"
   ]
  },
  {
   "cell_type": "code",
   "execution_count": 3,
   "metadata": {},
   "outputs": [
    {
     "data": {
      "text/html": [
       "<div>\n",
       "<style scoped>\n",
       "    .dataframe tbody tr th:only-of-type {\n",
       "        vertical-align: middle;\n",
       "    }\n",
       "\n",
       "    .dataframe tbody tr th {\n",
       "        vertical-align: top;\n",
       "    }\n",
       "\n",
       "    .dataframe thead th {\n",
       "        text-align: right;\n",
       "    }\n",
       "</style>\n",
       "<table border=\"1\" class=\"dataframe\">\n",
       "  <thead>\n",
       "    <tr style=\"text-align: right;\">\n",
       "      <th></th>\n",
       "      <th>trial_id</th>\n",
       "      <th>short_title</th>\n",
       "      <th>long_title</th>\n",
       "      <th>trial_indicator</th>\n",
       "    </tr>\n",
       "  </thead>\n",
       "  <tbody>\n",
       "    <tr>\n",
       "      <th>0</th>\n",
       "      <td>NCT03260985</td>\n",
       "      <td>Precision Psychiatry Continuity Clinic Project</td>\n",
       "      <td>Precision Psychiatry Continuity Clinic Project</td>\n",
       "      <td>US</td>\n",
       "    </tr>\n",
       "    <tr>\n",
       "      <th>1</th>\n",
       "      <td>NCT03268473</td>\n",
       "      <td>Effect of Non-surgical Periodontal Treatment o...</td>\n",
       "      <td>Effect of Non-surgical Periodontal Treatment o...</td>\n",
       "      <td>US</td>\n",
       "    </tr>\n",
       "    <tr>\n",
       "      <th>2</th>\n",
       "      <td>NCT03262610</td>\n",
       "      <td>Setemelanotide in a Single Patient With Partia...</td>\n",
       "      <td>Expanded-access for the Use of Setemelanotide ...</td>\n",
       "      <td>US</td>\n",
       "    </tr>\n",
       "    <tr>\n",
       "      <th>3</th>\n",
       "      <td>NCT03264261</td>\n",
       "      <td>Constraint Induced Movement Therapy for Walkin...</td>\n",
       "      <td>Constraint Induced Movement Therapy for Walkin...</td>\n",
       "      <td>US</td>\n",
       "    </tr>\n",
       "  </tbody>\n",
       "</table>\n",
       "</div>"
      ],
      "text/plain": [
       "      trial_id                                        short_title  \\\n",
       "0  NCT03260985     Precision Psychiatry Continuity Clinic Project   \n",
       "1  NCT03268473  Effect of Non-surgical Periodontal Treatment o...   \n",
       "2  NCT03262610  Setemelanotide in a Single Patient With Partia...   \n",
       "3  NCT03264261  Constraint Induced Movement Therapy for Walkin...   \n",
       "\n",
       "                                          long_title trial_indicator  \n",
       "0     Precision Psychiatry Continuity Clinic Project              US  \n",
       "1  Effect of Non-surgical Periodontal Treatment o...              US  \n",
       "2  Expanded-access for the Use of Setemelanotide ...              US  \n",
       "3  Constraint Induced Movement Therapy for Walkin...              US  "
      ]
     },
     "execution_count": 3,
     "metadata": {},
     "output_type": "execute_result"
    }
   ],
   "source": [
    "### us_title\n",
    "\n",
    "df_us = pd.read_csv('../treatment_Data/trial_title/us_title.csv', sep='|')\n",
    "# Add an indicator column\n",
    "df_us['trial_indicator'] = 'US'\n",
    "# Determining duplicates\n",
    "mask = df_us.duplicated(keep=False)\n",
    "double = df_us[mask]   #len(double) = 0 ==> no duplicates in df_us\n",
    "df_us[0:4]"
   ]
  },
  {
   "cell_type": "code",
   "execution_count": 4,
   "metadata": {},
   "outputs": [
    {
     "data": {
      "text/plain": [
       "268859"
      ]
     },
     "execution_count": 4,
     "metadata": {},
     "output_type": "execute_result"
    }
   ],
   "source": [
    "len(df_us)"
   ]
  },
  {
   "cell_type": "code",
   "execution_count": 5,
   "metadata": {},
   "outputs": [
    {
     "data": {
      "text/html": [
       "<div>\n",
       "<style scoped>\n",
       "    .dataframe tbody tr th:only-of-type {\n",
       "        vertical-align: middle;\n",
       "    }\n",
       "\n",
       "    .dataframe tbody tr th {\n",
       "        vertical-align: top;\n",
       "    }\n",
       "\n",
       "    .dataframe thead th {\n",
       "        text-align: right;\n",
       "    }\n",
       "</style>\n",
       "<table border=\"1\" class=\"dataframe\">\n",
       "  <thead>\n",
       "    <tr style=\"text-align: right;\">\n",
       "      <th></th>\n",
       "      <th>trial_id</th>\n",
       "      <th>long_title</th>\n",
       "      <th>trial_indicator</th>\n",
       "    </tr>\n",
       "  </thead>\n",
       "  <tbody>\n",
       "    <tr>\n",
       "      <th>0</th>\n",
       "      <td>2004-000007-18</td>\n",
       "      <td>A Multicentre, Randomised, Double-Blind, Paral...</td>\n",
       "      <td>EU</td>\n",
       "    </tr>\n",
       "    <tr>\n",
       "      <th>1</th>\n",
       "      <td>2004-000012-13</td>\n",
       "      <td>A Double-Blind, Placebo-Controlled, Parallel, ...</td>\n",
       "      <td>EU</td>\n",
       "    </tr>\n",
       "    <tr>\n",
       "      <th>2</th>\n",
       "      <td>2004-000015-25</td>\n",
       "      <td>A phase 3 randomized, placebo-controlled, doub...</td>\n",
       "      <td>EU</td>\n",
       "    </tr>\n",
       "    <tr>\n",
       "      <th>3</th>\n",
       "      <td>2004-000016-10</td>\n",
       "      <td>A 3-MONTH, RANDOMIZED, DOUBLE-BLIND, PLACEBO- ...</td>\n",
       "      <td>EU</td>\n",
       "    </tr>\n",
       "  </tbody>\n",
       "</table>\n",
       "</div>"
      ],
      "text/plain": [
       "         trial_id                                         long_title  \\\n",
       "0  2004-000007-18  A Multicentre, Randomised, Double-Blind, Paral...   \n",
       "1  2004-000012-13  A Double-Blind, Placebo-Controlled, Parallel, ...   \n",
       "2  2004-000015-25  A phase 3 randomized, placebo-controlled, doub...   \n",
       "3  2004-000016-10  A 3-MONTH, RANDOMIZED, DOUBLE-BLIND, PLACEBO- ...   \n",
       "\n",
       "  trial_indicator  \n",
       "0              EU  \n",
       "1              EU  \n",
       "2              EU  \n",
       "3              EU  "
      ]
     },
     "execution_count": 5,
     "metadata": {},
     "output_type": "execute_result"
    }
   ],
   "source": [
    "### eu_title\n",
    "\n",
    "df_eu = pd.read_csv('../treatment_Data/trial_title/eu_title.csv', sep='|')\n",
    "# Add an indicator column\n",
    "df_eu['trial_indicator'] = 'EU'\n",
    "# Determining duplicates\n",
    "mask = df_eu.duplicated(keep=False)\n",
    "double = df_eu[mask]   #len(double) = 0 ==> no duplicates in df_eu\n",
    "df_eu[0:4]"
   ]
  },
  {
   "cell_type": "code",
   "execution_count": 6,
   "metadata": {},
   "outputs": [
    {
     "data": {
      "text/plain": [
       "29592"
      ]
     },
     "execution_count": 6,
     "metadata": {},
     "output_type": "execute_result"
    }
   ],
   "source": [
    "len(df_eu)"
   ]
  },
  {
   "cell_type": "code",
   "execution_count": 7,
   "metadata": {},
   "outputs": [
    {
     "data": {
      "text/html": [
       "<div>\n",
       "<style scoped>\n",
       "    .dataframe tbody tr th:only-of-type {\n",
       "        vertical-align: middle;\n",
       "    }\n",
       "\n",
       "    .dataframe tbody tr th {\n",
       "        vertical-align: top;\n",
       "    }\n",
       "\n",
       "    .dataframe thead th {\n",
       "        text-align: right;\n",
       "    }\n",
       "</style>\n",
       "<table border=\"1\" class=\"dataframe\">\n",
       "  <thead>\n",
       "    <tr style=\"text-align: right;\">\n",
       "      <th></th>\n",
       "      <th>trial_id</th>\n",
       "      <th>short_title</th>\n",
       "      <th>long_title</th>\n",
       "      <th>trial_indicator</th>\n",
       "    </tr>\n",
       "  </thead>\n",
       "  <tbody>\n",
       "    <tr>\n",
       "      <th>0</th>\n",
       "      <td>ACTRN12605000058673</td>\n",
       "      <td>Magnesium in Aneurysmal Subarachnoid Haemorrhage</td>\n",
       "      <td>A multi-centre, single blinded, randomised con...</td>\n",
       "      <td>ICTRP</td>\n",
       "    </tr>\n",
       "    <tr>\n",
       "      <th>1</th>\n",
       "      <td>ACTRN12605000059662</td>\n",
       "      <td>Multicentre, Unblinded, Randomised, Controlled...</td>\n",
       "      <td>Multicentre, Unblinded, Randomised, Controlled...</td>\n",
       "      <td>ICTRP</td>\n",
       "    </tr>\n",
       "    <tr>\n",
       "      <th>2</th>\n",
       "      <td>ACTRN12605000060640</td>\n",
       "      <td>A trial of G-CSF in septic shock excluding mel...</td>\n",
       "      <td>A single centre double blinded randomised cont...</td>\n",
       "      <td>ICTRP</td>\n",
       "    </tr>\n",
       "    <tr>\n",
       "      <th>3</th>\n",
       "      <td>ACTRN12605000061639</td>\n",
       "      <td>Randomised controlled trial of maintenance flu...</td>\n",
       "      <td>Randomised controlled trial of maintenance flu...</td>\n",
       "      <td>ICTRP</td>\n",
       "    </tr>\n",
       "  </tbody>\n",
       "</table>\n",
       "</div>"
      ],
      "text/plain": [
       "              trial_id                                        short_title  \\\n",
       "0  ACTRN12605000058673   Magnesium in Aneurysmal Subarachnoid Haemorrhage   \n",
       "1  ACTRN12605000059662  Multicentre, Unblinded, Randomised, Controlled...   \n",
       "2  ACTRN12605000060640  A trial of G-CSF in septic shock excluding mel...   \n",
       "3  ACTRN12605000061639  Randomised controlled trial of maintenance flu...   \n",
       "\n",
       "                                          long_title trial_indicator  \n",
       "0  A multi-centre, single blinded, randomised con...           ICTRP  \n",
       "1  Multicentre, Unblinded, Randomised, Controlled...           ICTRP  \n",
       "2  A single centre double blinded randomised cont...           ICTRP  \n",
       "3  Randomised controlled trial of maintenance flu...           ICTRP  "
      ]
     },
     "execution_count": 7,
     "metadata": {},
     "output_type": "execute_result"
    }
   ],
   "source": [
    "### ictrp_title\n",
    "\n",
    "df_ictrp = pd.read_csv('../treatment_Data/trial_title/ictrp_title.csv', sep='|')\n",
    "# Add an indicator column\n",
    "df_ictrp['trial_indicator'] = 'ICTRP'\n",
    "# Determining duplicates\n",
    "mask = df_ictrp.duplicated(keep=False)\n",
    "double = df_ictrp[mask]   #len(double) = 0 ==> no duplicates in df_ictrp\n",
    "df_ictrp[0:4]"
   ]
  },
  {
   "cell_type": "code",
   "execution_count": null,
   "metadata": {},
   "outputs": [],
   "source": [
    "len(df_ictrp)"
   ]
  },
  {
   "cell_type": "markdown",
   "metadata": {},
   "source": [
    "### Functions"
   ]
  },
  {
   "cell_type": "code",
   "execution_count": null,
   "metadata": {},
   "outputs": [],
   "source": [
    "### calculate similarity with \"SequenceMatcher\" isJunk space\n",
    "def similar(a, b):\n",
    "    return SequenceMatcher(lambda x: x == \" \", a, b).ratio()"
   ]
  },
  {
   "cell_type": "code",
   "execution_count": null,
   "metadata": {},
   "outputs": [],
   "source": [
    "### count words in the title\n",
    "def word_count(string):\n",
    "    tokens = string.split()\n",
    "    n_tokens = len(tokens)\n",
    "    return n_tokens "
   ]
  },
  {
   "cell_type": "code",
   "execution_count": null,
   "metadata": {},
   "outputs": [],
   "source": [
    "### LIST COMBINATIONS with calculating the similarity\n",
    "def lists_combinations_similarity(list1,list2):\n",
    "    combination_list = []\n",
    "    for i in list1:\n",
    "        for j in list2: \n",
    "            similarity = similar(str(i[2]),str(j[2]))\n",
    "            if (similarity > 0.8) :\n",
    "                trial_id = str(i[0])+' _ '+str(j[0])\n",
    "                trial_indicatror = str(i[1])+' _ '+str(j[1])\n",
    "                title = str(i[2])+' _ '+str(j[2])\n",
    "\n",
    "                new_tuple = (trial_id,trial_indicatror, title, similarity)\n",
    "                combination_list.append(new_tuple)\n",
    "\n",
    "    return(combination_list)"
   ]
  },
  {
   "cell_type": "code",
   "execution_count": null,
   "metadata": {},
   "outputs": [],
   "source": [
    "### LIST COMBINATIONS with calculating the difference in titles length\n",
    "def lists_combinations_length(list1,list2):\n",
    "    combination_list = []\n",
    "    for i in list1:\n",
    "        for j in list2: \n",
    "            diff_length_l = abs(word_count(str(i[2]))-word_count(str(j[2])))\n",
    "            if (diff_length_l < 2) :\n",
    "                trial_id = str(i[0])+' _ '+str(j[0])\n",
    "                trial_indicatror = str(i[1])+' _ '+str(j[1])\n",
    "                title = str(i[2])+' _ '+str(j[2])\n",
    "\n",
    "                new_tuple = (trial_id,trial_indicatror, title, diff_length_l)\n",
    "                combination_list.append(new_tuple)\n",
    "\n",
    "    return(combination_list)"
   ]
  },
  {
   "cell_type": "markdown",
   "metadata": {},
   "source": [
    "### For the short titles"
   ]
  },
  {
   "cell_type": "code",
   "execution_count": 8,
   "metadata": {},
   "outputs": [
    {
     "data": {
      "text/plain": [
       "[('NCT03260985', 'US', 'Precision Psychiatry Continuity Clinic Project'),\n",
       " ('NCT03268473',\n",
       "  'US',\n",
       "  'Effect of Non-surgical Periodontal Treatment on Oxidative Stress and Antioxidant Status in OSAS')]"
      ]
     },
     "execution_count": 8,
     "metadata": {},
     "output_type": "execute_result"
    }
   ],
   "source": [
    "list_short_us = df_us[['trial_id','trial_indicator','short_title']].apply(tuple, axis=1).tolist()\n",
    "list_short_us[0:2]"
   ]
  },
  {
   "cell_type": "code",
   "execution_count": null,
   "metadata": {},
   "outputs": [],
   "source": [
    "list_short_ictrp = df_ictrp[['trial_id','trial_indicator','short_title']].apply(tuple, axis=1).tolist()\n",
    "list_short_ictrp[0:2]"
   ]
  },
  {
   "cell_type": "code",
   "execution_count": null,
   "metadata": {},
   "outputs": [],
   "source": [
    "### test for short titles\n",
    "us = list_short_us[0:50000]\n",
    "ictrp = list_short_ictrp[0:50000]\n",
    "us_ictrp = lists_combinations_length(us,ictrp) \n",
    "df_us_ictrp = pd.DataFrame(us_ictrp, columns=['id1_id2', 'indicator1_indicator2', 'shorttitle1_shorttitle2', 'diff_length_s'])"
   ]
  },
  {
   "cell_type": "code",
   "execution_count": null,
   "metadata": {},
   "outputs": [],
   "source": [
    "df_us_ictrp[0:4]"
   ]
  },
  {
   "cell_type": "code",
   "execution_count": null,
   "metadata": {},
   "outputs": [],
   "source": [
    "len(df_us_ictrp)"
   ]
  },
  {
   "cell_type": "code",
   "execution_count": null,
   "metadata": {},
   "outputs": [],
   "source": [
    "### test for short titles CONTINUES\n",
    "us = list_short_us[0:10000]\n",
    "ictrp_con = list_short_ictrp[10000:108931]\n",
    "us_ictrp_con = lists_combinations_length(us,ictrp_con) \n",
    "df_us_ictrp.append(us_ictrp_con)"
   ]
  },
  {
   "cell_type": "code",
   "execution_count": null,
   "metadata": {},
   "outputs": [],
   "source": [
    "len(us_ictrp_con)"
   ]
  },
  {
   "cell_type": "code",
   "execution_count": null,
   "metadata": {},
   "outputs": [],
   "source": [
    "len(df_us_ictrp)"
   ]
  },
  {
   "cell_type": "code",
   "execution_count": null,
   "metadata": {},
   "outputs": [],
   "source": [
    "df_us_ictrp.to_excel('us_ictrp.xlsx')"
   ]
  },
  {
   "cell_type": "code",
   "execution_count": null,
   "metadata": {},
   "outputs": [],
   "source": [
    "with open('./Pickles/df_us_ictrp.pickle', 'wb') as f:\n",
    "   pickle.dump(df_us_ictrp, f)"
   ]
  },
  {
   "cell_type": "code",
   "execution_count": null,
   "metadata": {},
   "outputs": [],
   "source": []
  },
  {
   "cell_type": "code",
   "execution_count": null,
   "metadata": {},
   "outputs": [],
   "source": [
    "list_short_title = lists_combinations_length(list_short_us,list_short_ictrp)"
   ]
  },
  {
   "cell_type": "code",
   "execution_count": null,
   "metadata": {},
   "outputs": [],
   "source": [
    "df_all_short_titles = pd.DataFrame(list_us_ictrp, columns=['id1_id2', 'indicator1_indicator2', 'shorttitle1_shorttitle2', 'diff_length_s'])\n",
    "df_all_short_titles[0:5]"
   ]
  },
  {
   "cell_type": "code",
   "execution_count": null,
   "metadata": {},
   "outputs": [],
   "source": []
  },
  {
   "cell_type": "markdown",
   "metadata": {},
   "source": [
    "### For the long titles"
   ]
  },
  {
   "cell_type": "code",
   "execution_count": null,
   "metadata": {},
   "outputs": [],
   "source": [
    "list_long_us = df_us[['trial_id','trial_indicator','long_title']].apply(tuple, axis=1).tolist()\n",
    "list_long_us[0:2]"
   ]
  },
  {
   "cell_type": "code",
   "execution_count": null,
   "metadata": {},
   "outputs": [],
   "source": [
    "list_long_ictrp = df_ictrp[['trial_id','trial_indicator','long_title']].apply(tuple, axis=1).tolist()\n",
    "list_long_ictrp[0:2]"
   ]
  },
  {
   "cell_type": "code",
   "execution_count": null,
   "metadata": {},
   "outputs": [],
   "source": [
    "list_long_eu = df_eu[['trial_id','trial_indicator','long_title']].apply(tuple, axis=1).tolist()\n",
    "list_long_eu[0:2]"
   ]
  },
  {
   "cell_type": "code",
   "execution_count": null,
   "metadata": {},
   "outputs": [],
   "source": [
    "list_long_us_ictrp = lists_combinations_length(list_long_us,list_long_ictrp)"
   ]
  },
  {
   "cell_type": "code",
   "execution_count": null,
   "metadata": {},
   "outputs": [],
   "source": [
    "list_long_us_eu = lists_combinations_length(list_long_us,list_long_eu)"
   ]
  },
  {
   "cell_type": "code",
   "execution_count": null,
   "metadata": {},
   "outputs": [],
   "source": [
    "list_long_ictrp_eu = lists_combinations_length(list_long_ictrp,list_long_eu)"
   ]
  },
  {
   "cell_type": "code",
   "execution_count": null,
   "metadata": {},
   "outputs": [],
   "source": [
    "list_long_title = list_long_us_ictrp + list_long_us_eu + list_long_ictrp_eu"
   ]
  },
  {
   "cell_type": "code",
   "execution_count": null,
   "metadata": {},
   "outputs": [],
   "source": [
    "df_all_long_titles = pd.DataFrame(list_long_title, columns=['id1_id2', 'indicator1_indicator2', 'longtitle1_longtitle2', 'diff_length_l'])\n",
    "df_all_long_titles[0:5]\n"
   ]
  },
  {
   "cell_type": "code",
   "execution_count": null,
   "metadata": {},
   "outputs": [],
   "source": []
  },
  {
   "cell_type": "code",
   "execution_count": null,
   "metadata": {},
   "outputs": [],
   "source": [
    "### test for long titles us and ictrp\n",
    "us = list_long_us[0:100]\n",
    "ictrp = list_long_ictrp[0:100]\n",
    "us_ictrp_long = lists_combinations_length(us,ictrp)\n",
    "df_long_us_ictrp = pd.DataFrame(us_ictrp_long, columns=['id1_id2', 'indicator1_indicator2', 'longtitle1_longtitle2', 'diff_length_l'])\n"
   ]
  },
  {
   "cell_type": "code",
   "execution_count": null,
   "metadata": {},
   "outputs": [],
   "source": [
    "df_long_us_ictrp.head()"
   ]
  },
  {
   "cell_type": "code",
   "execution_count": null,
   "metadata": {
    "scrolled": true
   },
   "outputs": [],
   "source": [
    "### test with DASK DELAYED for long titles\n",
    "us = list_long_us[0:1000]\n",
    "eu = list_long_eu[0:1000]\n",
    "ictrp = list_long_ictrp[0:1000]\n",
    "\n",
    "us_ictrp_long_new = delayed(lists_combinations)(us,ictrp)\n",
    "us_eu_long_new = delayed(lists_combinations)(us,eu) \n",
    "eu_ictrp_long_new = delayed(lists_combinations)(eu,ictrp)\n",
    "\n",
    "list_long_titles = us_ictrp_long_new + us_eu_long_new + eu_ictrp_long_new\n",
    "#list_long_titles.compute()\n",
    "\n",
    "#df_all_long_titles = pd.DataFrame(list_long_titles, columns=['id1_id2', 'indicator1_indicator2', 'longtitle1_longtitle2', 'similarity'])\n",
    "#list_long_titles[0]\n"
   ]
  },
  {
   "cell_type": "code",
   "execution_count": null,
   "metadata": {
    "scrolled": true
   },
   "outputs": [],
   "source": [
    "list_long_titles.visualize()"
   ]
  },
  {
   "cell_type": "code",
   "execution_count": null,
   "metadata": {},
   "outputs": [],
   "source": [
    "list_long_titles.compute()"
   ]
  },
  {
   "cell_type": "code",
   "execution_count": null,
   "metadata": {},
   "outputs": [],
   "source": [
    "df_all_long_titles = pd.DataFrame(list_long_titles.compute(), columns=['id1_id2', 'indicator1_indicator2', 'longtitle1_longtitle2', 'diff_length_l'])\n",
    "df_all_long_titles[0:5]"
   ]
  },
  {
   "cell_type": "code",
   "execution_count": null,
   "metadata": {},
   "outputs": [],
   "source": []
  }
 ],
 "metadata": {
  "kernelspec": {
   "display_name": "Python 3",
   "language": "python",
   "name": "python3"
  },
  "language_info": {
   "codemirror_mode": {
    "name": "ipython",
    "version": 3
   },
   "file_extension": ".py",
   "mimetype": "text/x-python",
   "name": "python",
   "nbconvert_exporter": "python",
   "pygments_lexer": "ipython3",
   "version": "3.6.5"
  }
 },
 "nbformat": 4,
 "nbformat_minor": 2
}
