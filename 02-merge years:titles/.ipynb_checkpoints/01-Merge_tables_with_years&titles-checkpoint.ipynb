{
 "cells": [
  {
   "cell_type": "code",
   "execution_count": 2,
   "metadata": {},
   "outputs": [],
   "source": [
    "import pandas as pd\n",
    "import csv\n",
    "import re\n",
    "import string\n",
    "from functools import reduce\n",
    "from difflib import SequenceMatcher"
   ]
  },
  {
   "cell_type": "markdown",
   "metadata": {},
   "source": [
    "### US_data"
   ]
  },
  {
   "cell_type": "code",
   "execution_count": 288,
   "metadata": {},
   "outputs": [
    {
     "data": {
      "text/html": [
       "<div>\n",
       "<style scoped>\n",
       "    .dataframe tbody tr th:only-of-type {\n",
       "        vertical-align: middle;\n",
       "    }\n",
       "\n",
       "    .dataframe tbody tr th {\n",
       "        vertical-align: top;\n",
       "    }\n",
       "\n",
       "    .dataframe thead th {\n",
       "        text-align: right;\n",
       "    }\n",
       "</style>\n",
       "<table border=\"1\" class=\"dataframe\">\n",
       "  <thead>\n",
       "    <tr style=\"text-align: right;\">\n",
       "      <th></th>\n",
       "      <th>trial_id</th>\n",
       "      <th>start_year</th>\n",
       "      <th>short_title</th>\n",
       "      <th>long_title</th>\n",
       "    </tr>\n",
       "  </thead>\n",
       "  <tbody>\n",
       "    <tr>\n",
       "      <th>0</th>\n",
       "      <td>NCT03260985</td>\n",
       "      <td>2017.0</td>\n",
       "      <td>Precision Psychiatry Continuity Clinic Project</td>\n",
       "      <td>Precision Psychiatry Continuity Clinic Project</td>\n",
       "    </tr>\n",
       "    <tr>\n",
       "      <th>1</th>\n",
       "      <td>NCT03268473</td>\n",
       "      <td>2017.0</td>\n",
       "      <td>Effect of Non-surgical Periodontal Treatment o...</td>\n",
       "      <td>Effect of Non-surgical Periodontal Treatment o...</td>\n",
       "    </tr>\n",
       "    <tr>\n",
       "      <th>2</th>\n",
       "      <td>NCT03262610</td>\n",
       "      <td>NaN</td>\n",
       "      <td>Setemelanotide in a Single Patient With Partia...</td>\n",
       "      <td>Expanded-access for the Use of Setemelanotide ...</td>\n",
       "    </tr>\n",
       "  </tbody>\n",
       "</table>\n",
       "</div>"
      ],
      "text/plain": [
       "      trial_id  start_year                                        short_title  \\\n",
       "0  NCT03260985      2017.0     Precision Psychiatry Continuity Clinic Project   \n",
       "1  NCT03268473      2017.0  Effect of Non-surgical Periodontal Treatment o...   \n",
       "2  NCT03262610         NaN  Setemelanotide in a Single Patient With Partia...   \n",
       "\n",
       "                                          long_title  \n",
       "0     Precision Psychiatry Continuity Clinic Project  \n",
       "1  Effect of Non-surgical Periodontal Treatment o...  \n",
       "2  Expanded-access for the Use of Setemelanotide ...  "
      ]
     },
     "execution_count": 288,
     "metadata": {},
     "output_type": "execute_result"
    }
   ],
   "source": [
    "### us_years\n",
    "df_us_years = pd.read_csv('../trial_years/us_year.csv', sep='|')\n",
    "# Determining duplicates\n",
    "mask = df_us_years.duplicated(keep=False)\n",
    "double = df_us_years[mask]  #len(double) = 0 ==> no duplicates in df_us_years\n",
    "\n",
    "### us_titles\n",
    "df_us_titles = pd.read_csv('../trial_title/us_title.csv', sep='|')\n",
    "# Determining duplicates\n",
    "mask = df_us_titles.duplicated(keep=False)\n",
    "double = df_us_titles[mask]  #len(double) = 0 ==> no duplicates in df_us_titles\n",
    "\n",
    "### merge us_years with us_titles\n",
    "df_us = pd.merge(df_us_years, df_us_titles, on='trial_id')\n",
    "df_us[0:3]"
   ]
  },
  {
   "cell_type": "code",
   "execution_count": 289,
   "metadata": {},
   "outputs": [
    {
     "data": {
      "text/plain": [
       "268859"
      ]
     },
     "execution_count": 289,
     "metadata": {},
     "output_type": "execute_result"
    }
   ],
   "source": [
    "len(df_us)"
   ]
  },
  {
   "cell_type": "markdown",
   "metadata": {},
   "source": [
    "### EU_data"
   ]
  },
  {
   "cell_type": "code",
   "execution_count": 290,
   "metadata": {},
   "outputs": [
    {
     "data": {
      "text/html": [
       "<div>\n",
       "<style scoped>\n",
       "    .dataframe tbody tr th:only-of-type {\n",
       "        vertical-align: middle;\n",
       "    }\n",
       "\n",
       "    .dataframe tbody tr th {\n",
       "        vertical-align: top;\n",
       "    }\n",
       "\n",
       "    .dataframe thead th {\n",
       "        text-align: right;\n",
       "    }\n",
       "</style>\n",
       "<table border=\"1\" class=\"dataframe\">\n",
       "  <thead>\n",
       "    <tr style=\"text-align: right;\">\n",
       "      <th></th>\n",
       "      <th>trial_id</th>\n",
       "      <th>start_year</th>\n",
       "      <th>long_title</th>\n",
       "    </tr>\n",
       "  </thead>\n",
       "  <tbody>\n",
       "    <tr>\n",
       "      <th>0</th>\n",
       "      <td>2004-000007-18</td>\n",
       "      <td>2004.0</td>\n",
       "      <td>A Multicentre, Randomised, Double-Blind, Paral...</td>\n",
       "    </tr>\n",
       "    <tr>\n",
       "      <th>1</th>\n",
       "      <td>2004-000012-13</td>\n",
       "      <td>2004.0</td>\n",
       "      <td>A Double-Blind, Placebo-Controlled, Parallel, ...</td>\n",
       "    </tr>\n",
       "    <tr>\n",
       "      <th>2</th>\n",
       "      <td>2004-000015-25</td>\n",
       "      <td>2004.0</td>\n",
       "      <td>A phase 3 randomized, placebo-controlled, doub...</td>\n",
       "    </tr>\n",
       "  </tbody>\n",
       "</table>\n",
       "</div>"
      ],
      "text/plain": [
       "         trial_id  start_year  \\\n",
       "0  2004-000007-18      2004.0   \n",
       "1  2004-000012-13      2004.0   \n",
       "2  2004-000015-25      2004.0   \n",
       "\n",
       "                                          long_title  \n",
       "0  A Multicentre, Randomised, Double-Blind, Paral...  \n",
       "1  A Double-Blind, Placebo-Controlled, Parallel, ...  \n",
       "2  A phase 3 randomized, placebo-controlled, doub...  "
      ]
     },
     "execution_count": 290,
     "metadata": {},
     "output_type": "execute_result"
    }
   ],
   "source": [
    "### eu_years\n",
    "df_eu_years = pd.read_csv('../trial_years/eu_year.csv', sep='|')\n",
    "df_eu_years = df_eu_years.drop(['id','EU','US','ICTRP','Japan','ANZCTR','Iran','China','India','Africa','Korea','Brazil','Thai','Peru','Cuba','SriLanka','check'], axis=1)\n",
    "# Determining duplicates\n",
    "mask = df_eu_years.duplicated(keep=False)\n",
    "double = df_eu_years[mask]  #len(double) = 0 ==> no duplicates in df_eu_years\n",
    "\n",
    "\n",
    "### eu_titles\n",
    "df_eu_titles = pd.read_csv('../trial_title/eu_title.csv', sep='|')\n",
    "# Determining duplicates\n",
    "mask = df_eu_titles.duplicated(keep=False)\n",
    "double = df_eu_titles[mask]  #len(double) = 0 ==> no duplicates in df_us_titles\n",
    "\n",
    "### merge eu_years with eu_titles\n",
    "df_eu = pd.merge(df_eu_years, df_eu_titles, on='trial_id')\n",
    "df_eu[0:3]\n"
   ]
  },
  {
   "cell_type": "code",
   "execution_count": 291,
   "metadata": {},
   "outputs": [
    {
     "data": {
      "text/plain": [
       "29588"
      ]
     },
     "execution_count": 291,
     "metadata": {},
     "output_type": "execute_result"
    }
   ],
   "source": [
    "len(df_eu)"
   ]
  },
  {
   "cell_type": "markdown",
   "metadata": {},
   "source": [
    "### ICTRP_data"
   ]
  },
  {
   "cell_type": "code",
   "execution_count": 292,
   "metadata": {},
   "outputs": [
    {
     "data": {
      "text/html": [
       "<div>\n",
       "<style scoped>\n",
       "    .dataframe tbody tr th:only-of-type {\n",
       "        vertical-align: middle;\n",
       "    }\n",
       "\n",
       "    .dataframe tbody tr th {\n",
       "        vertical-align: top;\n",
       "    }\n",
       "\n",
       "    .dataframe thead th {\n",
       "        text-align: right;\n",
       "    }\n",
       "</style>\n",
       "<table border=\"1\" class=\"dataframe\">\n",
       "  <thead>\n",
       "    <tr style=\"text-align: right;\">\n",
       "      <th></th>\n",
       "      <th>trial_id</th>\n",
       "      <th>start_year</th>\n",
       "      <th>short_title</th>\n",
       "      <th>long_title</th>\n",
       "    </tr>\n",
       "  </thead>\n",
       "  <tbody>\n",
       "    <tr>\n",
       "      <th>0</th>\n",
       "      <td>ACTRN12605000058673</td>\n",
       "      <td>2005.0</td>\n",
       "      <td>Magnesium in Aneurysmal Subarachnoid Haemorrhage</td>\n",
       "      <td>A multi-centre, single blinded, randomised con...</td>\n",
       "    </tr>\n",
       "    <tr>\n",
       "      <th>1</th>\n",
       "      <td>ACTRN12605000059662</td>\n",
       "      <td>2005.0</td>\n",
       "      <td>Multicentre, Unblinded, Randomised, Controlled...</td>\n",
       "      <td>Multicentre, Unblinded, Randomised, Controlled...</td>\n",
       "    </tr>\n",
       "    <tr>\n",
       "      <th>2</th>\n",
       "      <td>ACTRN12605000060640</td>\n",
       "      <td>2003.0</td>\n",
       "      <td>A trial of G-CSF in septic shock excluding mel...</td>\n",
       "      <td>A single centre double blinded randomised cont...</td>\n",
       "    </tr>\n",
       "  </tbody>\n",
       "</table>\n",
       "</div>"
      ],
      "text/plain": [
       "              trial_id  start_year  \\\n",
       "0  ACTRN12605000058673      2005.0   \n",
       "1  ACTRN12605000059662      2005.0   \n",
       "2  ACTRN12605000060640      2003.0   \n",
       "\n",
       "                                         short_title  \\\n",
       "0   Magnesium in Aneurysmal Subarachnoid Haemorrhage   \n",
       "1  Multicentre, Unblinded, Randomised, Controlled...   \n",
       "2  A trial of G-CSF in septic shock excluding mel...   \n",
       "\n",
       "                                          long_title  \n",
       "0  A multi-centre, single blinded, randomised con...  \n",
       "1  Multicentre, Unblinded, Randomised, Controlled...  \n",
       "2  A single centre double blinded randomised cont...  "
      ]
     },
     "execution_count": 292,
     "metadata": {},
     "output_type": "execute_result"
    }
   ],
   "source": [
    "### ictrp_years\n",
    "df_ictrp_years = pd.read_csv('../trial_years/ictrp_year.csv', sep='|')\n",
    "df_ictrp_years = df_ictrp_years.drop(['id','EU','US','ICTRP','Japan','ANZCTR','Iran','China','India','Africa','Korea','Brazil','Thai','Peru','Cuba','SriLanka','check'], axis=1)\n",
    "# Determining duplicates\n",
    "mask = df_ictrp_years.duplicated(keep=False)\n",
    "double = df_ictrp_years[mask]  #len(double) = 0 ==> no duplicates in df_ictrp_years\n",
    "\n",
    "\n",
    "### ictrp_titles\n",
    "df_ictrp_titles = pd.read_csv('../trial_title/ictrp_title.csv', sep='|')\n",
    "# Determining duplicates\n",
    "mask = df_ictrp_titles.duplicated(keep=False)\n",
    "double = df_ictrp_titles[mask]  #len(double) = 0 ==> no duplicates in df_ictrp_titles\n",
    "\n",
    "### merge ictrp_years with ictrp_titles\n",
    "df_ictrp = pd.merge(df_ictrp_years, df_ictrp_titles, on='trial_id')\n",
    "df_ictrp[0:3]\n"
   ]
  },
  {
   "cell_type": "code",
   "execution_count": 293,
   "metadata": {},
   "outputs": [
    {
     "data": {
      "text/plain": [
       "108931"
      ]
     },
     "execution_count": 293,
     "metadata": {},
     "output_type": "execute_result"
    }
   ],
   "source": [
    "len(df_ictrp)"
   ]
  },
  {
   "cell_type": "markdown",
   "metadata": {},
   "source": [
    "### 1 - Divide the data where the long_title/short_title infos EXIST or NOT"
   ]
  },
  {
   "cell_type": "markdown",
   "metadata": {},
   "source": [
    "First, we noticed that there are some data where the \"long_title\" and \"short_title\" infos are missing, and this will not help in the comparison, \n",
    "we will then divide the dfs data into 2 sub_dfs : df_complete & df_with_nan"
   ]
  },
  {
   "cell_type": "code",
   "execution_count": 294,
   "metadata": {},
   "outputs": [
    {
     "name": "stdout",
     "output_type": "stream",
     "text": [
      "--- FOR US ---\n",
      "US data with complete info : 258398\n",
      "US data with missing info : 10461\n"
     ]
    }
   ],
   "source": [
    "# US\n",
    "df_us_complete = df_us.dropna(subset=['long_title','short_title'])\n",
    "df_us_with_nan = df_us.merge(df_us_complete, how='outer', indicator=True).query('_merge == \"left_only\"').drop('_merge', 1)\n",
    "\n",
    "print('--- FOR US ---')\n",
    "print('US data with complete info :', len(df_us_complete))\n",
    "print('US data with missing info :', len(df_us_with_nan)) "
   ]
  },
  {
   "cell_type": "code",
   "execution_count": 295,
   "metadata": {},
   "outputs": [
    {
     "name": "stdout",
     "output_type": "stream",
     "text": [
      "--- FOR EU ---\n",
      "EU data with complete info : 29399\n",
      "EU data with missing info : 189\n"
     ]
    }
   ],
   "source": [
    "# EU\n",
    "df_eu_complete = df_eu.dropna(subset=['long_title'])\n",
    "df_eu_with_nan = df_eu.merge(df_eu_complete, how='outer', indicator=True).query('_merge == \"left_only\"').drop('_merge', 1)\n",
    "\n",
    "print('--- FOR EU ---')\n",
    "print('EU data with complete info :', len(df_eu_complete))\n",
    "print('EU data with missing info :', len(df_eu_with_nan)) "
   ]
  },
  {
   "cell_type": "code",
   "execution_count": 297,
   "metadata": {},
   "outputs": [
    {
     "name": "stdout",
     "output_type": "stream",
     "text": [
      "--- FOR ICTRP ---\n",
      "ICTRP data with complete info : 73704\n",
      "ICTRP data with missing info : 35227\n"
     ]
    }
   ],
   "source": [
    "# ICTRP\n",
    "df_ictrp_complete = df_ictrp.dropna(subset=['long_title', 'short_title'])\n",
    "df_ictrp_with_nan = df_ictrp.merge(df_ictrp_complete, how='outer', indicator=True).query('_merge == \"left_only\"').drop('_merge', 1)\n",
    "\n",
    "print('--- FOR ICTRP ---')\n",
    "print('ICTRP data with complete info :', len(df_ictrp_complete))\n",
    "print('ICTRP data with missing info :', len(df_ictrp_with_nan)) "
   ]
  },
  {
   "cell_type": "code",
   "execution_count": 166,
   "metadata": {},
   "outputs": [
    {
     "data": {
      "text/html": [
       "<div>\n",
       "<style scoped>\n",
       "    .dataframe tbody tr th:only-of-type {\n",
       "        vertical-align: middle;\n",
       "    }\n",
       "\n",
       "    .dataframe tbody tr th {\n",
       "        vertical-align: top;\n",
       "    }\n",
       "\n",
       "    .dataframe thead th {\n",
       "        text-align: right;\n",
       "    }\n",
       "</style>\n",
       "<table border=\"1\" class=\"dataframe\">\n",
       "  <thead>\n",
       "    <tr style=\"text-align: right;\">\n",
       "      <th></th>\n",
       "      <th>trial_id</th>\n",
       "      <th>start_year</th>\n",
       "      <th>short_title</th>\n",
       "      <th>long_title</th>\n",
       "    </tr>\n",
       "  </thead>\n",
       "  <tbody>\n",
       "    <tr>\n",
       "      <th>24</th>\n",
       "      <td>NCT03267225</td>\n",
       "      <td>2016.0</td>\n",
       "      <td>Study on the Genetic Determinants of Clindamyc...</td>\n",
       "      <td>NaN</td>\n",
       "    </tr>\n",
       "    <tr>\n",
       "      <th>578</th>\n",
       "      <td>NCT03260153</td>\n",
       "      <td>2017.0</td>\n",
       "      <td>Deproteinised Calf Blood Serum Injection for t...</td>\n",
       "      <td>NaN</td>\n",
       "    </tr>\n",
       "  </tbody>\n",
       "</table>\n",
       "</div>"
      ],
      "text/plain": [
       "        trial_id  start_year  \\\n",
       "24   NCT03267225      2016.0   \n",
       "578  NCT03260153      2017.0   \n",
       "\n",
       "                                           short_title long_title  \n",
       "24   Study on the Genetic Determinants of Clindamyc...        NaN  \n",
       "578  Deproteinised Calf Blood Serum Injection for t...        NaN  "
      ]
     },
     "execution_count": 166,
     "metadata": {},
     "output_type": "execute_result"
    }
   ],
   "source": [
    "df_us_with_nan[0:2]"
   ]
  },
  {
   "cell_type": "code",
   "execution_count": 285,
   "metadata": {},
   "outputs": [
    {
     "data": {
      "text/plain": [
       "73704"
      ]
     },
     "execution_count": 285,
     "metadata": {},
     "output_type": "execute_result"
    }
   ],
   "source": [
    "len(df_ictrp_complete)"
   ]
  },
  {
   "cell_type": "code",
   "execution_count": null,
   "metadata": {},
   "outputs": [],
   "source": [
    "#save the data\n",
    "df_us_complete.to_csv('../data/us_ltitles_complete.csv',sep='|')\n",
    "df_eu_complete.to_csv('../data/eu_ltitles_complete.csv',sep='|')\n",
    "df_ictrp_complete.to_csv('../data/ictrp_ltitles_complete.csv',sep='|')"
   ]
  },
  {
   "cell_type": "markdown",
   "metadata": {},
   "source": [
    "### 2 - Create lists: (trial_id, start_year, long_title)"
   ]
  },
  {
   "cell_type": "code",
   "execution_count": 167,
   "metadata": {},
   "outputs": [
    {
     "data": {
      "text/plain": [
       "[['NCT03260985', 2017.0, 'Precision Psychiatry Continuity Clinic Project']]"
      ]
     },
     "execution_count": 167,
     "metadata": {},
     "output_type": "execute_result"
    }
   ],
   "source": [
    "#US\n",
    "list_us = df_us_complete[['trial_id','start_year', 'long_title']].values.tolist()\n",
    "list_us[0:1]"
   ]
  },
  {
   "cell_type": "code",
   "execution_count": 168,
   "metadata": {},
   "outputs": [
    {
     "data": {
      "text/plain": [
       "[['2004-000007-18',\n",
       "  2004.0,\n",
       "  'A Multicentre, Randomised, Double-Blind, Parallel Group, 24 Week Study to Compare the Effect of the Salmeterol/Fluticasone Propionate Combination Product (SERETIDE) 50/250mcg with Salmeterol 50mcg Both Delivered Twice Daily via the DISKUS/ACCUHALER Inhaler on Lung Function and Dyspnoea in Subjects With Chronic Obstructive Pulmonary Disease (COPD).']]"
      ]
     },
     "execution_count": 168,
     "metadata": {},
     "output_type": "execute_result"
    }
   ],
   "source": [
    "#EU\n",
    "list_eu = df_eu_complete[['trial_id','start_year', 'long_title']].values.tolist()\n",
    "list_eu[0:1]"
   ]
  },
  {
   "cell_type": "code",
   "execution_count": 169,
   "metadata": {},
   "outputs": [
    {
     "data": {
      "text/plain": [
       "[['ACTRN12605000058673',\n",
       "  2005.0,\n",
       "  'A multi-centre, single blinded, randomised controlled trial of two target ranges for serum magnesium in patients with Subarachnoid Haemorrhage to reduce vasospasm']]"
      ]
     },
     "execution_count": 169,
     "metadata": {},
     "output_type": "execute_result"
    }
   ],
   "source": [
    "#ICTRP\n",
    "list_ictrp = df_ictrp_complete[['trial_id','start_year', 'long_title']].values.tolist()\n",
    "list_ictrp[0:1]"
   ]
  },
  {
   "cell_type": "markdown",
   "metadata": {},
   "source": [
    "### 3 - Functions"
   ]
  },
  {
   "cell_type": "code",
   "execution_count": 3,
   "metadata": {},
   "outputs": [],
   "source": [
    "### calculate similarity with \"SequenceMatcher\" where space isJunk \n",
    "def similar(a, b):\n",
    "    return SequenceMatcher(lambda x: x == \" \", a.lower(), b.lower()).ratio()"
   ]
  },
  {
   "cell_type": "code",
   "execution_count": 274,
   "metadata": {},
   "outputs": [],
   "source": [
    "### LIST COMBINATIONS with calculating the difference in the years and titles length\n",
    "def lists_combinations(list1,list2):\n",
    "    combination_list = []\n",
    "    #list = [id,year,title]\n",
    "    for i in list1:\n",
    "        for j in list2:\n",
    "            \n",
    "            id1 = str(i[0])\n",
    "            id2 = str(j[0])\n",
    "            year1 = i[1]\n",
    "            year2 = j[1]\n",
    "            title1 = i[2]\n",
    "            title2 = j[2]\n",
    "            \n",
    "            ltitle1 = re.escape(title1).lower()\n",
    "            ltitle1 = ltitle1.translate(str.maketrans('','',string.punctuation + string.whitespace))\n",
    "            ltitle2 = re.escape(title2).lower()\n",
    "            ltitle2 = ltitle2.translate(str.maketrans('','',string.punctuation + string.whitespace))\n",
    "            \n",
    "            sim = similar(ltitle1,ltitle2)\n",
    "            \n",
    "            if (pd.isnull(year1)) or (pd.isnull(year2)):\n",
    "                \n",
    "                if ((ltitle1 in ltitle2) or (ltitle2 in ltitle1) or (sim > 0.8)) :\n",
    "                #or (sim > 0.22) After testing, we found that when the similarity is 0.8 and above, the two titles are almost identical\n",
    "                 \n",
    "                    new_tuple = (id1,year1,title1,id2,year2,title2,sim)\n",
    "                    combination_list.append(new_tuple) \n",
    "                    \n",
    "            else:\n",
    "                \n",
    "                diff = abs(year1 - year2)\n",
    "                if ((diff < 2) and ((ltitle1 in ltitle2) or (ltitle2 in ltitle1)or (sim > 0.8))) :\n",
    "                    \n",
    "                    new_tuple = (id1,year1,title1,id2,year2,title2,sim)\n",
    "                    combination_list.append(new_tuple) \n",
    "\n",
    "    return(combination_list)"
   ]
  },
  {
   "cell_type": "code",
   "execution_count": null,
   "metadata": {},
   "outputs": [],
   "source": []
  },
  {
   "cell_type": "code",
   "execution_count": null,
   "metadata": {},
   "outputs": [],
   "source": []
  },
  {
   "cell_type": "markdown",
   "metadata": {},
   "source": [
    "### TEST"
   ]
  },
  {
   "cell_type": "code",
   "execution_count": 216,
   "metadata": {},
   "outputs": [
    {
     "data": {
      "text/html": [
       "<div>\n",
       "<style scoped>\n",
       "    .dataframe tbody tr th:only-of-type {\n",
       "        vertical-align: middle;\n",
       "    }\n",
       "\n",
       "    .dataframe tbody tr th {\n",
       "        vertical-align: top;\n",
       "    }\n",
       "\n",
       "    .dataframe thead th {\n",
       "        text-align: right;\n",
       "    }\n",
       "</style>\n",
       "<table border=\"1\" class=\"dataframe\">\n",
       "  <thead>\n",
       "    <tr style=\"text-align: right;\">\n",
       "      <th></th>\n",
       "      <th>id_EU</th>\n",
       "      <th>year_EU</th>\n",
       "      <th>long_title_EU</th>\n",
       "      <th>id_ICTRP</th>\n",
       "      <th>year_ICTRP</th>\n",
       "      <th>long_title_ICTRP</th>\n",
       "      <th>similarity</th>\n",
       "    </tr>\n",
       "  </thead>\n",
       "  <tbody>\n",
       "  </tbody>\n",
       "</table>\n",
       "</div>"
      ],
      "text/plain": [
       "Empty DataFrame\n",
       "Columns: [id_EU, year_EU, long_title_EU, id_ICTRP, year_ICTRP, long_title_ICTRP, similarity]\n",
       "Index: []"
      ]
     },
     "execution_count": 216,
     "metadata": {},
     "output_type": "execute_result"
    }
   ],
   "source": [
    "### eu_ictrp\n",
    "eu = list_eu[0:15]\n",
    "ictrp = list_ictrp[6000:6000]\n",
    "eu_ictrp = lists_combinations(eu,ictrp) \n",
    "df_eu_ictrp = pd.DataFrame(eu_ictrp, columns=['id_EU','year_EU','long_title_EU','id_ICTRP','year_ICTRP','long_title_ICTRP','similarity'])\n",
    "df_eu_ictrp"
   ]
  },
  {
   "cell_type": "code",
   "execution_count": 60,
   "metadata": {},
   "outputs": [
    {
     "name": "stdout",
     "output_type": "stream",
     "text": [
      "A Randomized, Double-Blind, Placebo-Controlled, Phase 3 Study of the Safety and Efficacy of Interferon gamma-Ib in patients with Idiopathic Pulmonary Fibrosis\n",
      "////////////\n",
      "A Randomized, Double-Blind, Placebo-Controlled Pharmacokinetic Study of the Chrono Nicotine Replacement Therapy System for adult male smokers\n"
     ]
    }
   ],
   "source": [
    "print(df_eu_ictrp.long_title_EU[0])\n",
    "print(\"////////////\")\n",
    "print(df_eu_ictrp.long_title_ICTRP[0])"
   ]
  },
  {
   "cell_type": "code",
   "execution_count": null,
   "metadata": {},
   "outputs": [],
   "source": []
  },
  {
   "cell_type": "code",
   "execution_count": 281,
   "metadata": {},
   "outputs": [
    {
     "data": {
      "text/html": [
       "<div>\n",
       "<style scoped>\n",
       "    .dataframe tbody tr th:only-of-type {\n",
       "        vertical-align: middle;\n",
       "    }\n",
       "\n",
       "    .dataframe tbody tr th {\n",
       "        vertical-align: top;\n",
       "    }\n",
       "\n",
       "    .dataframe thead th {\n",
       "        text-align: right;\n",
       "    }\n",
       "</style>\n",
       "<table border=\"1\" class=\"dataframe\">\n",
       "  <thead>\n",
       "    <tr style=\"text-align: right;\">\n",
       "      <th></th>\n",
       "      <th>id_US</th>\n",
       "      <th>year_US</th>\n",
       "      <th>long_title_US</th>\n",
       "      <th>id_ICTRP</th>\n",
       "      <th>year_ICTRP</th>\n",
       "      <th>long_title_ICTRP</th>\n",
       "      <th>similarity</th>\n",
       "    </tr>\n",
       "  </thead>\n",
       "  <tbody>\n",
       "  </tbody>\n",
       "</table>\n",
       "</div>"
      ],
      "text/plain": [
       "Empty DataFrame\n",
       "Columns: [id_US, year_US, long_title_US, id_ICTRP, year_ICTRP, long_title_ICTRP, similarity]\n",
       "Index: []"
      ]
     },
     "execution_count": 281,
     "metadata": {},
     "output_type": "execute_result"
    }
   ],
   "source": [
    "### us_ictrp\n",
    "us = list_us[300:400]\n",
    "ictrp = list_ictrp[7500:7750]\n",
    "us_ictrp = lists_combinations(us,ictrp) \n",
    "df_us_ictrp = pd.DataFrame(us_ictrp, columns=['id_US','year_US','long_title_US','id_ICTRP','year_ICTRP','long_title_ICTRP','similarity'])\n",
    "df_us_ictrp\n"
   ]
  },
  {
   "cell_type": "code",
   "execution_count": null,
   "metadata": {},
   "outputs": [],
   "source": []
  },
  {
   "cell_type": "code",
   "execution_count": 267,
   "metadata": {},
   "outputs": [
    {
     "data": {
      "text/html": [
       "<div>\n",
       "<style scoped>\n",
       "    .dataframe tbody tr th:only-of-type {\n",
       "        vertical-align: middle;\n",
       "    }\n",
       "\n",
       "    .dataframe tbody tr th {\n",
       "        vertical-align: top;\n",
       "    }\n",
       "\n",
       "    .dataframe thead th {\n",
       "        text-align: right;\n",
       "    }\n",
       "</style>\n",
       "<table border=\"1\" class=\"dataframe\">\n",
       "  <thead>\n",
       "    <tr style=\"text-align: right;\">\n",
       "      <th></th>\n",
       "      <th>id_US</th>\n",
       "      <th>year_US</th>\n",
       "      <th>long_title_US</th>\n",
       "      <th>id_ICTRP</th>\n",
       "      <th>year_ICTRP</th>\n",
       "      <th>long_title_ICTRP</th>\n",
       "      <th>similarity</th>\n",
       "    </tr>\n",
       "  </thead>\n",
       "  <tbody>\n",
       "  </tbody>\n",
       "</table>\n",
       "</div>"
      ],
      "text/plain": [
       "Empty DataFrame\n",
       "Columns: [id_US, year_US, long_title_US, id_ICTRP, year_ICTRP, long_title_ICTRP, similarity]\n",
       "Index: []"
      ]
     },
     "execution_count": 267,
     "metadata": {},
     "output_type": "execute_result"
    }
   ],
   "source": [
    "### us_ictrp\n",
    "us = list_us[0:5]\n",
    "ictrp = list_ictrp[8600:8800]\n",
    "us_ictrp = lists_combinations(us,ictrp) \n",
    "df_us_ictrp = pd.DataFrame(us_ictrp, columns=['id_US','year_US','long_title_US','id_ICTRP','year_ICTRP','long_title_ICTRP','similarity'])\n",
    "df_us_ictrp"
   ]
  },
  {
   "cell_type": "code",
   "execution_count": null,
   "metadata": {},
   "outputs": [],
   "source": []
  },
  {
   "cell_type": "code",
   "execution_count": null,
   "metadata": {},
   "outputs": [],
   "source": []
  },
  {
   "cell_type": "code",
   "execution_count": null,
   "metadata": {},
   "outputs": [],
   "source": []
  },
  {
   "cell_type": "code",
   "execution_count": null,
   "metadata": {},
   "outputs": [],
   "source": []
  },
  {
   "cell_type": "markdown",
   "metadata": {},
   "source": [
    "### TEST to justify the similarity"
   ]
  },
  {
   "cell_type": "code",
   "execution_count": 65,
   "metadata": {},
   "outputs": [
    {
     "data": {
      "text/html": [
       "<div>\n",
       "<style scoped>\n",
       "    .dataframe tbody tr th:only-of-type {\n",
       "        vertical-align: middle;\n",
       "    }\n",
       "\n",
       "    .dataframe tbody tr th {\n",
       "        vertical-align: top;\n",
       "    }\n",
       "\n",
       "    .dataframe thead th {\n",
       "        text-align: right;\n",
       "    }\n",
       "</style>\n",
       "<table border=\"1\" class=\"dataframe\">\n",
       "  <thead>\n",
       "    <tr style=\"text-align: right;\">\n",
       "      <th></th>\n",
       "      <th>eudractnumber</th>\n",
       "      <th>long_title_eu</th>\n",
       "      <th>nct_id</th>\n",
       "      <th>long_title_us</th>\n",
       "    </tr>\n",
       "  </thead>\n",
       "  <tbody>\n",
       "    <tr>\n",
       "      <th>0</th>\n",
       "      <td>2014-005134-64</td>\n",
       "      <td>Phase I/II Open-Label, Pharmacokinetic and Saf...</td>\n",
       "      <td>NCT00006604</td>\n",
       "      <td>Phase I/II, Open-Label, Pharmacokinetic and Sa...</td>\n",
       "    </tr>\n",
       "    <tr>\n",
       "      <th>1</th>\n",
       "      <td>2011-004259-38</td>\n",
       "      <td>Investigation in the Pathogenesis of Liver Dis...</td>\n",
       "      <td>NCT00007020</td>\n",
       "      <td>Investigation in the Pathogenesis of Liver Dis...</td>\n",
       "    </tr>\n",
       "    <tr>\n",
       "      <th>2</th>\n",
       "      <td>2014-004155-32</td>\n",
       "      <td>An Open-Label, Single-Arm, Safety and Efficacy...</td>\n",
       "      <td>NCT00037557</td>\n",
       "      <td>An Open-Label, Single-Arm, Safety and Efficacy...</td>\n",
       "    </tr>\n",
       "  </tbody>\n",
       "</table>\n",
       "</div>"
      ],
      "text/plain": [
       "    eudractnumber                                      long_title_eu  \\\n",
       "0  2014-005134-64  Phase I/II Open-Label, Pharmacokinetic and Saf...   \n",
       "1  2011-004259-38  Investigation in the Pathogenesis of Liver Dis...   \n",
       "2  2014-004155-32  An Open-Label, Single-Arm, Safety and Efficacy...   \n",
       "\n",
       "        nct_id                                      long_title_us  \n",
       "0  NCT00006604  Phase I/II, Open-Label, Pharmacokinetic and Sa...  \n",
       "1  NCT00007020  Investigation in the Pathogenesis of Liver Dis...  \n",
       "2  NCT00037557  An Open-Label, Single-Arm, Safety and Efficacy...  "
      ]
     },
     "execution_count": 65,
     "metadata": {},
     "output_type": "execute_result"
    }
   ],
   "source": [
    "df_test_eu_us = pd.read_csv('../test for similarity/test_for_title_similarity.csv', sep='|')\n",
    "df_test_eu_us[0:3]"
   ]
  },
  {
   "cell_type": "code",
   "execution_count": 66,
   "metadata": {},
   "outputs": [
    {
     "data": {
      "text/plain": [
       "'Phase I/II Open-Label, Pharmacokinetic and Safety Study of a Novel Protease Inhibitor (BMS-232632, ATAZANAVIR, ATV, REYATAZâ\\x84¢) in Combination Regimens in Antiretroviral Therapy (ART)-NaÃ¯ve and Experienced HIV-Infected Infants, Children, and Adolescents'"
      ]
     },
     "execution_count": 66,
     "metadata": {},
     "output_type": "execute_result"
    }
   ],
   "source": [
    "df_test_eu_us.long_title_eu[0]"
   ]
  },
  {
   "cell_type": "code",
   "execution_count": 67,
   "metadata": {},
   "outputs": [],
   "source": [
    "sim_list = []\n",
    "for index, row in df_test_eu_us.iterrows():\n",
    "    eu_title = str(df_test_eu_us.long_title_eu[index])\n",
    "    us_title = str(df_test_eu_us.long_title_us[index])\n",
    "    sim_list.append(similar(eu_title,us_title))\n",
    "    \n",
    "df_test_eu_us['title_similarity'] = sim_list"
   ]
  },
  {
   "cell_type": "code",
   "execution_count": 68,
   "metadata": {},
   "outputs": [
    {
     "data": {
      "text/html": [
       "<div>\n",
       "<style scoped>\n",
       "    .dataframe tbody tr th:only-of-type {\n",
       "        vertical-align: middle;\n",
       "    }\n",
       "\n",
       "    .dataframe tbody tr th {\n",
       "        vertical-align: top;\n",
       "    }\n",
       "\n",
       "    .dataframe thead th {\n",
       "        text-align: right;\n",
       "    }\n",
       "</style>\n",
       "<table border=\"1\" class=\"dataframe\">\n",
       "  <thead>\n",
       "    <tr style=\"text-align: right;\">\n",
       "      <th></th>\n",
       "      <th>eudractnumber</th>\n",
       "      <th>long_title_eu</th>\n",
       "      <th>nct_id</th>\n",
       "      <th>long_title_us</th>\n",
       "      <th>title_similarity</th>\n",
       "    </tr>\n",
       "  </thead>\n",
       "  <tbody>\n",
       "    <tr>\n",
       "      <th>0</th>\n",
       "      <td>2014-005134-64</td>\n",
       "      <td>Phase I/II Open-Label, Pharmacokinetic and Saf...</td>\n",
       "      <td>NCT00006604</td>\n",
       "      <td>Phase I/II, Open-Label, Pharmacokinetic and Sa...</td>\n",
       "      <td>0.905138</td>\n",
       "    </tr>\n",
       "    <tr>\n",
       "      <th>1</th>\n",
       "      <td>2011-004259-38</td>\n",
       "      <td>Investigation in the Pathogenesis of Liver Dis...</td>\n",
       "      <td>NCT00007020</td>\n",
       "      <td>Investigation in the Pathogenesis of Liver Dis...</td>\n",
       "      <td>0.700000</td>\n",
       "    </tr>\n",
       "    <tr>\n",
       "      <th>2</th>\n",
       "      <td>2014-004155-32</td>\n",
       "      <td>An Open-Label, Single-Arm, Safety and Efficacy...</td>\n",
       "      <td>NCT00037557</td>\n",
       "      <td>An Open-Label, Single-Arm, Safety and Efficacy...</td>\n",
       "      <td>0.990769</td>\n",
       "    </tr>\n",
       "  </tbody>\n",
       "</table>\n",
       "</div>"
      ],
      "text/plain": [
       "    eudractnumber                                      long_title_eu  \\\n",
       "0  2014-005134-64  Phase I/II Open-Label, Pharmacokinetic and Saf...   \n",
       "1  2011-004259-38  Investigation in the Pathogenesis of Liver Dis...   \n",
       "2  2014-004155-32  An Open-Label, Single-Arm, Safety and Efficacy...   \n",
       "\n",
       "        nct_id                                      long_title_us  \\\n",
       "0  NCT00006604  Phase I/II, Open-Label, Pharmacokinetic and Sa...   \n",
       "1  NCT00007020  Investigation in the Pathogenesis of Liver Dis...   \n",
       "2  NCT00037557  An Open-Label, Single-Arm, Safety and Efficacy...   \n",
       "\n",
       "   title_similarity  \n",
       "0          0.905138  \n",
       "1          0.700000  \n",
       "2          0.990769  "
      ]
     },
     "execution_count": 68,
     "metadata": {},
     "output_type": "execute_result"
    }
   ],
   "source": [
    "df_test_eu_us[0:3]"
   ]
  },
  {
   "cell_type": "code",
   "execution_count": null,
   "metadata": {},
   "outputs": [],
   "source": []
  },
  {
   "cell_type": "code",
   "execution_count": 69,
   "metadata": {},
   "outputs": [],
   "source": [
    "df_test_eu_us.to_excel('../test for similarity/test_similarity_eu_us1.xlsx')"
   ]
  },
  {
   "cell_type": "code",
   "execution_count": 60,
   "metadata": {},
   "outputs": [
    {
     "data": {
      "text/plain": [
       "0.2632696390658174"
      ]
     },
     "execution_count": 60,
     "metadata": {},
     "output_type": "execute_result"
    }
   ],
   "source": [
    "## SEQUENCE MATCHER\n",
    "a2 = similar('An Open-label, Non-comparative, Multi-centre Study to Assess the Efficacy and Safety of Bicalutamide When Used in Combination With Anastrozole for the Treatment of Gonadotropin-independent Precocious Puberty in Boys With Testotoxicosis', \n",
    "             'An open-label, non-comparative, multi-centre study to assess the efficacy and safety of bicalutamide when used in combination with anastrozole for the treatment of gonadotropin-independent precocious puberty in boys with testotoxicosis.')\n",
    "a2"
   ]
  },
  {
   "cell_type": "code",
   "execution_count": 63,
   "metadata": {},
   "outputs": [
    {
     "data": {
      "text/plain": [
       "0.9978768577494692"
      ]
     },
     "execution_count": 63,
     "metadata": {},
     "output_type": "execute_result"
    }
   ],
   "source": [
    "## SEQUENCE MATCHER\n",
    "b2 = similar('An Open-label, Non-comparative, Multi-centre Study to Assess the Efficacy and Safety of Bicalutamide When Used in Combination With Anastrozole for the Treatment of Gonadotropin-independent Precocious Puberty in Boys With Testotoxicosis', \n",
    "             'An open-label, non-comparative, multi-centre study to assess the efficacy and safety of bicalutamide when used in combination with anastrozole for the treatment of gonadotropin-independent precocious puberty in boys with testotoxicosis.')\n",
    "b2"
   ]
  },
  {
   "cell_type": "code",
   "execution_count": 197,
   "metadata": {},
   "outputs": [
    {
     "data": {
      "text/plain": [
       "0.22574257425742575"
      ]
     },
     "execution_count": 197,
     "metadata": {},
     "output_type": "execute_result"
    }
   ],
   "source": [
    "## SEQUENCE MATCHER\n",
    "c2 = similar('A Phase 2, Multicenter, Randomized, Double-blind, Placebo-controlled, Parallel-group, Dose-ranging Study Evaluating the Efficacy and Safety of CNTO 148 Administered Subcutaneously in Symptomatic Subjects With Severe Persistent Asthma', \n",
    "             'A Phase 2, Randomized, Double-Blind, Crossover Study to Examine the Pharmacodynamics, Safety and Tolerability, and Pharmacokinetics of Single Doses of TD-4208 in Subjects Diagnosed with Chronic Obstructive Pulmonary Disease|Effects of TD-4208 on FEV1 in Subjects with COPD')\n",
    "c2"
   ]
  },
  {
   "cell_type": "code",
   "execution_count": null,
   "metadata": {},
   "outputs": [],
   "source": []
  },
  {
   "cell_type": "code",
   "execution_count": null,
   "metadata": {},
   "outputs": [],
   "source": []
  },
  {
   "cell_type": "code",
   "execution_count": null,
   "metadata": {},
   "outputs": [],
   "source": []
  },
  {
   "cell_type": "code",
   "execution_count": 154,
   "metadata": {},
   "outputs": [
    {
     "name": "stdout",
     "output_type": "stream",
     "text": [
      "chaine1 is not in chaine2\n"
     ]
    }
   ],
   "source": [
    "ch1 = re.escape('A Phase 2, Randomized, Double-Blind, Placebo-Controlled Study to Evaluate the Safety, Efficacy, Pharmacodynamics, and Pharmacokinetics of RG-012 for Injection in Subjects With Alport Syndrome').lower()\n",
    "ch2 = re.escape('A Phase 2, Randomized, Double-Blind, Placebo-Controlled Study to Evaluate the Safety, Pharmacodynamics, Pharmacokinetics, Dose Selection, and Preliminary Efficacy of Weekly RG 012 Injections in Patients with Alport Syndrome').lower()\n",
    "\n",
    "ch1 = ch1.translate(str.maketrans('','',string.punctuation + string.whitespace))\n",
    "ch2 = ch2.translate(str.maketrans('','',string.punctuation + string.whitespace))\n",
    "\n",
    "if ch1 in ch2 : \n",
    "    print(\"chaine1 is in chaine2\")\n",
    "else :\n",
    "    print(\"chaine1 is not in chaine2\")\n"
   ]
  },
  {
   "cell_type": "code",
   "execution_count": 123,
   "metadata": {},
   "outputs": [
    {
     "name": "stdout",
     "output_type": "stream",
     "text": [
      "A\\ Safety\\ and\\ Immunogenicity\\ Study\\ of\\ Quadrivalent\\ HPV\\.\\.\\.\\.\\ \n"
     ]
    }
   ],
   "source": [
    "print(re.escape('A Safety and Immunogenicity Study of Quadrivalent HPV.... '))"
   ]
  },
  {
   "cell_type": "code",
   "execution_count": 96,
   "metadata": {},
   "outputs": [
    {
     "data": {
      "text/plain": [
       "True"
      ]
     },
     "execution_count": 96,
     "metadata": {},
     "output_type": "execute_result"
    }
   ],
   "source": [
    "re.escape('A Safety') in re.escape('A Safety and Immunogenicity Study of Quadrivalent HPV.... ')\n"
   ]
  },
  {
   "cell_type": "code",
   "execution_count": null,
   "metadata": {},
   "outputs": [],
   "source": []
  },
  {
   "cell_type": "code",
   "execution_count": 124,
   "metadata": {},
   "outputs": [],
   "source": [
    "def compare(s1, s2):\n",
    "    remove = string.punctuation + string.whitespace\n",
    "    return s1.translate(str.maketrans('','',string.punctuation)) in s2.translate(str.maketrans('','',string.punctuation))\n"
   ]
  },
  {
   "cell_type": "code",
   "execution_count": 125,
   "metadata": {},
   "outputs": [
    {
     "data": {
      "text/plain": [
       "False"
      ]
     },
     "execution_count": 125,
     "metadata": {},
     "output_type": "execute_result"
    }
   ],
   "source": [
    "compare(ch1,ch2)"
   ]
  },
  {
   "cell_type": "code",
   "execution_count": 135,
   "metadata": {},
   "outputs": [
    {
     "data": {
      "text/plain": [
       "True"
      ]
     },
     "execution_count": 135,
     "metadata": {},
     "output_type": "execute_result"
    }
   ],
   "source": [
    "ch1.translate(str.maketrans('','',string.punctuation)) in ch2.translate(str.maketrans('','',string.punctuation))"
   ]
  },
  {
   "cell_type": "code",
   "execution_count": 134,
   "metadata": {},
   "outputs": [
    {
     "data": {
      "text/plain": [
       "'A Safety and Immunogenicity Study of Quadrivalent HPV A Long Term Immunogenicity Safety and Effectiveness Study of GARDASILâ\\x84¢ Human Papillomavirus Types 6 11 16 18 Recombinant Vaccine Among Adolescents Who Received GARDASILâ\\x84¢ at 918 Years of Age'"
      ]
     },
     "execution_count": 134,
     "metadata": {},
     "output_type": "execute_result"
    }
   ],
   "source": [
    "ch2.translate(str.maketrans('','',string.punctuation))"
   ]
  },
  {
   "cell_type": "code",
   "execution_count": 133,
   "metadata": {},
   "outputs": [
    {
     "data": {
      "text/plain": [
       "'A Safety and Immunogenicity Study of Quadrivalent HPV '"
      ]
     },
     "execution_count": 133,
     "metadata": {},
     "output_type": "execute_result"
    }
   ],
   "source": [
    "ch1.translate(str.maketrans('','',string.punctuation))"
   ]
  },
  {
   "cell_type": "code",
   "execution_count": null,
   "metadata": {},
   "outputs": [],
   "source": []
  },
  {
   "cell_type": "code",
   "execution_count": null,
   "metadata": {},
   "outputs": [],
   "source": []
  },
  {
   "cell_type": "code",
   "execution_count": null,
   "metadata": {},
   "outputs": [],
   "source": []
  },
  {
   "cell_type": "code",
   "execution_count": null,
   "metadata": {},
   "outputs": [],
   "source": []
  },
  {
   "cell_type": "code",
   "execution_count": null,
   "metadata": {},
   "outputs": [],
   "source": []
  },
  {
   "cell_type": "code",
   "execution_count": null,
   "metadata": {},
   "outputs": [],
   "source": []
  },
  {
   "cell_type": "code",
   "execution_count": null,
   "metadata": {},
   "outputs": [],
   "source": []
  },
  {
   "cell_type": "code",
   "execution_count": null,
   "metadata": {},
   "outputs": [],
   "source": []
  },
  {
   "cell_type": "code",
   "execution_count": 34,
   "metadata": {},
   "outputs": [
    {
     "name": "stdout",
     "output_type": "stream",
     "text": [
      "0.7632850241545893\n"
     ]
    }
   ],
   "source": [
    "## VERIFICATION \n",
    "\n",
    "title1 = ' BEGIN™: EASY AM A trial comparing efficacy and safety of NN1250 and insulin glargine in subjects with type 2 diabetes'\n",
    "title2 = \"A Trial Comparing Efficacy and Safety of NN1250 and Insulin Glargine in Subjects With Type 2 Diabetes (BEGINâ¢: EASY AM)\"\n",
    "\n",
    "\n",
    "ltitle1 = re.escape(title1).lower()\n",
    "ltitle1 = ltitle1.translate(str.maketrans('','',string.punctuation + string.whitespace))\n",
    "ltitle2 = re.escape(title2).lower()\n",
    "ltitle2 = ltitle2.translate(str.maketrans('','',string.punctuation + string.whitespace))\n",
    "            \n",
    "            \n",
    "sim = similar(ltitle1,ltitle2)            \n",
    "            \n",
    "print(sim)            \n",
    "            \n",
    "            "
   ]
  },
  {
   "cell_type": "code",
   "execution_count": null,
   "metadata": {},
   "outputs": [],
   "source": []
  },
  {
   "cell_type": "code",
   "execution_count": null,
   "metadata": {},
   "outputs": [],
   "source": []
  },
  {
   "cell_type": "code",
   "execution_count": null,
   "metadata": {},
   "outputs": [],
   "source": []
  }
 ],
 "metadata": {
  "kernelspec": {
   "display_name": "Python 3",
   "language": "python",
   "name": "python3"
  },
  "language_info": {
   "codemirror_mode": {
    "name": "ipython",
    "version": 3
   },
   "file_extension": ".py",
   "mimetype": "text/x-python",
   "name": "python",
   "nbconvert_exporter": "python",
   "pygments_lexer": "ipython3",
   "version": "3.6.5"
  }
 },
 "nbformat": 4,
 "nbformat_minor": 2
}
