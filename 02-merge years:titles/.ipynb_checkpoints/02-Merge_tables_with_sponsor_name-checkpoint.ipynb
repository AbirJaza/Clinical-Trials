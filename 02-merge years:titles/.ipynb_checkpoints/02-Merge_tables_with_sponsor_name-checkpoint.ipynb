{
 "cells": [
  {
   "cell_type": "code",
   "execution_count": null,
   "metadata": {},
   "outputs": [],
   "source": [
    "import pandas as pd\n",
    "import csv"
   ]
  },
  {
   "cell_type": "markdown",
   "metadata": {},
   "source": [
    "### US_DATA"
   ]
  },
  {
   "cell_type": "code",
   "execution_count": null,
   "metadata": {},
   "outputs": [],
   "source": [
    "### us_years\n",
    "df_us_years = pd.read_csv('../trial_sponsors/usa_sponsor.csv', sep='|')\n",
    "# Determining duplicates\n",
    "mask = df_us_years.duplicated(keep=False)\n",
    "double = df_us_years[mask]  #len(double) = 0 ==> no duplicates in df_us_years\n",
    "\n",
    "### us_titles\n",
    "df_us_titles = pd.read_csv('../trial_title/us_title.csv', sep='|')\n",
    "# Determining duplicates\n",
    "mask = df_us_titles.duplicated(keep=False)\n",
    "double = df_us_titles[mask]  #len(double) = 0 ==> no duplicates in df_us_titles\n",
    "\n",
    "### merge us_years with us_titles\n",
    "df_us = pd.merge(df_us_years, df_us_titles, on='trial_id')\n",
    "df_us[0:3]"
   ]
  }
 ],
 "metadata": {
  "kernelspec": {
   "display_name": "Python 3",
   "language": "python",
   "name": "python3"
  },
  "language_info": {
   "codemirror_mode": {
    "name": "ipython",
    "version": 3
   },
   "file_extension": ".py",
   "mimetype": "text/x-python",
   "name": "python",
   "nbconvert_exporter": "python",
   "pygments_lexer": "ipython3",
   "version": "3.6.5"
  }
 },
 "nbformat": 4,
 "nbformat_minor": 2
}
