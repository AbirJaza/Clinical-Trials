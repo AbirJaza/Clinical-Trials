{
 "cells": [
  {
   "cell_type": "code",
   "execution_count": 1,
   "metadata": {},
   "outputs": [],
   "source": [
    "import pickle\n",
    "import re\n",
    "import pandas as pd"
   ]
  },
  {
   "cell_type": "code",
   "execution_count": 15,
   "metadata": {},
   "outputs": [
    {
     "data": {
      "text/plain": [
       "49355"
      ]
     },
     "execution_count": 15,
     "metadata": {},
     "output_type": "execute_result"
    }
   ],
   "source": [
    "list_source = []\n",
    "for i in range(1,9):\n",
    "    list_source = list_source + pickle.load(open(\"../_results/01-years_ltitles/new pickles/eu_ictrp_ltitles/Pickle\"+str(i)+\"_eu_ictrp.pickle\", \"rb\" ) )\n",
    "\n",
    "len(list_source)    "
   ]
  },
  {
   "cell_type": "code",
   "execution_count": 16,
   "metadata": {},
   "outputs": [],
   "source": [
    "df_eu_ictrp = pd.DataFrame(list_source, columns=['id_EU','year_EU','long_title_EU','id_ICTRP','year_ICTRP','long_title_ICTRP','similarity'])\n"
   ]
  },
  {
   "cell_type": "code",
   "execution_count": 31,
   "metadata": {},
   "outputs": [],
   "source": [
    "df_eu_ictrp = df_eu_ictrp[df_eu_ictrp.long_title_ICTRP != \"-\"]\n",
    "df_eu_ictrp = df_eu_ictrp[df_eu_ictrp.long_title_ICTRP != \"na\"]\n",
    "df_eu_ictrp = df_eu_ictrp[df_eu_ictrp.long_title_ICTRP != \"- - -\"]\n",
    "df_eu_ictrp = df_eu_ictrp[df_eu_ictrp.long_title_ICTRP != \"na -\"]\n",
    "df_eu_ictrp = df_eu_ictrp[df_eu_ictrp.long_title_EU != \"-\"]\n",
    "df_eu_ictrp = df_eu_ictrp[df_eu_ictrp.long_title_EU != \"na\"]"
   ]
  },
  {
   "cell_type": "code",
   "execution_count": 38,
   "metadata": {},
   "outputs": [],
   "source": []
  },
  {
   "cell_type": "code",
   "execution_count": 39,
   "metadata": {},
   "outputs": [
    {
     "data": {
      "text/html": [
       "<div>\n",
       "<style scoped>\n",
       "    .dataframe tbody tr th:only-of-type {\n",
       "        vertical-align: middle;\n",
       "    }\n",
       "\n",
       "    .dataframe tbody tr th {\n",
       "        vertical-align: top;\n",
       "    }\n",
       "\n",
       "    .dataframe thead th {\n",
       "        text-align: right;\n",
       "    }\n",
       "</style>\n",
       "<table border=\"1\" class=\"dataframe\">\n",
       "  <thead>\n",
       "    <tr style=\"text-align: right;\">\n",
       "      <th></th>\n",
       "      <th>id_EU</th>\n",
       "      <th>year_EU</th>\n",
       "      <th>long_title_EU</th>\n",
       "      <th>id_ICTRP</th>\n",
       "      <th>year_ICTRP</th>\n",
       "      <th>long_title_ICTRP</th>\n",
       "      <th>similarity</th>\n",
       "    </tr>\n",
       "  </thead>\n",
       "  <tbody>\n",
       "    <tr>\n",
       "      <th>110</th>\n",
       "      <td>2004-000029-31</td>\n",
       "      <td>2005.0</td>\n",
       "      <td>A Randomized, Double-Blind, Placebo-Controlled...</td>\n",
       "      <td>PER-071-11</td>\n",
       "      <td>NaN</td>\n",
       "      <td>A RANDOMIZED, DOUBLE-BLIND, PLACEBO- CONTROLLE...</td>\n",
       "      <td>0.868217</td>\n",
       "    </tr>\n",
       "    <tr>\n",
       "      <th>331</th>\n",
       "      <td>2004-000107-18</td>\n",
       "      <td>2006.0</td>\n",
       "      <td>A RANDOMISED OPEN COMPARISON OF INTRAVAGINAL A...</td>\n",
       "      <td>ISRCTN27617624</td>\n",
       "      <td>2005.0</td>\n",
       "      <td>A randomised open comparision of intravaginal ...</td>\n",
       "      <td>0.976378</td>\n",
       "    </tr>\n",
       "    <tr>\n",
       "      <th>332</th>\n",
       "      <td>2004-000107-18</td>\n",
       "      <td>2006.0</td>\n",
       "      <td>A RANDOMISED OPEN COMPARISON OF INTRAVAGINAL A...</td>\n",
       "      <td>ISRCTN36773557</td>\n",
       "      <td>2005.0</td>\n",
       "      <td>A randomised open comparison of intravaginal A...</td>\n",
       "      <td>0.957447</td>\n",
       "    </tr>\n",
       "    <tr>\n",
       "      <th>344</th>\n",
       "      <td>2004-000108-42</td>\n",
       "      <td>2004.0</td>\n",
       "      <td>A RANDOMISED OPEN COMPARISON OF INTRAVAGINAL A...</td>\n",
       "      <td>ISRCTN27617624</td>\n",
       "      <td>2005.0</td>\n",
       "      <td>A randomised open comparision of intravaginal ...</td>\n",
       "      <td>0.954907</td>\n",
       "    </tr>\n",
       "    <tr>\n",
       "      <th>345</th>\n",
       "      <td>2004-000108-42</td>\n",
       "      <td>2004.0</td>\n",
       "      <td>A RANDOMISED OPEN COMPARISON OF INTRAVAGINAL A...</td>\n",
       "      <td>ISRCTN36773557</td>\n",
       "      <td>2005.0</td>\n",
       "      <td>A randomised open comparison of intravaginal A...</td>\n",
       "      <td>0.978495</td>\n",
       "    </tr>\n",
       "  </tbody>\n",
       "</table>\n",
       "</div>"
      ],
      "text/plain": [
       "              id_EU  year_EU  \\\n",
       "110  2004-000029-31   2005.0   \n",
       "331  2004-000107-18   2006.0   \n",
       "332  2004-000107-18   2006.0   \n",
       "344  2004-000108-42   2004.0   \n",
       "345  2004-000108-42   2004.0   \n",
       "\n",
       "                                         long_title_EU        id_ICTRP  \\\n",
       "110  A Randomized, Double-Blind, Placebo-Controlled...      PER-071-11   \n",
       "331  A RANDOMISED OPEN COMPARISON OF INTRAVAGINAL A...  ISRCTN27617624   \n",
       "332  A RANDOMISED OPEN COMPARISON OF INTRAVAGINAL A...  ISRCTN36773557   \n",
       "344  A RANDOMISED OPEN COMPARISON OF INTRAVAGINAL A...  ISRCTN27617624   \n",
       "345  A RANDOMISED OPEN COMPARISON OF INTRAVAGINAL A...  ISRCTN36773557   \n",
       "\n",
       "     year_ICTRP                                   long_title_ICTRP  similarity  \n",
       "110         NaN  A RANDOMIZED, DOUBLE-BLIND, PLACEBO- CONTROLLE...    0.868217  \n",
       "331      2005.0  A randomised open comparision of intravaginal ...    0.976378  \n",
       "332      2005.0  A randomised open comparison of intravaginal A...    0.957447  \n",
       "344      2005.0  A randomised open comparision of intravaginal ...    0.954907  \n",
       "345      2005.0  A randomised open comparison of intravaginal A...    0.978495  "
      ]
     },
     "execution_count": 39,
     "metadata": {},
     "output_type": "execute_result"
    }
   ],
   "source": [
    "df_eu_ictrp[0:5]"
   ]
  },
  {
   "cell_type": "code",
   "execution_count": 40,
   "metadata": {},
   "outputs": [
    {
     "data": {
      "text/plain": [
       "78"
      ]
     },
     "execution_count": 40,
     "metadata": {},
     "output_type": "execute_result"
    }
   ],
   "source": [
    "len(df_eu_ictrp)"
   ]
  },
  {
   "cell_type": "code",
   "execution_count": 34,
   "metadata": {},
   "outputs": [],
   "source": [
    "df_eu_ictrp.to_excel('../_results/01-years_ltitles/new excels/ictrp_eu_years_ltitles_list.xlsx')"
   ]
  },
  {
   "cell_type": "code",
   "execution_count": null,
   "metadata": {},
   "outputs": [],
   "source": []
  },
  {
   "cell_type": "code",
   "execution_count": null,
   "metadata": {},
   "outputs": [],
   "source": []
  },
  {
   "cell_type": "code",
   "execution_count": null,
   "metadata": {},
   "outputs": [],
   "source": []
  },
  {
   "cell_type": "code",
   "execution_count": null,
   "metadata": {},
   "outputs": [],
   "source": []
  },
  {
   "cell_type": "code",
   "execution_count": null,
   "metadata": {},
   "outputs": [],
   "source": []
  },
  {
   "cell_type": "code",
   "execution_count": null,
   "metadata": {},
   "outputs": [],
   "source": []
  },
  {
   "cell_type": "code",
   "execution_count": null,
   "metadata": {},
   "outputs": [],
   "source": []
  }
 ],
 "metadata": {
  "kernelspec": {
   "display_name": "Python 3",
   "language": "python",
   "name": "python3"
  },
  "language_info": {
   "codemirror_mode": {
    "name": "ipython",
    "version": 3
   },
   "file_extension": ".py",
   "mimetype": "text/x-python",
   "name": "python",
   "nbconvert_exporter": "python",
   "pygments_lexer": "ipython3",
   "version": "3.6.5"
  }
 },
 "nbformat": 4,
 "nbformat_minor": 2
}
