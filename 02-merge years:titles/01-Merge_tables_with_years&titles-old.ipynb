{
 "cells": [
  {
   "cell_type": "code",
   "execution_count": 1,
   "metadata": {},
   "outputs": [],
   "source": [
    "import pandas as pd\n",
    "import csv\n",
    "from functools import reduce"
   ]
  },
  {
   "cell_type": "markdown",
   "metadata": {},
   "source": [
    "### US_data"
   ]
  },
  {
   "cell_type": "code",
   "execution_count": 2,
   "metadata": {},
   "outputs": [
    {
     "data": {
      "text/html": [
       "<div>\n",
       "<style scoped>\n",
       "    .dataframe tbody tr th:only-of-type {\n",
       "        vertical-align: middle;\n",
       "    }\n",
       "\n",
       "    .dataframe tbody tr th {\n",
       "        vertical-align: top;\n",
       "    }\n",
       "\n",
       "    .dataframe thead th {\n",
       "        text-align: right;\n",
       "    }\n",
       "</style>\n",
       "<table border=\"1\" class=\"dataframe\">\n",
       "  <thead>\n",
       "    <tr style=\"text-align: right;\">\n",
       "      <th></th>\n",
       "      <th>trial_id</th>\n",
       "      <th>start_year</th>\n",
       "      <th>short_title</th>\n",
       "      <th>long_title</th>\n",
       "    </tr>\n",
       "  </thead>\n",
       "  <tbody>\n",
       "    <tr>\n",
       "      <th>0</th>\n",
       "      <td>NCT03260985</td>\n",
       "      <td>2017.0</td>\n",
       "      <td>Precision Psychiatry Continuity Clinic Project</td>\n",
       "      <td>Precision Psychiatry Continuity Clinic Project</td>\n",
       "    </tr>\n",
       "    <tr>\n",
       "      <th>1</th>\n",
       "      <td>NCT03268473</td>\n",
       "      <td>2017.0</td>\n",
       "      <td>Effect of Non-surgical Periodontal Treatment o...</td>\n",
       "      <td>Effect of Non-surgical Periodontal Treatment o...</td>\n",
       "    </tr>\n",
       "    <tr>\n",
       "      <th>2</th>\n",
       "      <td>NCT03262610</td>\n",
       "      <td>NaN</td>\n",
       "      <td>Setemelanotide in a Single Patient With Partia...</td>\n",
       "      <td>Expanded-access for the Use of Setemelanotide ...</td>\n",
       "    </tr>\n",
       "  </tbody>\n",
       "</table>\n",
       "</div>"
      ],
      "text/plain": [
       "      trial_id  start_year                                        short_title  \\\n",
       "0  NCT03260985      2017.0     Precision Psychiatry Continuity Clinic Project   \n",
       "1  NCT03268473      2017.0  Effect of Non-surgical Periodontal Treatment o...   \n",
       "2  NCT03262610         NaN  Setemelanotide in a Single Patient With Partia...   \n",
       "\n",
       "                                          long_title  \n",
       "0     Precision Psychiatry Continuity Clinic Project  \n",
       "1  Effect of Non-surgical Periodontal Treatment o...  \n",
       "2  Expanded-access for the Use of Setemelanotide ...  "
      ]
     },
     "execution_count": 2,
     "metadata": {},
     "output_type": "execute_result"
    }
   ],
   "source": [
    "### us_years\n",
    "df_us_years = pd.read_csv('../trial_years/us_year.csv', sep='|')\n",
    "# Determining duplicates\n",
    "mask = df_us_years.duplicated(keep=False)\n",
    "double = df_us_years[mask]  #len(double) = 0 ==> no duplicates in df_us_years\n",
    "\n",
    "### us_titles\n",
    "df_us_titles = pd.read_csv('../trial_title/us_title.csv', sep='|')\n",
    "# Determining duplicates\n",
    "mask = df_us_titles.duplicated(keep=False)\n",
    "double = df_us_titles[mask]  #len(double) = 0 ==> no duplicates in df_us_titles\n",
    "\n",
    "### merge us_years with us_titles\n",
    "df_us = pd.merge(df_us_years, df_us_titles, on='trial_id')\n",
    "df_us[0:3]"
   ]
  },
  {
   "cell_type": "code",
   "execution_count": 3,
   "metadata": {},
   "outputs": [
    {
     "data": {
      "text/plain": [
       "268859"
      ]
     },
     "execution_count": 3,
     "metadata": {},
     "output_type": "execute_result"
    }
   ],
   "source": [
    "len(df_us)"
   ]
  },
  {
   "cell_type": "markdown",
   "metadata": {},
   "source": [
    "### eu_years"
   ]
  },
  {
   "cell_type": "code",
   "execution_count": 4,
   "metadata": {},
   "outputs": [
    {
     "data": {
      "text/html": [
       "<div>\n",
       "<style scoped>\n",
       "    .dataframe tbody tr th:only-of-type {\n",
       "        vertical-align: middle;\n",
       "    }\n",
       "\n",
       "    .dataframe tbody tr th {\n",
       "        vertical-align: top;\n",
       "    }\n",
       "\n",
       "    .dataframe thead th {\n",
       "        text-align: right;\n",
       "    }\n",
       "</style>\n",
       "<table border=\"1\" class=\"dataframe\">\n",
       "  <thead>\n",
       "    <tr style=\"text-align: right;\">\n",
       "      <th></th>\n",
       "      <th>trial_id</th>\n",
       "      <th>start_year</th>\n",
       "      <th>long_title</th>\n",
       "    </tr>\n",
       "  </thead>\n",
       "  <tbody>\n",
       "    <tr>\n",
       "      <th>0</th>\n",
       "      <td>2004-000007-18</td>\n",
       "      <td>2004.0</td>\n",
       "      <td>A Multicentre, Randomised, Double-Blind, Paral...</td>\n",
       "    </tr>\n",
       "    <tr>\n",
       "      <th>1</th>\n",
       "      <td>2004-000012-13</td>\n",
       "      <td>2004.0</td>\n",
       "      <td>A Double-Blind, Placebo-Controlled, Parallel, ...</td>\n",
       "    </tr>\n",
       "    <tr>\n",
       "      <th>2</th>\n",
       "      <td>2004-000015-25</td>\n",
       "      <td>2004.0</td>\n",
       "      <td>A phase 3 randomized, placebo-controlled, doub...</td>\n",
       "    </tr>\n",
       "  </tbody>\n",
       "</table>\n",
       "</div>"
      ],
      "text/plain": [
       "         trial_id  start_year  \\\n",
       "0  2004-000007-18      2004.0   \n",
       "1  2004-000012-13      2004.0   \n",
       "2  2004-000015-25      2004.0   \n",
       "\n",
       "                                          long_title  \n",
       "0  A Multicentre, Randomised, Double-Blind, Paral...  \n",
       "1  A Double-Blind, Placebo-Controlled, Parallel, ...  \n",
       "2  A phase 3 randomized, placebo-controlled, doub...  "
      ]
     },
     "execution_count": 4,
     "metadata": {},
     "output_type": "execute_result"
    }
   ],
   "source": [
    "### eu_years\n",
    "df_eu_years = pd.read_csv('../trial_years/eu_year.csv', sep='|')\n",
    "df_eu_years = df_eu_years.drop(['id','EU','US','ICTRP','Japan','ANZCTR','Iran','China','India','Africa','Korea','Brazil','Thai','Peru','Cuba','SriLanka','check'], axis=1)\n",
    "# Determining duplicates\n",
    "mask = df_eu_years.duplicated(keep=False)\n",
    "double = df_eu_years[mask]  #len(double) = 0 ==> no duplicates in df_eu_years\n",
    "\n",
    "\n",
    "### eu_titles\n",
    "df_eu_titles = pd.read_csv('../trial_title/eu_title.csv', sep='|')\n",
    "# Determining duplicates\n",
    "mask = df_eu_titles.duplicated(keep=False)\n",
    "double = df_eu_titles[mask]  #len(double) = 0 ==> no duplicates in df_us_titles\n",
    "\n",
    "### merge eu_years with eu_titles\n",
    "df_eu = pd.merge(df_eu_years, df_eu_titles, on='trial_id')\n",
    "df_eu[0:3]\n"
   ]
  },
  {
   "cell_type": "code",
   "execution_count": 5,
   "metadata": {},
   "outputs": [
    {
     "data": {
      "text/plain": [
       "29588"
      ]
     },
     "execution_count": 5,
     "metadata": {},
     "output_type": "execute_result"
    }
   ],
   "source": [
    "len(df_eu)"
   ]
  },
  {
   "cell_type": "markdown",
   "metadata": {},
   "source": [
    "### ictrp_years"
   ]
  },
  {
   "cell_type": "code",
   "execution_count": 6,
   "metadata": {},
   "outputs": [
    {
     "data": {
      "text/html": [
       "<div>\n",
       "<style scoped>\n",
       "    .dataframe tbody tr th:only-of-type {\n",
       "        vertical-align: middle;\n",
       "    }\n",
       "\n",
       "    .dataframe tbody tr th {\n",
       "        vertical-align: top;\n",
       "    }\n",
       "\n",
       "    .dataframe thead th {\n",
       "        text-align: right;\n",
       "    }\n",
       "</style>\n",
       "<table border=\"1\" class=\"dataframe\">\n",
       "  <thead>\n",
       "    <tr style=\"text-align: right;\">\n",
       "      <th></th>\n",
       "      <th>trial_id</th>\n",
       "      <th>start_year</th>\n",
       "      <th>short_title</th>\n",
       "      <th>long_title</th>\n",
       "    </tr>\n",
       "  </thead>\n",
       "  <tbody>\n",
       "    <tr>\n",
       "      <th>0</th>\n",
       "      <td>ACTRN12605000058673</td>\n",
       "      <td>2005.0</td>\n",
       "      <td>Magnesium in Aneurysmal Subarachnoid Haemorrhage</td>\n",
       "      <td>A multi-centre, single blinded, randomised con...</td>\n",
       "    </tr>\n",
       "    <tr>\n",
       "      <th>1</th>\n",
       "      <td>ACTRN12605000059662</td>\n",
       "      <td>2005.0</td>\n",
       "      <td>Multicentre, Unblinded, Randomised, Controlled...</td>\n",
       "      <td>Multicentre, Unblinded, Randomised, Controlled...</td>\n",
       "    </tr>\n",
       "    <tr>\n",
       "      <th>2</th>\n",
       "      <td>ACTRN12605000060640</td>\n",
       "      <td>2003.0</td>\n",
       "      <td>A trial of G-CSF in septic shock excluding mel...</td>\n",
       "      <td>A single centre double blinded randomised cont...</td>\n",
       "    </tr>\n",
       "  </tbody>\n",
       "</table>\n",
       "</div>"
      ],
      "text/plain": [
       "              trial_id  start_year  \\\n",
       "0  ACTRN12605000058673      2005.0   \n",
       "1  ACTRN12605000059662      2005.0   \n",
       "2  ACTRN12605000060640      2003.0   \n",
       "\n",
       "                                         short_title  \\\n",
       "0   Magnesium in Aneurysmal Subarachnoid Haemorrhage   \n",
       "1  Multicentre, Unblinded, Randomised, Controlled...   \n",
       "2  A trial of G-CSF in septic shock excluding mel...   \n",
       "\n",
       "                                          long_title  \n",
       "0  A multi-centre, single blinded, randomised con...  \n",
       "1  Multicentre, Unblinded, Randomised, Controlled...  \n",
       "2  A single centre double blinded randomised cont...  "
      ]
     },
     "execution_count": 6,
     "metadata": {},
     "output_type": "execute_result"
    }
   ],
   "source": [
    "### ictrp_years\n",
    "df_ictrp_years = pd.read_csv('../trial_years/ictrp_year.csv', sep='|')\n",
    "df_ictrp_years = df_ictrp_years.drop(['id','EU','US','ICTRP','Japan','ANZCTR','Iran','China','India','Africa','Korea','Brazil','Thai','Peru','Cuba','SriLanka','check'], axis=1)\n",
    "# Determining duplicates\n",
    "mask = df_ictrp_years.duplicated(keep=False)\n",
    "double = df_ictrp_years[mask]  #len(double) = 0 ==> no duplicates in df_ictrp_years\n",
    "\n",
    "\n",
    "### ictrp_titles\n",
    "df_ictrp_titles = pd.read_csv('../trial_title/ictrp_title.csv', sep='|')\n",
    "# Determining duplicates\n",
    "mask = df_ictrp_titles.duplicated(keep=False)\n",
    "double = df_ictrp_titles[mask]  #len(double) = 0 ==> no duplicates in df_ictrp_titles\n",
    "\n",
    "### merge ictrp_years with ictrp_titles\n",
    "df_ictrp = pd.merge(df_ictrp_years, df_ictrp_titles, on='trial_id')\n",
    "df_ictrp[0:3]\n"
   ]
  },
  {
   "cell_type": "code",
   "execution_count": 7,
   "metadata": {},
   "outputs": [
    {
     "data": {
      "text/plain": [
       "108931"
      ]
     },
     "execution_count": 7,
     "metadata": {},
     "output_type": "execute_result"
    }
   ],
   "source": [
    "len(df_ictrp)"
   ]
  },
  {
   "cell_type": "markdown",
   "metadata": {},
   "source": [
    "## Divide dfs where the start_year/long_title info EXISTS or NOT"
   ]
  },
  {
   "cell_type": "markdown",
   "metadata": {},
   "source": [
    "First, since we noticed that we have data where the \"start_year\" or the \"long_title\" info is missing, we will divide the dfs data into 2 sub_dfs : df_years & df_nan_years "
   ]
  },
  {
   "cell_type": "code",
   "execution_count": 8,
   "metadata": {},
   "outputs": [
    {
     "name": "stdout",
     "output_type": "stream",
     "text": [
      "--- FOR US ---\n",
      "US data with complete info : 14429\n",
      "US data with missing info : 264216\n"
     ]
    }
   ],
   "source": [
    "# US\n",
    "df_us_complete = df_us.dropna(subset=['start_year'])\n",
    "df_us_with_nan = df_us[df_us.isnull().any(1)]\n",
    "print('--- FOR US ---')\n",
    "print('US data with complete info :', len(df_us_with_nan))\n",
    "print('US data with missing info :', len(df_us_complete)) "
   ]
  },
  {
   "cell_type": "code",
   "execution_count": 9,
   "metadata": {},
   "outputs": [
    {
     "name": "stdout",
     "output_type": "stream",
     "text": [
      "--- FOR EU ---\n",
      "EU data with complete info : 781\n",
      "EU data with missing info : 28977\n"
     ]
    }
   ],
   "source": [
    "# EU\n",
    "df_eu_complete = df_eu.dropna(subset=['start_year'])\n",
    "df_eu_with_nan = df_eu[df_eu.isnull().any(1)]\n",
    "print('--- FOR EU ---')\n",
    "print('EU data with complete info :', len(df_eu_with_nan))\n",
    "print('EU data with missing info :', len(df_eu_complete)) "
   ]
  },
  {
   "cell_type": "code",
   "execution_count": 10,
   "metadata": {},
   "outputs": [
    {
     "name": "stdout",
     "output_type": "stream",
     "text": [
      "--- FOR ICTRP ---\n",
      "ICTRP data with complete info : 36290\n",
      "ICTRP data with missing info : 106894\n"
     ]
    }
   ],
   "source": [
    "# ICTRP\n",
    "df_ictrp_complete = df_ictrp.dropna(subset=['start_year'])\n",
    "df_ictrp_with_nan = df_ictrp[df_ictrp.isnull().any(1)]\n",
    "print('--- FOR ICTRP ---')\n",
    "print('ICTRP data with complete info :', len(df_ictrp_with_nan))\n",
    "print('ICTRP data with missing info :', len(df_ictrp_complete)) "
   ]
  },
  {
   "cell_type": "code",
   "execution_count": 11,
   "metadata": {},
   "outputs": [
    {
     "data": {
      "text/html": [
       "<div>\n",
       "<style scoped>\n",
       "    .dataframe tbody tr th:only-of-type {\n",
       "        vertical-align: middle;\n",
       "    }\n",
       "\n",
       "    .dataframe tbody tr th {\n",
       "        vertical-align: top;\n",
       "    }\n",
       "\n",
       "    .dataframe thead th {\n",
       "        text-align: right;\n",
       "    }\n",
       "</style>\n",
       "<table border=\"1\" class=\"dataframe\">\n",
       "  <thead>\n",
       "    <tr style=\"text-align: right;\">\n",
       "      <th></th>\n",
       "      <th>trial_id</th>\n",
       "      <th>start_year</th>\n",
       "      <th>short_title</th>\n",
       "      <th>long_title</th>\n",
       "    </tr>\n",
       "  </thead>\n",
       "  <tbody>\n",
       "    <tr>\n",
       "      <th>2</th>\n",
       "      <td>NCT03262610</td>\n",
       "      <td>NaN</td>\n",
       "      <td>Setemelanotide in a Single Patient With Partia...</td>\n",
       "      <td>Expanded-access for the Use of Setemelanotide ...</td>\n",
       "    </tr>\n",
       "    <tr>\n",
       "      <th>24</th>\n",
       "      <td>NCT03267225</td>\n",
       "      <td>2016.0</td>\n",
       "      <td>Study on the Genetic Determinants of Clindamyc...</td>\n",
       "      <td>NaN</td>\n",
       "    </tr>\n",
       "  </tbody>\n",
       "</table>\n",
       "</div>"
      ],
      "text/plain": [
       "       trial_id  start_year  \\\n",
       "2   NCT03262610         NaN   \n",
       "24  NCT03267225      2016.0   \n",
       "\n",
       "                                          short_title  \\\n",
       "2   Setemelanotide in a Single Patient With Partia...   \n",
       "24  Study on the Genetic Determinants of Clindamyc...   \n",
       "\n",
       "                                           long_title  \n",
       "2   Expanded-access for the Use of Setemelanotide ...  \n",
       "24                                                NaN  "
      ]
     },
     "execution_count": 11,
     "metadata": {},
     "output_type": "execute_result"
    }
   ],
   "source": [
    "df_us_with_nan[0:2]"
   ]
  },
  {
   "cell_type": "markdown",
   "metadata": {},
   "source": [
    "### Functions"
   ]
  },
  {
   "cell_type": "code",
   "execution_count": null,
   "metadata": {},
   "outputs": [],
   "source": [
    "### LIST COMBINATIONS with calculating the difference in titles length\n",
    "def lists_combinations(list1,list2):\n",
    "    combination_list = []\n",
    "    for i in list1:\n",
    "        for j in list2: \n",
    "            diff = abs(int(i[1])-int(j[1]))\n",
    "            if (diff < 2) :\n",
    "                id1 = str(i[0])\n",
    "                year1 = int(i[1])\n",
    "                id2 = str(j[0])\n",
    "                year2 = int(j[1])\n",
    "\n",
    "                new_tuple = (id1,year1,id2,year2, diff)\n",
    "                combination_list.append(new_tuple)\n",
    "\n",
    "    return(combination_list)"
   ]
  },
  {
   "cell_type": "code",
   "execution_count": null,
   "metadata": {},
   "outputs": [],
   "source": [
    "#US YEARS\n",
    "list_years_us = df_us_years[['trial_id','start_year']].apply(tuple, axis=1).tolist()\n",
    "list_years_us[0:2]"
   ]
  },
  {
   "cell_type": "code",
   "execution_count": null,
   "metadata": {},
   "outputs": [],
   "source": [
    "#EU YEARS\n",
    "list_years_eu = df_eu_years[['trial_id','start_year']].apply(tuple, axis=1).tolist()\n",
    "list_years_eu[0:2]"
   ]
  },
  {
   "cell_type": "code",
   "execution_count": null,
   "metadata": {},
   "outputs": [],
   "source": [
    "#ICTRP YEARS\n",
    "list_years_ictrp = df_ictrp_years[['trial_id','start_year']].apply(tuple, axis=1).tolist()\n",
    "list_years_ictrp[0:2]"
   ]
  },
  {
   "cell_type": "code",
   "execution_count": null,
   "metadata": {},
   "outputs": [],
   "source": []
  },
  {
   "cell_type": "code",
   "execution_count": null,
   "metadata": {},
   "outputs": [],
   "source": []
  },
  {
   "cell_type": "code",
   "execution_count": null,
   "metadata": {},
   "outputs": [],
   "source": []
  },
  {
   "cell_type": "code",
   "execution_count": null,
   "metadata": {},
   "outputs": [],
   "source": []
  },
  {
   "cell_type": "code",
   "execution_count": null,
   "metadata": {},
   "outputs": [],
   "source": []
  },
  {
   "cell_type": "code",
   "execution_count": null,
   "metadata": {},
   "outputs": [],
   "source": []
  },
  {
   "cell_type": "code",
   "execution_count": null,
   "metadata": {},
   "outputs": [],
   "source": [
    "### us_ictrp  \n",
    "us1 = list_years_us[0:20000]\n",
    "ictrp1 = list_years_ictrp[0:20000]\n",
    "us_ictrp1 = lists_combinations(us1,ictrp1)\n",
    "len(us_ictrp1)   # Originalement c'est 400 Million"
   ]
  },
  {
   "cell_type": "code",
   "execution_count": null,
   "metadata": {},
   "outputs": [],
   "source": [
    "### us_ictrp\n",
    "ictrp2 = list_years_ictrp[20000:40000]\n",
    "us_ictrp2 = lists_combinations(us1,ictrp2) \n",
    "len(us_ictrp2)"
   ]
  },
  {
   "cell_type": "code",
   "execution_count": null,
   "metadata": {},
   "outputs": [],
   "source": [
    "### us_ictrp\n",
    "ictrp3 = list_years_ictrp[40000:60000]\n",
    "us_ictrp3 = lists_combinations(us1,ictrp3) \n",
    "len(us_ictrp3)"
   ]
  },
  {
   "cell_type": "code",
   "execution_count": null,
   "metadata": {
    "scrolled": true
   },
   "outputs": [],
   "source": [
    "### us_ictrp\n",
    "ictrp4 = list_years_ictrp[60000:80000]\n",
    "us_ictrp4 = lists_combinations(us1,ictrp4)\n",
    "len(us_ictrp4)"
   ]
  },
  {
   "cell_type": "code",
   "execution_count": null,
   "metadata": {},
   "outputs": [],
   "source": [
    "### us_ictrp\n",
    "ictrp5 = list_years_ictrp[80000:100000]\n",
    "us_ictrp5 = lists_combinations(us1,ictrp5) \n",
    "len(us_ictrp5)"
   ]
  },
  {
   "cell_type": "code",
   "execution_count": null,
   "metadata": {},
   "outputs": [],
   "source": [
    "### us_ictrp\n",
    "ictrp6 = list_years_ictrp[100000:len(df_ictrp_years)]\n",
    "us_ictrp6 = lists_combinations(us1,ictrp6) \n",
    "len(us_ictrp6)"
   ]
  },
  {
   "cell_type": "code",
   "execution_count": null,
   "metadata": {},
   "outputs": [],
   "source": [
    "us_ictrp11 = us_ictrp1 + us_ictrp2 + us_ictrp3 + us_ictrp4 + us_ictrp5 + us_ictrp6\n",
    "len(us_ictrp11)"
   ]
  },
  {
   "cell_type": "code",
   "execution_count": null,
   "metadata": {},
   "outputs": [],
   "source": [
    "df_us_ictrp11 = pd.DataFrame(us_ictrp11, columns=['id_US','year_US','id_ICTRP','year_ICTRP', 'diff'])\n",
    "df_us_ictrp11[0:5]"
   ]
  },
  {
   "cell_type": "code",
   "execution_count": null,
   "metadata": {},
   "outputs": [],
   "source": []
  },
  {
   "cell_type": "code",
   "execution_count": null,
   "metadata": {},
   "outputs": [],
   "source": [
    "dfs = [df_us_ictrp, df_us_ictrp2, df_us_ictrp3, df_us_ictrp4, df_us_ictrp5, df_us_ictrp6]\n",
    "df_us_ictrp_final1 = reduce(lambda left,right: pd.merge(left,right), dfs)\n",
    "len(df_us_ictrp_final1)"
   ]
  },
  {
   "cell_type": "code",
   "execution_count": null,
   "metadata": {},
   "outputs": [],
   "source": [
    "df_us_ictrp_final1[0:20]"
   ]
  },
  {
   "cell_type": "code",
   "execution_count": null,
   "metadata": {},
   "outputs": [],
   "source": []
  },
  {
   "cell_type": "code",
   "execution_count": null,
   "metadata": {},
   "outputs": [],
   "source": [
    "### us_eu\n",
    "us = list_years_us\n",
    "eu = list_years_eu\n",
    "us_eu = lists_combinations(us,eu) \n",
    "df_us_eu = pd.DataFrame(us_eu, columns=['id_US','indicator_US','year_US','id_EU','indicator_EU','year_EU', 'diff'])\n",
    "\n",
    "df_us_eu[0:5]"
   ]
  },
  {
   "cell_type": "code",
   "execution_count": null,
   "metadata": {},
   "outputs": [],
   "source": [
    "### eu_ictrp\n",
    "eu = list_years_eu\n",
    "ictrp = list_years_ictrp\n",
    "eu_ictrp = lists_combinations(eu,ictrp) \n",
    "df_eu_ictrp = pd.DataFrame(eu_ictrp, columns=['id_EU','indicator_EU','year_EU','id_ICTRP','indicator_ICTRP','year_ICTRP', 'diff'])\n",
    "\n",
    "df_us_eu[0:5]"
   ]
  },
  {
   "cell_type": "code",
   "execution_count": null,
   "metadata": {},
   "outputs": [],
   "source": []
  }
 ],
 "metadata": {
  "kernelspec": {
   "display_name": "Python 3",
   "language": "python",
   "name": "python3"
  },
  "language_info": {
   "codemirror_mode": {
    "name": "ipython",
    "version": 3
   },
   "file_extension": ".py",
   "mimetype": "text/x-python",
   "name": "python",
   "nbconvert_exporter": "python",
   "pygments_lexer": "ipython3",
   "version": "3.6.5"
  }
 },
 "nbformat": 4,
 "nbformat_minor": 2
}
