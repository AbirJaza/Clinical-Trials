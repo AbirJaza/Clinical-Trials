{
 "cells": [
  {
   "cell_type": "code",
   "execution_count": 1,
   "metadata": {},
   "outputs": [],
   "source": [
    "import pandas as pd\n",
    "import csv\n",
    "import re\n",
    "import string\n",
    "from functools import reduce\n",
    "from difflib import SequenceMatcher"
   ]
  },
  {
   "cell_type": "markdown",
   "metadata": {},
   "source": [
    "### US_data"
   ]
  },
  {
   "cell_type": "code",
   "execution_count": 288,
   "metadata": {},
   "outputs": [
    {
     "data": {
      "text/html": [
       "<div>\n",
       "<style scoped>\n",
       "    .dataframe tbody tr th:only-of-type {\n",
       "        vertical-align: middle;\n",
       "    }\n",
       "\n",
       "    .dataframe tbody tr th {\n",
       "        vertical-align: top;\n",
       "    }\n",
       "\n",
       "    .dataframe thead th {\n",
       "        text-align: right;\n",
       "    }\n",
       "</style>\n",
       "<table border=\"1\" class=\"dataframe\">\n",
       "  <thead>\n",
       "    <tr style=\"text-align: right;\">\n",
       "      <th></th>\n",
       "      <th>trial_id</th>\n",
       "      <th>start_year</th>\n",
       "      <th>short_title</th>\n",
       "      <th>long_title</th>\n",
       "    </tr>\n",
       "  </thead>\n",
       "  <tbody>\n",
       "    <tr>\n",
       "      <th>0</th>\n",
       "      <td>NCT03260985</td>\n",
       "      <td>2017.0</td>\n",
       "      <td>Precision Psychiatry Continuity Clinic Project</td>\n",
       "      <td>Precision Psychiatry Continuity Clinic Project</td>\n",
       "    </tr>\n",
       "    <tr>\n",
       "      <th>1</th>\n",
       "      <td>NCT03268473</td>\n",
       "      <td>2017.0</td>\n",
       "      <td>Effect of Non-surgical Periodontal Treatment o...</td>\n",
       "      <td>Effect of Non-surgical Periodontal Treatment o...</td>\n",
       "    </tr>\n",
       "    <tr>\n",
       "      <th>2</th>\n",
       "      <td>NCT03262610</td>\n",
       "      <td>NaN</td>\n",
       "      <td>Setemelanotide in a Single Patient With Partia...</td>\n",
       "      <td>Expanded-access for the Use of Setemelanotide ...</td>\n",
       "    </tr>\n",
       "  </tbody>\n",
       "</table>\n",
       "</div>"
      ],
      "text/plain": [
       "      trial_id  start_year                                        short_title  \\\n",
       "0  NCT03260985      2017.0     Precision Psychiatry Continuity Clinic Project   \n",
       "1  NCT03268473      2017.0  Effect of Non-surgical Periodontal Treatment o...   \n",
       "2  NCT03262610         NaN  Setemelanotide in a Single Patient With Partia...   \n",
       "\n",
       "                                          long_title  \n",
       "0     Precision Psychiatry Continuity Clinic Project  \n",
       "1  Effect of Non-surgical Periodontal Treatment o...  \n",
       "2  Expanded-access for the Use of Setemelanotide ...  "
      ]
     },
     "execution_count": 288,
     "metadata": {},
     "output_type": "execute_result"
    }
   ],
   "source": [
    "### us_years\n",
    "df_us_years = pd.read_csv('../trial_years/us_year.csv', sep='|')\n",
    "# Determining duplicates\n",
    "mask = df_us_years.duplicated(keep=False)\n",
    "double = df_us_years[mask]  #len(double) = 0 ==> no duplicates in df_us_years\n",
    "\n",
    "### us_titles\n",
    "df_us_titles = pd.read_csv('../trial_title/us_title.csv', sep='|')\n",
    "# Determining duplicates\n",
    "mask = df_us_titles.duplicated(keep=False)\n",
    "double = df_us_titles[mask]  #len(double) = 0 ==> no duplicates in df_us_titles\n",
    "\n",
    "### merge us_years with us_titles\n",
    "df_us = pd.merge(df_us_years, df_us_titles, on='trial_id')\n",
    "df_us[0:3]"
   ]
  },
  {
   "cell_type": "code",
   "execution_count": 289,
   "metadata": {},
   "outputs": [
    {
     "data": {
      "text/plain": [
       "268859"
      ]
     },
     "execution_count": 289,
     "metadata": {},
     "output_type": "execute_result"
    }
   ],
   "source": [
    "len(df_us)"
   ]
  },
  {
   "cell_type": "markdown",
   "metadata": {},
   "source": [
    "### EU_data"
   ]
  },
  {
   "cell_type": "code",
   "execution_count": 290,
   "metadata": {},
   "outputs": [
    {
     "data": {
      "text/html": [
       "<div>\n",
       "<style scoped>\n",
       "    .dataframe tbody tr th:only-of-type {\n",
       "        vertical-align: middle;\n",
       "    }\n",
       "\n",
       "    .dataframe tbody tr th {\n",
       "        vertical-align: top;\n",
       "    }\n",
       "\n",
       "    .dataframe thead th {\n",
       "        text-align: right;\n",
       "    }\n",
       "</style>\n",
       "<table border=\"1\" class=\"dataframe\">\n",
       "  <thead>\n",
       "    <tr style=\"text-align: right;\">\n",
       "      <th></th>\n",
       "      <th>trial_id</th>\n",
       "      <th>start_year</th>\n",
       "      <th>long_title</th>\n",
       "    </tr>\n",
       "  </thead>\n",
       "  <tbody>\n",
       "    <tr>\n",
       "      <th>0</th>\n",
       "      <td>2004-000007-18</td>\n",
       "      <td>2004.0</td>\n",
       "      <td>A Multicentre, Randomised, Double-Blind, Paral...</td>\n",
       "    </tr>\n",
       "    <tr>\n",
       "      <th>1</th>\n",
       "      <td>2004-000012-13</td>\n",
       "      <td>2004.0</td>\n",
       "      <td>A Double-Blind, Placebo-Controlled, Parallel, ...</td>\n",
       "    </tr>\n",
       "    <tr>\n",
       "      <th>2</th>\n",
       "      <td>2004-000015-25</td>\n",
       "      <td>2004.0</td>\n",
       "      <td>A phase 3 randomized, placebo-controlled, doub...</td>\n",
       "    </tr>\n",
       "  </tbody>\n",
       "</table>\n",
       "</div>"
      ],
      "text/plain": [
       "         trial_id  start_year  \\\n",
       "0  2004-000007-18      2004.0   \n",
       "1  2004-000012-13      2004.0   \n",
       "2  2004-000015-25      2004.0   \n",
       "\n",
       "                                          long_title  \n",
       "0  A Multicentre, Randomised, Double-Blind, Paral...  \n",
       "1  A Double-Blind, Placebo-Controlled, Parallel, ...  \n",
       "2  A phase 3 randomized, placebo-controlled, doub...  "
      ]
     },
     "execution_count": 290,
     "metadata": {},
     "output_type": "execute_result"
    }
   ],
   "source": [
    "### eu_years\n",
    "df_eu_years = pd.read_csv('../trial_years/eu_year.csv', sep='|')\n",
    "df_eu_years = df_eu_years.drop(['id','EU','US','ICTRP','Japan','ANZCTR','Iran','China','India','Africa','Korea','Brazil','Thai','Peru','Cuba','SriLanka','check'], axis=1)\n",
    "# Determining duplicates\n",
    "mask = df_eu_years.duplicated(keep=False)\n",
    "double = df_eu_years[mask]  #len(double) = 0 ==> no duplicates in df_eu_years\n",
    "\n",
    "\n",
    "### eu_titles\n",
    "df_eu_titles = pd.read_csv('../trial_title/eu_title.csv', sep='|')\n",
    "# Determining duplicates\n",
    "mask = df_eu_titles.duplicated(keep=False)\n",
    "double = df_eu_titles[mask]  #len(double) = 0 ==> no duplicates in df_us_titles\n",
    "\n",
    "### merge eu_years with eu_titles\n",
    "df_eu = pd.merge(df_eu_years, df_eu_titles, on='trial_id')\n",
    "df_eu[0:3]\n"
   ]
  },
  {
   "cell_type": "code",
   "execution_count": 291,
   "metadata": {},
   "outputs": [
    {
     "data": {
      "text/plain": [
       "29588"
      ]
     },
     "execution_count": 291,
     "metadata": {},
     "output_type": "execute_result"
    }
   ],
   "source": [
    "len(df_eu)"
   ]
  },
  {
   "cell_type": "markdown",
   "metadata": {},
   "source": [
    "### ICTRP_data"
   ]
  },
  {
   "cell_type": "code",
   "execution_count": 292,
   "metadata": {},
   "outputs": [
    {
     "data": {
      "text/html": [
       "<div>\n",
       "<style scoped>\n",
       "    .dataframe tbody tr th:only-of-type {\n",
       "        vertical-align: middle;\n",
       "    }\n",
       "\n",
       "    .dataframe tbody tr th {\n",
       "        vertical-align: top;\n",
       "    }\n",
       "\n",
       "    .dataframe thead th {\n",
       "        text-align: right;\n",
       "    }\n",
       "</style>\n",
       "<table border=\"1\" class=\"dataframe\">\n",
       "  <thead>\n",
       "    <tr style=\"text-align: right;\">\n",
       "      <th></th>\n",
       "      <th>trial_id</th>\n",
       "      <th>start_year</th>\n",
       "      <th>short_title</th>\n",
       "      <th>long_title</th>\n",
       "    </tr>\n",
       "  </thead>\n",
       "  <tbody>\n",
       "    <tr>\n",
       "      <th>0</th>\n",
       "      <td>ACTRN12605000058673</td>\n",
       "      <td>2005.0</td>\n",
       "      <td>Magnesium in Aneurysmal Subarachnoid Haemorrhage</td>\n",
       "      <td>A multi-centre, single blinded, randomised con...</td>\n",
       "    </tr>\n",
       "    <tr>\n",
       "      <th>1</th>\n",
       "      <td>ACTRN12605000059662</td>\n",
       "      <td>2005.0</td>\n",
       "      <td>Multicentre, Unblinded, Randomised, Controlled...</td>\n",
       "      <td>Multicentre, Unblinded, Randomised, Controlled...</td>\n",
       "    </tr>\n",
       "    <tr>\n",
       "      <th>2</th>\n",
       "      <td>ACTRN12605000060640</td>\n",
       "      <td>2003.0</td>\n",
       "      <td>A trial of G-CSF in septic shock excluding mel...</td>\n",
       "      <td>A single centre double blinded randomised cont...</td>\n",
       "    </tr>\n",
       "  </tbody>\n",
       "</table>\n",
       "</div>"
      ],
      "text/plain": [
       "              trial_id  start_year  \\\n",
       "0  ACTRN12605000058673      2005.0   \n",
       "1  ACTRN12605000059662      2005.0   \n",
       "2  ACTRN12605000060640      2003.0   \n",
       "\n",
       "                                         short_title  \\\n",
       "0   Magnesium in Aneurysmal Subarachnoid Haemorrhage   \n",
       "1  Multicentre, Unblinded, Randomised, Controlled...   \n",
       "2  A trial of G-CSF in septic shock excluding mel...   \n",
       "\n",
       "                                          long_title  \n",
       "0  A multi-centre, single blinded, randomised con...  \n",
       "1  Multicentre, Unblinded, Randomised, Controlled...  \n",
       "2  A single centre double blinded randomised cont...  "
      ]
     },
     "execution_count": 292,
     "metadata": {},
     "output_type": "execute_result"
    }
   ],
   "source": [
    "### ictrp_years\n",
    "df_ictrp_years = pd.read_csv('../trial_years/ictrp_year.csv', sep='|')\n",
    "df_ictrp_years = df_ictrp_years.drop(['id','EU','US','ICTRP','Japan','ANZCTR','Iran','China','India','Africa','Korea','Brazil','Thai','Peru','Cuba','SriLanka','check'], axis=1)\n",
    "# Determining duplicates\n",
    "mask = df_ictrp_years.duplicated(keep=False)\n",
    "double = df_ictrp_years[mask]  #len(double) = 0 ==> no duplicates in df_ictrp_years\n",
    "\n",
    "\n",
    "### ictrp_titles\n",
    "df_ictrp_titles = pd.read_csv('../trial_title/ictrp_title.csv', sep='|')\n",
    "# Determining duplicates\n",
    "mask = df_ictrp_titles.duplicated(keep=False)\n",
    "double = df_ictrp_titles[mask]  #len(double) = 0 ==> no duplicates in df_ictrp_titles\n",
    "\n",
    "### merge ictrp_years with ictrp_titles\n",
    "df_ictrp = pd.merge(df_ictrp_years, df_ictrp_titles, on='trial_id')\n",
    "df_ictrp[0:3]\n"
   ]
  },
  {
   "cell_type": "code",
   "execution_count": 293,
   "metadata": {},
   "outputs": [
    {
     "data": {
      "text/plain": [
       "108931"
      ]
     },
     "execution_count": 293,
     "metadata": {},
     "output_type": "execute_result"
    }
   ],
   "source": [
    "len(df_ictrp)"
   ]
  },
  {
   "cell_type": "markdown",
   "metadata": {},
   "source": [
    "### 1 - Divide the data where the long_title/short_title infos EXIST or NOT"
   ]
  },
  {
   "cell_type": "markdown",
   "metadata": {},
   "source": [
    "First, we noticed that there are some data where the \"long_title\" and \"short_title\" infos are missing, and this will not help in the comparison, \n",
    "we will then divide the dfs data into 2 sub_dfs : df_complete & df_with_nan"
   ]
  },
  {
   "cell_type": "code",
   "execution_count": 294,
   "metadata": {},
   "outputs": [
    {
     "name": "stdout",
     "output_type": "stream",
     "text": [
      "--- FOR US ---\n",
      "US data with complete info : 258398\n",
      "US data with missing info : 10461\n"
     ]
    }
   ],
   "source": [
    "# US\n",
    "df_us_complete = df_us.dropna(subset=['long_title','short_title'])\n",
    "df_us_with_nan = df_us.merge(df_us_complete, how='outer', indicator=True).query('_merge == \"left_only\"').drop('_merge', 1)\n",
    "\n",
    "print('--- FOR US ---')\n",
    "print('US data with complete info :', len(df_us_complete))\n",
    "print('US data with missing info :', len(df_us_with_nan)) "
   ]
  },
  {
   "cell_type": "code",
   "execution_count": 295,
   "metadata": {},
   "outputs": [
    {
     "name": "stdout",
     "output_type": "stream",
     "text": [
      "--- FOR EU ---\n",
      "EU data with complete info : 29399\n",
      "EU data with missing info : 189\n"
     ]
    }
   ],
   "source": [
    "# EU\n",
    "df_eu_complete = df_eu.dropna(subset=['long_title'])\n",
    "df_eu_with_nan = df_eu.merge(df_eu_complete, how='outer', indicator=True).query('_merge == \"left_only\"').drop('_merge', 1)\n",
    "\n",
    "print('--- FOR EU ---')\n",
    "print('EU data with complete info :', len(df_eu_complete))\n",
    "print('EU data with missing info :', len(df_eu_with_nan)) "
   ]
  },
  {
   "cell_type": "code",
   "execution_count": 297,
   "metadata": {},
   "outputs": [
    {
     "name": "stdout",
     "output_type": "stream",
     "text": [
      "--- FOR ICTRP ---\n",
      "ICTRP data with complete info : 73704\n",
      "ICTRP data with missing info : 35227\n"
     ]
    }
   ],
   "source": [
    "# ICTRP\n",
    "df_ictrp_complete = df_ictrp.dropna(subset=['long_title', 'short_title'])\n",
    "df_ictrp_with_nan = df_ictrp.merge(df_ictrp_complete, how='outer', indicator=True).query('_merge == \"left_only\"').drop('_merge', 1)\n",
    "\n",
    "print('--- FOR ICTRP ---')\n",
    "print('ICTRP data with complete info :', len(df_ictrp_complete))\n",
    "print('ICTRP data with missing info :', len(df_ictrp_with_nan)) "
   ]
  },
  {
   "cell_type": "code",
   "execution_count": 166,
   "metadata": {},
   "outputs": [
    {
     "data": {
      "text/html": [
       "<div>\n",
       "<style scoped>\n",
       "    .dataframe tbody tr th:only-of-type {\n",
       "        vertical-align: middle;\n",
       "    }\n",
       "\n",
       "    .dataframe tbody tr th {\n",
       "        vertical-align: top;\n",
       "    }\n",
       "\n",
       "    .dataframe thead th {\n",
       "        text-align: right;\n",
       "    }\n",
       "</style>\n",
       "<table border=\"1\" class=\"dataframe\">\n",
       "  <thead>\n",
       "    <tr style=\"text-align: right;\">\n",
       "      <th></th>\n",
       "      <th>trial_id</th>\n",
       "      <th>start_year</th>\n",
       "      <th>short_title</th>\n",
       "      <th>long_title</th>\n",
       "    </tr>\n",
       "  </thead>\n",
       "  <tbody>\n",
       "    <tr>\n",
       "      <th>24</th>\n",
       "      <td>NCT03267225</td>\n",
       "      <td>2016.0</td>\n",
       "      <td>Study on the Genetic Determinants of Clindamyc...</td>\n",
       "      <td>NaN</td>\n",
       "    </tr>\n",
       "    <tr>\n",
       "      <th>578</th>\n",
       "      <td>NCT03260153</td>\n",
       "      <td>2017.0</td>\n",
       "      <td>Deproteinised Calf Blood Serum Injection for t...</td>\n",
       "      <td>NaN</td>\n",
       "    </tr>\n",
       "  </tbody>\n",
       "</table>\n",
       "</div>"
      ],
      "text/plain": [
       "        trial_id  start_year  \\\n",
       "24   NCT03267225      2016.0   \n",
       "578  NCT03260153      2017.0   \n",
       "\n",
       "                                           short_title long_title  \n",
       "24   Study on the Genetic Determinants of Clindamyc...        NaN  \n",
       "578  Deproteinised Calf Blood Serum Injection for t...        NaN  "
      ]
     },
     "execution_count": 166,
     "metadata": {},
     "output_type": "execute_result"
    }
   ],
   "source": [
    "df_us_with_nan[0:2]"
   ]
  },
  {
   "cell_type": "code",
   "execution_count": 285,
   "metadata": {},
   "outputs": [
    {
     "data": {
      "text/plain": [
       "73704"
      ]
     },
     "execution_count": 285,
     "metadata": {},
     "output_type": "execute_result"
    }
   ],
   "source": [
    "len(df_ictrp_complete)"
   ]
  },
  {
   "cell_type": "code",
   "execution_count": null,
   "metadata": {},
   "outputs": [],
   "source": [
    "#save the data\n",
    "df_us_complete.to_csv('../data/us_ltitles_complete.csv',sep='|')\n",
    "df_eu_complete.to_csv('../data/eu_ltitles_complete.csv',sep='|')\n",
    "df_ictrp_complete.to_csv('../data/ictrp_ltitles_complete.csv',sep='|')"
   ]
  },
  {
   "cell_type": "markdown",
   "metadata": {},
   "source": [
    "### 2 - Create lists: (trial_id, start_year, long_title)"
   ]
  },
  {
   "cell_type": "code",
   "execution_count": 167,
   "metadata": {},
   "outputs": [
    {
     "data": {
      "text/plain": [
       "[['NCT03260985', 2017.0, 'Precision Psychiatry Continuity Clinic Project']]"
      ]
     },
     "execution_count": 167,
     "metadata": {},
     "output_type": "execute_result"
    }
   ],
   "source": [
    "#US\n",
    "list_us = df_us_complete[['trial_id','start_year', 'long_title']].values.tolist()\n",
    "list_us[0:1]"
   ]
  },
  {
   "cell_type": "code",
   "execution_count": 168,
   "metadata": {},
   "outputs": [
    {
     "data": {
      "text/plain": [
       "[['2004-000007-18',\n",
       "  2004.0,\n",
       "  'A Multicentre, Randomised, Double-Blind, Parallel Group, 24 Week Study to Compare the Effect of the Salmeterol/Fluticasone Propionate Combination Product (SERETIDE) 50/250mcg with Salmeterol 50mcg Both Delivered Twice Daily via the DISKUS/ACCUHALER Inhaler on Lung Function and Dyspnoea in Subjects With Chronic Obstructive Pulmonary Disease (COPD).']]"
      ]
     },
     "execution_count": 168,
     "metadata": {},
     "output_type": "execute_result"
    }
   ],
   "source": [
    "#EU\n",
    "list_eu = df_eu_complete[['trial_id','start_year', 'long_title']].values.tolist()\n",
    "list_eu[0:1]"
   ]
  },
  {
   "cell_type": "code",
   "execution_count": 169,
   "metadata": {},
   "outputs": [
    {
     "data": {
      "text/plain": [
       "[['ACTRN12605000058673',\n",
       "  2005.0,\n",
       "  'A multi-centre, single blinded, randomised controlled trial of two target ranges for serum magnesium in patients with Subarachnoid Haemorrhage to reduce vasospasm']]"
      ]
     },
     "execution_count": 169,
     "metadata": {},
     "output_type": "execute_result"
    }
   ],
   "source": [
    "#ICTRP\n",
    "list_ictrp = df_ictrp_complete[['trial_id','start_year', 'long_title']].values.tolist()\n",
    "list_ictrp[0:1]"
   ]
  },
  {
   "cell_type": "markdown",
   "metadata": {},
   "source": [
    "### 3 - Functions"
   ]
  },
  {
   "cell_type": "code",
   "execution_count": 2,
   "metadata": {},
   "outputs": [],
   "source": [
    "### calculate similarity with \"SequenceMatcher\" where space isJunk \n",
    "def similar(a, b):\n",
    "    return SequenceMatcher(lambda x: x == \" \", a.lower(), b.lower()).ratio()"
   ]
  },
  {
   "cell_type": "code",
   "execution_count": 4,
   "metadata": {},
   "outputs": [],
   "source": [
    "### LIST COMBINATIONS with calculating the difference in the years and titles length\n",
    "def lists_combinations(list1,list2):\n",
    "    combination_list = []\n",
    "    #list = [id,year,title]\n",
    "    for i in list1:\n",
    "        for j in list2:\n",
    "            \n",
    "            id1 = str(i[0])\n",
    "            id2 = str(j[0])\n",
    "            year1 = i[1]\n",
    "            year2 = j[1]\n",
    "            title1 = i[2]\n",
    "            title2 = j[2]\n",
    "            \n",
    "            ltitle1 = re.escape(title1).lower()\n",
    "            ltitle1 = ltitle1.translate(str.maketrans('','',string.punctuation + string.whitespace))\n",
    "            ltitle2 = re.escape(title2).lower()\n",
    "            ltitle2 = ltitle2.translate(str.maketrans('','',string.punctuation + string.whitespace))\n",
    "            \n",
    "            sim = similar(ltitle1,ltitle2)\n",
    "            \n",
    "            if (pd.isnull(year1)) or (pd.isnull(year2)):\n",
    "                \n",
    "                if ((ltitle1 in ltitle2) or (ltitle2 in ltitle1) or (sim > 0.8)) :\n",
    "                #or (sim > 0.22) After testing, we found that when the similarity is 0.8 and above, the two titles are almost identical\n",
    "                 \n",
    "                    new_tuple = (id1,year1,title1,id2,year2,title2,sim)\n",
    "                    combination_list.append(new_tuple) \n",
    "                    \n",
    "            else:\n",
    "                \n",
    "                diff = abs(year1 - year2)\n",
    "                if ((diff < 2) and ((ltitle1 in ltitle2) or (ltitle2 in ltitle1)or (sim > 0.8))) :\n",
    "                    \n",
    "                    new_tuple = (id1,year1,title1,id2,year2,title2,sim)\n",
    "                    combination_list.append(new_tuple) \n",
    "\n",
    "    return(combination_list)"
   ]
  },
  {
   "cell_type": "code",
   "execution_count": null,
   "metadata": {},
   "outputs": [],
   "source": []
  },
  {
   "cell_type": "code",
   "execution_count": null,
   "metadata": {},
   "outputs": [],
   "source": []
  },
  {
   "cell_type": "markdown",
   "metadata": {},
   "source": [
    "### TEST"
   ]
  },
  {
   "cell_type": "code",
   "execution_count": 216,
   "metadata": {},
   "outputs": [
    {
     "data": {
      "text/html": [
       "<div>\n",
       "<style scoped>\n",
       "    .dataframe tbody tr th:only-of-type {\n",
       "        vertical-align: middle;\n",
       "    }\n",
       "\n",
       "    .dataframe tbody tr th {\n",
       "        vertical-align: top;\n",
       "    }\n",
       "\n",
       "    .dataframe thead th {\n",
       "        text-align: right;\n",
       "    }\n",
       "</style>\n",
       "<table border=\"1\" class=\"dataframe\">\n",
       "  <thead>\n",
       "    <tr style=\"text-align: right;\">\n",
       "      <th></th>\n",
       "      <th>id_EU</th>\n",
       "      <th>year_EU</th>\n",
       "      <th>long_title_EU</th>\n",
       "      <th>id_ICTRP</th>\n",
       "      <th>year_ICTRP</th>\n",
       "      <th>long_title_ICTRP</th>\n",
       "      <th>similarity</th>\n",
       "    </tr>\n",
       "  </thead>\n",
       "  <tbody>\n",
       "  </tbody>\n",
       "</table>\n",
       "</div>"
      ],
      "text/plain": [
       "Empty DataFrame\n",
       "Columns: [id_EU, year_EU, long_title_EU, id_ICTRP, year_ICTRP, long_title_ICTRP, similarity]\n",
       "Index: []"
      ]
     },
     "execution_count": 216,
     "metadata": {},
     "output_type": "execute_result"
    }
   ],
   "source": [
    "### eu_ictrp\n",
    "eu = list_eu[0:15]\n",
    "ictrp = list_ictrp[6000:6000]\n",
    "eu_ictrp = lists_combinations(eu,ictrp) \n",
    "df_eu_ictrp = pd.DataFrame(eu_ictrp, columns=['id_EU','year_EU','long_title_EU','id_ICTRP','year_ICTRP','long_title_ICTRP','similarity'])\n",
    "df_eu_ictrp"
   ]
  },
  {
   "cell_type": "code",
   "execution_count": 60,
   "metadata": {},
   "outputs": [
    {
     "name": "stdout",
     "output_type": "stream",
     "text": [
      "A Randomized, Double-Blind, Placebo-Controlled, Phase 3 Study of the Safety and Efficacy of Interferon gamma-Ib in patients with Idiopathic Pulmonary Fibrosis\n",
      "////////////\n",
      "A Randomized, Double-Blind, Placebo-Controlled Pharmacokinetic Study of the Chrono Nicotine Replacement Therapy System for adult male smokers\n"
     ]
    }
   ],
   "source": [
    "print(df_eu_ictrp.long_title_EU[0])\n",
    "print(\"////////////\")\n",
    "print(df_eu_ictrp.long_title_ICTRP[0])"
   ]
  },
  {
   "cell_type": "code",
   "execution_count": null,
   "metadata": {},
   "outputs": [],
   "source": []
  },
  {
   "cell_type": "code",
   "execution_count": 281,
   "metadata": {},
   "outputs": [
    {
     "data": {
      "text/html": [
       "<div>\n",
       "<style scoped>\n",
       "    .dataframe tbody tr th:only-of-type {\n",
       "        vertical-align: middle;\n",
       "    }\n",
       "\n",
       "    .dataframe tbody tr th {\n",
       "        vertical-align: top;\n",
       "    }\n",
       "\n",
       "    .dataframe thead th {\n",
       "        text-align: right;\n",
       "    }\n",
       "</style>\n",
       "<table border=\"1\" class=\"dataframe\">\n",
       "  <thead>\n",
       "    <tr style=\"text-align: right;\">\n",
       "      <th></th>\n",
       "      <th>id_US</th>\n",
       "      <th>year_US</th>\n",
       "      <th>long_title_US</th>\n",
       "      <th>id_ICTRP</th>\n",
       "      <th>year_ICTRP</th>\n",
       "      <th>long_title_ICTRP</th>\n",
       "      <th>similarity</th>\n",
       "    </tr>\n",
       "  </thead>\n",
       "  <tbody>\n",
       "  </tbody>\n",
       "</table>\n",
       "</div>"
      ],
      "text/plain": [
       "Empty DataFrame\n",
       "Columns: [id_US, year_US, long_title_US, id_ICTRP, year_ICTRP, long_title_ICTRP, similarity]\n",
       "Index: []"
      ]
     },
     "execution_count": 281,
     "metadata": {},
     "output_type": "execute_result"
    }
   ],
   "source": [
    "### us_ictrp\n",
    "us = list_us[300:400]\n",
    "ictrp = list_ictrp[7500:7750]\n",
    "us_ictrp = lists_combinations(us,ictrp) \n",
    "df_us_ictrp = pd.DataFrame(us_ictrp, columns=['id_US','year_US','long_title_US','id_ICTRP','year_ICTRP','long_title_ICTRP','similarity'])\n",
    "df_us_ictrp\n"
   ]
  },
  {
   "cell_type": "code",
   "execution_count": null,
   "metadata": {},
   "outputs": [],
   "source": []
  },
  {
   "cell_type": "code",
   "execution_count": 267,
   "metadata": {},
   "outputs": [
    {
     "data": {
      "text/html": [
       "<div>\n",
       "<style scoped>\n",
       "    .dataframe tbody tr th:only-of-type {\n",
       "        vertical-align: middle;\n",
       "    }\n",
       "\n",
       "    .dataframe tbody tr th {\n",
       "        vertical-align: top;\n",
       "    }\n",
       "\n",
       "    .dataframe thead th {\n",
       "        text-align: right;\n",
       "    }\n",
       "</style>\n",
       "<table border=\"1\" class=\"dataframe\">\n",
       "  <thead>\n",
       "    <tr style=\"text-align: right;\">\n",
       "      <th></th>\n",
       "      <th>id_US</th>\n",
       "      <th>year_US</th>\n",
       "      <th>long_title_US</th>\n",
       "      <th>id_ICTRP</th>\n",
       "      <th>year_ICTRP</th>\n",
       "      <th>long_title_ICTRP</th>\n",
       "      <th>similarity</th>\n",
       "    </tr>\n",
       "  </thead>\n",
       "  <tbody>\n",
       "  </tbody>\n",
       "</table>\n",
       "</div>"
      ],
      "text/plain": [
       "Empty DataFrame\n",
       "Columns: [id_US, year_US, long_title_US, id_ICTRP, year_ICTRP, long_title_ICTRP, similarity]\n",
       "Index: []"
      ]
     },
     "execution_count": 267,
     "metadata": {},
     "output_type": "execute_result"
    }
   ],
   "source": [
    "### us_ictrp\n",
    "us = list_us[0:5]\n",
    "ictrp = list_ictrp[8600:8800]\n",
    "us_ictrp = lists_combinations(us,ictrp) \n",
    "df_us_ictrp = pd.DataFrame(us_ictrp, columns=['id_US','year_US','long_title_US','id_ICTRP','year_ICTRP','long_title_ICTRP','similarity'])\n",
    "df_us_ictrp"
   ]
  },
  {
   "cell_type": "code",
   "execution_count": null,
   "metadata": {},
   "outputs": [],
   "source": []
  },
  {
   "cell_type": "code",
   "execution_count": null,
   "metadata": {},
   "outputs": [],
   "source": []
  },
  {
   "cell_type": "code",
   "execution_count": null,
   "metadata": {},
   "outputs": [],
   "source": []
  },
  {
   "cell_type": "code",
   "execution_count": null,
   "metadata": {},
   "outputs": [],
   "source": []
  },
  {
   "cell_type": "markdown",
   "metadata": {},
   "source": [
    "### TEST to justify the similarity"
   ]
  },
  {
   "cell_type": "code",
   "execution_count": 19,
   "metadata": {},
   "outputs": [],
   "source": [
    "df_test_eu_us = pd.read_csv('../test for similarity/test_for_title_similarity.csv', sep='|')\n",
    "df_test_eu_us = df_test_eu_us"
   ]
  },
  {
   "cell_type": "code",
   "execution_count": 20,
   "metadata": {},
   "outputs": [
    {
     "data": {
      "text/plain": [
       "2645"
      ]
     },
     "execution_count": 20,
     "metadata": {},
     "output_type": "execute_result"
    }
   ],
   "source": [
    "len(df_test_eu_us)"
   ]
  },
  {
   "cell_type": "code",
   "execution_count": 21,
   "metadata": {},
   "outputs": [
    {
     "data": {
      "text/plain": [
       "'Phase I/II Open-Label, Pharmacokinetic and Safety Study of a Novel Protease Inhibitor (BMS-232632, ATAZANAVIR, ATV, REYATAZâ\\x84¢) in Combination Regimens in Antiretroviral Therapy (ART)-NaÃ¯ve and Experienced HIV-Infected Infants, Children, and Adolescents'"
      ]
     },
     "execution_count": 21,
     "metadata": {},
     "output_type": "execute_result"
    }
   ],
   "source": [
    "df_test_eu_us.long_title_eu[0]"
   ]
  },
  {
   "cell_type": "code",
   "execution_count": 22,
   "metadata": {},
   "outputs": [],
   "source": [
    "sim_list = []\n",
    "for index, row in df_test_eu_us.iterrows():\n",
    "    eu_title = str(df_test_eu_us.long_title_eu[index])\n",
    "    us_title = str(df_test_eu_us.long_title_us[index])\n",
    "    \n",
    "    eu_title = re.escape(eu_title).lower()\n",
    "    eu_title = eu_title.translate(str.maketrans('','',string.punctuation + string.whitespace))\n",
    "    us_title = re.escape(us_title).lower()\n",
    "    us_title = us_title.translate(str.maketrans('','',string.punctuation + string.whitespace))\n",
    "    \n",
    "    if pd.isnull(eu_title) or pd.isnull(us_title) :\n",
    "        sim_list.append(999999999)\n",
    "    else :\n",
    "        sim_list.append(similar(eu_title,us_title))\n",
    "    \n",
    "df_test_eu_us['title_similarity'] = sim_list"
   ]
  },
  {
   "cell_type": "code",
   "execution_count": 23,
   "metadata": {},
   "outputs": [
    {
     "data": {
      "text/plain": [
       "[0.9855769230769231,\n",
       " 0.7086614173228346,\n",
       " 0.9923076923076923,\n",
       " 1.0,\n",
       " 0.9925925925925926,\n",
       " 0.9272237196765498,\n",
       " 1.0,\n",
       " 0.8298507462686567,\n",
       " 0.9379310344827586,\n",
       " 1.0,\n",
       " 0.8491379310344828,\n",
       " 0.43103448275862066,\n",
       " 1.0,\n",
       " 1.0,\n",
       " 0.6416184971098265,\n",
       " 1.0,\n",
       " 0.9181636726546906,\n",
       " 1.0,\n",
       " 0.9798387096774194,\n",
       " 0.9195979899497487,\n",
       " 1.0,\n",
       " 0.988835725677831,\n",
       " 1.0,\n",
       " 0.9171717171717172,\n",
       " 1.0,\n",
       " 1.0,\n",
       " 1.0,\n",
       " 0.9970326409495549,\n",
       " 1.0,\n",
       " 1.0,\n",
       " 1.0,\n",
       " 1.0,\n",
       " 0.05309734513274336,\n",
       " 1.0,\n",
       " 0.7349397590361446,\n",
       " 0.5590062111801242,\n",
       " 0.02666666666666667,\n",
       " 0.02666666666666667,\n",
       " 0.9652777777777778,\n",
       " 0.9977827050997783,\n",
       " 0.9798994974874372,\n",
       " 0.994328922495274,\n",
       " 0.38489208633093525,\n",
       " 1.0,\n",
       " 0.8571428571428571,\n",
       " 0.6075085324232082,\n",
       " 1.0,\n",
       " 0.02843601895734597,\n",
       " 0.02197802197802198,\n",
       " 1.0,\n",
       " 0.885,\n",
       " 1.0,\n",
       " 1.0,\n",
       " 1.0,\n",
       " 0.9755102040816327,\n",
       " 1.0,\n",
       " 1.0,\n",
       " 1.0,\n",
       " 1.0,\n",
       " 0.5436893203883495,\n",
       " 1.0,\n",
       " 1.0,\n",
       " 0.7931873479318735,\n",
       " 1.0,\n",
       " 0.9949748743718593,\n",
       " 0.1794871794871795,\n",
       " 1.0,\n",
       " 1.0,\n",
       " 1.0,\n",
       " 0.3008849557522124,\n",
       " 1.0,\n",
       " 0.9447852760736196,\n",
       " 1.0,\n",
       " 1.0,\n",
       " 0.19387755102040816,\n",
       " 0.7943548387096774,\n",
       " 0.9824561403508771,\n",
       " 0.9203539823008849,\n",
       " 0.029850746268656716,\n",
       " 0.8644688644688645,\n",
       " 0.993421052631579,\n",
       " 0.578397212543554,\n",
       " 1.0,\n",
       " 1.0,\n",
       " 0.49869451697127937,\n",
       " 0.9947089947089947,\n",
       " 1.0,\n",
       " 0.9953775038520801,\n",
       " 0.972972972972973,\n",
       " 0.2777777777777778,\n",
       " 1.0,\n",
       " 1.0,\n",
       " 0.6312684365781711,\n",
       " 1.0,\n",
       " 1.0,\n",
       " 1.0,\n",
       " 0.5714285714285714,\n",
       " 1.0,\n",
       " 0.027149321266968326,\n",
       " 1.0,\n",
       " 1.0,\n",
       " 0.36942675159235666,\n",
       " 1.0,\n",
       " 1.0,\n",
       " 0.6747967479674797,\n",
       " 0.9074889867841409,\n",
       " 0.4435146443514644,\n",
       " 0.3424124513618677,\n",
       " 0.5771144278606966,\n",
       " 0.30845771144278605,\n",
       " 1.0,\n",
       " 1.0,\n",
       " 1.0,\n",
       " 0.8053097345132744,\n",
       " 1.0,\n",
       " 1.0,\n",
       " 1.0,\n",
       " 1.0,\n",
       " 0.9714285714285714,\n",
       " 0.2457627118644068,\n",
       " 0.44933920704845814,\n",
       " 0.8879120879120879,\n",
       " 0.6837606837606838,\n",
       " 1.0,\n",
       " 0.9772727272727273,\n",
       " 1.0,\n",
       " 1.0,\n",
       " 0.9863945578231292,\n",
       " 1.0,\n",
       " 0.5157894736842106,\n",
       " 1.0,\n",
       " 0.9202453987730062,\n",
       " 0.967741935483871,\n",
       " 0.985981308411215,\n",
       " 1.0,\n",
       " 1.0,\n",
       " 1.0,\n",
       " 1.0,\n",
       " 1.0,\n",
       " 1.0,\n",
       " 0.823045267489712,\n",
       " 1.0,\n",
       " 1.0,\n",
       " 0.9279279279279279,\n",
       " 0.01910828025477707,\n",
       " 0.8387096774193549,\n",
       " 0.5723684210526315,\n",
       " 1.0,\n",
       " 1.0,\n",
       " 1.0,\n",
       " 0.957169459962756,\n",
       " 0.5750636132315522,\n",
       " 0.7205882352941176,\n",
       " 0.7307692307692307,\n",
       " 0.9279279279279279,\n",
       " 0.9817232375979112,\n",
       " 1.0,\n",
       " 1.0,\n",
       " 0.9542168674698795,\n",
       " 1.0,\n",
       " 0.7217125382262997,\n",
       " 0.8787878787878788,\n",
       " 0.027522935779816515,\n",
       " 0.6886075949367089,\n",
       " 0.25,\n",
       " 0.8297872340425532,\n",
       " 1.0,\n",
       " 1.0,\n",
       " 0.5947955390334573,\n",
       " 1.0,\n",
       " 0.06666666666666667,\n",
       " 0.948051948051948,\n",
       " 0.5970149253731343,\n",
       " 0.8770053475935828,\n",
       " 0.6149253731343284,\n",
       " 0.8984126984126984,\n",
       " 0.4108527131782946,\n",
       " 0.9876543209876543,\n",
       " 1.0,\n",
       " 1.0,\n",
       " 1.0,\n",
       " 1.0,\n",
       " 0.24892703862660945,\n",
       " 0.543859649122807,\n",
       " 1.0,\n",
       " 0.7191011235955056,\n",
       " 0.9876543209876543,\n",
       " 1.0,\n",
       " 1.0,\n",
       " 0.9885057471264368,\n",
       " 1.0,\n",
       " 1.0,\n",
       " 0.8791208791208791,\n",
       " 0.9540816326530612,\n",
       " 1.0,\n",
       " 1.0,\n",
       " 1.0,\n",
       " 1.0,\n",
       " 1.0,\n",
       " 0.9264705882352942,\n",
       " 0.9813664596273292,\n",
       " 0.37130801687763715,\n",
       " 1.0,\n",
       " 0.9744897959183674,\n",
       " 0.4,\n",
       " 0.29411764705882354,\n",
       " 1.0,\n",
       " 0.4133738601823708,\n",
       " 0.896969696969697,\n",
       " 1.0,\n",
       " 0.9376854599406528,\n",
       " 1.0,\n",
       " 0.9675675675675676,\n",
       " 1.0,\n",
       " 0.9793103448275862,\n",
       " 0.9927797833935018,\n",
       " 1.0,\n",
       " 1.0,\n",
       " 1.0,\n",
       " 0.9644970414201184,\n",
       " 0.9521276595744681,\n",
       " 1.0,\n",
       " 1.0,\n",
       " 0.015209125475285171,\n",
       " 0.9761904761904762,\n",
       " 0.6428571428571429,\n",
       " 0.4719626168224299,\n",
       " 0.020066889632107024,\n",
       " 1.0,\n",
       " 0.109375,\n",
       " 1.0,\n",
       " 1.0,\n",
       " 1.0,\n",
       " 0.4230769230769231,\n",
       " 0.9927710843373494,\n",
       " 1.0,\n",
       " 1.0,\n",
       " 1.0,\n",
       " 1.0,\n",
       " 1.0,\n",
       " 1.0,\n",
       " 1.0,\n",
       " 0.9846938775510204,\n",
       " 1.0,\n",
       " 0.3374083129584352,\n",
       " 1.0,\n",
       " 0.335632183908046,\n",
       " 1.0,\n",
       " 1.0,\n",
       " 0.7409948542024014,\n",
       " 1.0,\n",
       " 1.0,\n",
       " 0.9693877551020408,\n",
       " 1.0,\n",
       " 1.0,\n",
       " 1.0,\n",
       " 1.0,\n",
       " 1.0,\n",
       " 1.0,\n",
       " 0.9816849816849816,\n",
       " 0.9910979228486647,\n",
       " 1.0,\n",
       " 0.9808219178082191,\n",
       " 0.7401129943502824,\n",
       " 1.0,\n",
       " 1.0,\n",
       " 1.0,\n",
       " 0.11152416356877323,\n",
       " 0.9781420765027322,\n",
       " 0.9939393939393939,\n",
       " 1.0,\n",
       " 1.0,\n",
       " 0.43137254901960786,\n",
       " 0.035794183445190156,\n",
       " 1.0,\n",
       " 1.0,\n",
       " 0.967741935483871,\n",
       " 0.3630769230769231,\n",
       " 1.0,\n",
       " 0.9428571428571428,\n",
       " 1.0,\n",
       " 1.0,\n",
       " 0.5168539325842697,\n",
       " 0.738255033557047,\n",
       " 0.9836829836829837,\n",
       " 1.0,\n",
       " 1.0,\n",
       " 1.0,\n",
       " 1.0,\n",
       " 1.0,\n",
       " 1.0,\n",
       " 1.0,\n",
       " 0.9875776397515528,\n",
       " 0.7055393586005831,\n",
       " 0.40522875816993464,\n",
       " 1.0,\n",
       " 1.0,\n",
       " 1.0,\n",
       " 0.9796954314720813,\n",
       " 0.4472573839662447,\n",
       " 1.0,\n",
       " 0.9973614775725593,\n",
       " 0.0547945205479452,\n",
       " 0.6666666666666666,\n",
       " 1.0,\n",
       " 1.0,\n",
       " 1.0,\n",
       " 0.38235294117647056,\n",
       " 1.0,\n",
       " 0.9950248756218906,\n",
       " 1.0,\n",
       " 1.0,\n",
       " 1.0,\n",
       " 0.9664694280078896,\n",
       " 1.0,\n",
       " 0.9977528089887641,\n",
       " 0.9117647058823529,\n",
       " 1.0,\n",
       " 0.7151515151515152,\n",
       " 0.9405940594059405,\n",
       " 0.9405940594059405,\n",
       " 0.6636363636363637,\n",
       " 1.0,\n",
       " 0.5353319057815846,\n",
       " 0.9494163424124513,\n",
       " 0.0392156862745098,\n",
       " 0.9948717948717949,\n",
       " 0.9802955665024631,\n",
       " 0.9349593495934959,\n",
       " 1.0,\n",
       " 0.8333333333333334,\n",
       " 0.9805194805194806,\n",
       " 0.6584766584766585,\n",
       " 1.0,\n",
       " 0.6956521739130435,\n",
       " 0.8192219679633868,\n",
       " 0.3827751196172249,\n",
       " 0.37383177570093457,\n",
       " 0.9916897506925207,\n",
       " 0.6194690265486725,\n",
       " 0.4523809523809524,\n",
       " 1.0,\n",
       " 0.2691415313225058,\n",
       " 1.0,\n",
       " 1.0,\n",
       " 1.0,\n",
       " 1.0,\n",
       " 1.0,\n",
       " 0.926829268292683,\n",
       " 0.9113924050632911,\n",
       " 0.9002217294900222,\n",
       " 0.21176470588235294,\n",
       " 0.42714570858283435,\n",
       " 0.9912023460410557,\n",
       " 0.5108225108225108,\n",
       " 0.8329177057356608,\n",
       " 1.0,\n",
       " 1.0,\n",
       " 0.57,\n",
       " 1.0,\n",
       " 0.9509803921568627,\n",
       " 1.0,\n",
       " 1.0,\n",
       " 0.38461538461538464,\n",
       " 1.0,\n",
       " 0.9881235154394299,\n",
       " 1.0,\n",
       " 1.0,\n",
       " 1.0,\n",
       " 0.9747899159663865,\n",
       " 0.8501529051987767,\n",
       " 1.0,\n",
       " 0.9119638826185101,\n",
       " 1.0,\n",
       " 0.9259259259259259,\n",
       " 0.5157232704402516,\n",
       " 0.4778761061946903,\n",
       " 0.09523809523809523,\n",
       " 1.0,\n",
       " 1.0,\n",
       " 0.6229508196721312,\n",
       " 0.5013623978201635,\n",
       " 0.9411764705882353,\n",
       " 0.8592057761732852,\n",
       " 1.0,\n",
       " 0.6176470588235294,\n",
       " 0.9884169884169884,\n",
       " 1.0,\n",
       " 1.0,\n",
       " 0.9319371727748691,\n",
       " 0.990990990990991,\n",
       " 0.4539877300613497,\n",
       " 1.0,\n",
       " 1.0,\n",
       " 1.0,\n",
       " 1.0,\n",
       " 1.0,\n",
       " 0.9197860962566845,\n",
       " 0.5921052631578947,\n",
       " 1.0,\n",
       " 0.994535519125683,\n",
       " 0.994413407821229,\n",
       " 1.0,\n",
       " 0.9972602739726028,\n",
       " 0.9926289926289926,\n",
       " 0.9980582524271845,\n",
       " 0.38513513513513514,\n",
       " 1.0,\n",
       " 1.0,\n",
       " 1.0,\n",
       " 0.9937106918238994,\n",
       " 0.8317757009345794,\n",
       " 1.0,\n",
       " 0.9940119760479041,\n",
       " 0.11518324607329843,\n",
       " 1.0,\n",
       " 0.40264026402640263,\n",
       " 1.0,\n",
       " 1.0,\n",
       " 0.02214022140221402,\n",
       " 0.5083932853717026,\n",
       " 0.9923076923076923,\n",
       " 0.971830985915493,\n",
       " 1.0,\n",
       " 1.0,\n",
       " 0.03428571428571429,\n",
       " 1.0,\n",
       " 1.0,\n",
       " 1.0,\n",
       " 0.9230769230769231,\n",
       " 1.0,\n",
       " 0.9021739130434783,\n",
       " 1.0,\n",
       " 0.9777777777777777,\n",
       " 0.9818181818181818,\n",
       " 0.10978520286396182,\n",
       " 1.0,\n",
       " 1.0,\n",
       " 0.9854014598540146,\n",
       " 1.0,\n",
       " 1.0,\n",
       " 1.0,\n",
       " 0.8732394366197183,\n",
       " 0.9917808219178083,\n",
       " 0.9917808219178083,\n",
       " 1.0,\n",
       " 0.9959183673469387,\n",
       " 0.9813333333333333,\n",
       " 1.0,\n",
       " 1.0,\n",
       " 0.7786259541984732,\n",
       " 1.0,\n",
       " 1.0,\n",
       " 0.9507042253521126,\n",
       " 1.0,\n",
       " 0.9915966386554622,\n",
       " 1.0,\n",
       " 1.0,\n",
       " 0.9277566539923955,\n",
       " 1.0,\n",
       " 0.016260162601626018,\n",
       " 1.0,\n",
       " 0.49808429118773945,\n",
       " 0.29583975346687214,\n",
       " 0.9902439024390244,\n",
       " 1.0,\n",
       " 1.0,\n",
       " 1.0,\n",
       " 0.37073170731707317,\n",
       " 0.9202127659574468,\n",
       " 0.9906542056074766,\n",
       " 1.0,\n",
       " 0.7990074441687345,\n",
       " 1.0,\n",
       " 0.9494949494949495,\n",
       " 1.0,\n",
       " 0.9134948096885813,\n",
       " 1.0,\n",
       " 1.0,\n",
       " 1.0,\n",
       " 0.4923599320882852,\n",
       " 0.836027713625866,\n",
       " 1.0,\n",
       " 1.0,\n",
       " 0.7216494845360825,\n",
       " 0.9855072463768116,\n",
       " 0.5817409766454352,\n",
       " 0.7415730337078652,\n",
       " 0.9824561403508771,\n",
       " 1.0,\n",
       " 0.9942857142857143,\n",
       " 0.467005076142132,\n",
       " 0.7624309392265194,\n",
       " 0.9940119760479041,\n",
       " 0.9345794392523364,\n",
       " 0.9925558312655087,\n",
       " 0.9961240310077519,\n",
       " 0.9441624365482234,\n",
       " 1.0,\n",
       " 1.0,\n",
       " 0.3856749311294766,\n",
       " 1.0,\n",
       " 0.9973333333333333,\n",
       " 0.9007633587786259,\n",
       " 1.0,\n",
       " 1.0,\n",
       " 0.4931506849315068,\n",
       " 1.0,\n",
       " 0.9701492537313433,\n",
       " 1.0,\n",
       " 0.9939024390243902,\n",
       " 1.0,\n",
       " 1.0,\n",
       " 0.7392290249433107,\n",
       " 1.0,\n",
       " 0.9672131147540983,\n",
       " 1.0,\n",
       " 0.9553571428571429,\n",
       " 1.0,\n",
       " 1.0,\n",
       " 1.0,\n",
       " 1.0,\n",
       " 1.0,\n",
       " 1.0,\n",
       " 1.0,\n",
       " 1.0,\n",
       " 0.696,\n",
       " 0.511727078891258,\n",
       " 0.98989898989899,\n",
       " 1.0,\n",
       " 0.354978354978355,\n",
       " 1.0,\n",
       " 0.9913544668587896,\n",
       " 0.9146110056925996,\n",
       " 0.37547892720306514,\n",
       " 1.0,\n",
       " 0.8223684210526315,\n",
       " 1.0,\n",
       " 0.9747899159663865,\n",
       " 1.0,\n",
       " 1.0,\n",
       " 1.0,\n",
       " 1.0,\n",
       " 1.0,\n",
       " 0.836676217765043,\n",
       " 0.9788867562380038,\n",
       " 0.6822916666666666,\n",
       " 1.0,\n",
       " 0.4261168384879725,\n",
       " 0.9805194805194806,\n",
       " 0.993006993006993,\n",
       " 1.0,\n",
       " 1.0,\n",
       " 1.0,\n",
       " 1.0,\n",
       " 1.0,\n",
       " 1.0,\n",
       " 1.0,\n",
       " 1.0,\n",
       " 1.0,\n",
       " 0.85,\n",
       " 0.7477477477477478,\n",
       " 1.0,\n",
       " 0.35064935064935066,\n",
       " 0.9768637532133676,\n",
       " 1.0,\n",
       " 1.0,\n",
       " 0.966183574879227,\n",
       " 0.9361702127659575,\n",
       " 0.2962962962962963,\n",
       " 0.042704626334519574,\n",
       " 1.0,\n",
       " 1.0,\n",
       " 0.9832775919732442,\n",
       " 1.0,\n",
       " 0.6839378238341969,\n",
       " 1.0,\n",
       " 1.0,\n",
       " 1.0,\n",
       " 0.7058823529411765,\n",
       " 1.0,\n",
       " 0.9608355091383812,\n",
       " 0.9560975609756097,\n",
       " 0.9627118644067797,\n",
       " 0.9937888198757764,\n",
       " 1.0,\n",
       " 0.9953917050691244,\n",
       " 1.0,\n",
       " 1.0,\n",
       " 0.490272373540856,\n",
       " 0.9775280898876404,\n",
       " 1.0,\n",
       " 0.9659863945578231,\n",
       " 0.8888888888888888,\n",
       " 1.0,\n",
       " 1.0,\n",
       " 1.0,\n",
       " 0.9942857142857143,\n",
       " 0.9975786924939467,\n",
       " 1.0,\n",
       " 1.0,\n",
       " 0.4077669902912621,\n",
       " 0.9765765765765766,\n",
       " 0.055900621118012424,\n",
       " 0.9616161616161616,\n",
       " 0.024691358024691357,\n",
       " 0.3464566929133858,\n",
       " 0.9911504424778761,\n",
       " 0.44368600682593856,\n",
       " 0.06896551724137931,\n",
       " 1.0,\n",
       " 1.0,\n",
       " 0.4857142857142857,\n",
       " 1.0,\n",
       " 0.7775377969762419,\n",
       " 0.6753246753246753,\n",
       " 1.0,\n",
       " 0.9197080291970803,\n",
       " 1.0,\n",
       " 1.0,\n",
       " 1.0,\n",
       " 1.0,\n",
       " 0.7,\n",
       " 1.0,\n",
       " 0.379746835443038,\n",
       " 0.5547445255474452,\n",
       " 0.9881154499151104,\n",
       " 0.2403846153846154,\n",
       " 0.5161290322580645,\n",
       " 1.0,\n",
       " 0.6666666666666666,\n",
       " 0.7386363636363636,\n",
       " 1.0,\n",
       " 0.4717948717948718,\n",
       " 0.8213457076566125,\n",
       " 1.0,\n",
       " 1.0,\n",
       " 0.9959839357429718,\n",
       " 0.9398148148148148,\n",
       " 1.0,\n",
       " 0.9230769230769231,\n",
       " 0.8555555555555555,\n",
       " 1.0,\n",
       " 1.0,\n",
       " 1.0,\n",
       " 1.0,\n",
       " 0.9424460431654677,\n",
       " 1.0,\n",
       " 1.0,\n",
       " 0.9885057471264368,\n",
       " 1.0,\n",
       " 1.0,\n",
       " 0.9915014164305949,\n",
       " 1.0,\n",
       " 1.0,\n",
       " 0.3076923076923077,\n",
       " 1.0,\n",
       " 0.9950980392156863,\n",
       " 1.0,\n",
       " 1.0,\n",
       " 0.9868421052631579,\n",
       " 1.0,\n",
       " 1.0,\n",
       " 1.0,\n",
       " 0.9891696750902527,\n",
       " 0.9949748743718593,\n",
       " 0.8181818181818182,\n",
       " 0.9502262443438914,\n",
       " 0.46261682242990654,\n",
       " 0.4906937394247039,\n",
       " 1.0,\n",
       " 0.9576059850374065,\n",
       " 1.0,\n",
       " 0.990990990990991,\n",
       " 0.919093851132686,\n",
       " 0.6129032258064516,\n",
       " 0.7316239316239316,\n",
       " 0.9896373056994818,\n",
       " 0.6060606060606061,\n",
       " 0.4978902953586498,\n",
       " 1.0,\n",
       " 0.0243161094224924,\n",
       " 1.0,\n",
       " 1.0,\n",
       " 1.0,\n",
       " 1.0,\n",
       " 0.7588424437299035,\n",
       " 0.5076586433260394,\n",
       " 1.0,\n",
       " 0.9703947368421053,\n",
       " 0.12598425196850394,\n",
       " 0.9705215419501134,\n",
       " 1.0,\n",
       " 0.9681159420289855,\n",
       " 1.0,\n",
       " 0.9887640449438202,\n",
       " 0.8716981132075472,\n",
       " 0.8716981132075472,\n",
       " 1.0,\n",
       " 0.6666666666666666,\n",
       " 0.32620320855614976,\n",
       " 1.0,\n",
       " 1.0,\n",
       " 1.0,\n",
       " 1.0,\n",
       " 1.0,\n",
       " 1.0,\n",
       " 0.9761904761904762,\n",
       " 0.7780979827089337,\n",
       " 1.0,\n",
       " 1.0,\n",
       " 0.7857142857142857,\n",
       " 1.0,\n",
       " 0.4609053497942387,\n",
       " 0.027777777777777776,\n",
       " 1.0,\n",
       " 0.993006993006993,\n",
       " 1.0,\n",
       " 0.9912280701754386,\n",
       " 1.0,\n",
       " 1.0,\n",
       " 0.5375494071146245,\n",
       " 0.9928571428571429,\n",
       " 1.0,\n",
       " 0.9817232375979112,\n",
       " 1.0,\n",
       " 1.0,\n",
       " 0.9138576779026217,\n",
       " 0.7043478260869566,\n",
       " 0.5,\n",
       " 0.983739837398374,\n",
       " 0.9661538461538461,\n",
       " 1.0,\n",
       " 0.9037656903765691,\n",
       " 0.9807162534435262,\n",
       " 0.9917355371900827,\n",
       " 0.9766233766233766,\n",
       " 1.0,\n",
       " 0.9961685823754789,\n",
       " 0.9820359281437125,\n",
       " 1.0,\n",
       " 1.0,\n",
       " 1.0,\n",
       " 1.0,\n",
       " 1.0,\n",
       " 1.0,\n",
       " 1.0,\n",
       " 0.9915966386554622,\n",
       " 0.9868766404199475,\n",
       " 1.0,\n",
       " 0.9661538461538461,\n",
       " 0.940677966101695,\n",
       " 0.9517241379310345,\n",
       " 0.8919540229885058,\n",
       " 1.0,\n",
       " 1.0,\n",
       " 0.9948186528497409,\n",
       " 0.9578947368421052,\n",
       " 1.0,\n",
       " 1.0,\n",
       " 0.9951219512195122,\n",
       " 1.0,\n",
       " 1.0,\n",
       " 0.989010989010989,\n",
       " 0.98989898989899,\n",
       " 0.9901639344262295,\n",
       " 0.9639344262295082,\n",
       " 0.33819241982507287,\n",
       " 1.0,\n",
       " 1.0,\n",
       " 1.0,\n",
       " 0.7509881422924901,\n",
       " 0.9910554561717353,\n",
       " 0.12133072407045009,\n",
       " 1.0,\n",
       " 1.0,\n",
       " 0.9424083769633508,\n",
       " 0.728744939271255,\n",
       " 0.9077490774907749,\n",
       " 1.0,\n",
       " 0.5978260869565217,\n",
       " 1.0,\n",
       " 1.0,\n",
       " 0.9929742388758782,\n",
       " 1.0,\n",
       " 0.8540305010893247,\n",
       " 1.0,\n",
       " 0.3262411347517731,\n",
       " 1.0,\n",
       " 1.0,\n",
       " 0.2880658436213992,\n",
       " 1.0,\n",
       " 1.0,\n",
       " 1.0,\n",
       " 1.0,\n",
       " 0.8145896656534954,\n",
       " 1.0,\n",
       " 1.0,\n",
       " 1.0,\n",
       " 1.0,\n",
       " 1.0,\n",
       " 0.7845303867403315,\n",
       " 0.9806094182825484,\n",
       " 0.308300395256917,\n",
       " 0.9461077844311377,\n",
       " 1.0,\n",
       " 0.9873417721518988,\n",
       " 1.0,\n",
       " 1.0,\n",
       " 0.9515418502202643,\n",
       " 0.9896907216494846,\n",
       " 0.046153846153846156,\n",
       " 0.7588652482269503,\n",
       " 0.7838827838827839,\n",
       " 0.9815950920245399,\n",
       " 0.9640287769784173,\n",
       " 0.6988847583643123,\n",
       " 1.0,\n",
       " 1.0,\n",
       " 1.0,\n",
       " 0.34843205574912894,\n",
       " 0.4330357142857143,\n",
       " 1.0,\n",
       " 0.31891891891891894,\n",
       " 0.8202247191011236,\n",
       " 1.0,\n",
       " 0.39543726235741444,\n",
       " 1.0,\n",
       " 0.8127490039840638,\n",
       " 0.9836956521739131,\n",
       " 1.0,\n",
       " 0.9842931937172775,\n",
       " 0.9869451697127938,\n",
       " 1.0,\n",
       " 0.9216867469879518,\n",
       " 0.8979591836734694,\n",
       " 0.6169154228855721,\n",
       " 0.42748091603053434,\n",
       " 1.0,\n",
       " 0.9706744868035191,\n",
       " 0.8780487804878049,\n",
       " 1.0,\n",
       " 0.9772256728778468,\n",
       " 0.9658119658119658,\n",
       " 1.0,\n",
       " 1.0,\n",
       " 1.0,\n",
       " 1.0,\n",
       " 0.986013986013986,\n",
       " 1.0,\n",
       " 0.9473684210526315,\n",
       " 1.0,\n",
       " 0.30618892508143325,\n",
       " 1.0,\n",
       " 0.9051094890510949,\n",
       " 0.6323024054982818,\n",
       " 0.965034965034965,\n",
       " 1.0,\n",
       " 1.0,\n",
       " 0.9922480620155039,\n",
       " 1.0,\n",
       " 1.0,\n",
       " 1.0,\n",
       " 0.11764705882352941,\n",
       " 0.935064935064935,\n",
       " 1.0,\n",
       " 1.0,\n",
       " 1.0,\n",
       " 1.0,\n",
       " 1.0,\n",
       " 0.8430493273542601,\n",
       " 0.8337028824833703,\n",
       " 0.9222222222222223,\n",
       " 1.0,\n",
       " 1.0,\n",
       " 0.9885057471264368,\n",
       " 0.4721030042918455,\n",
       " 1.0,\n",
       " 0.7533875338753387,\n",
       " 1.0,\n",
       " 0.7906976744186046,\n",
       " 0.9912536443148688,\n",
       " 0.9859154929577465,\n",
       " 1.0,\n",
       " 1.0,\n",
       " 1.0,\n",
       " 1.0,\n",
       " 1.0,\n",
       " 0.975609756097561,\n",
       " 1.0,\n",
       " 0.9901639344262295,\n",
       " 1.0,\n",
       " 0.4377358490566038,\n",
       " 1.0,\n",
       " 1.0,\n",
       " 0.9516129032258065,\n",
       " 0.9961977186311787,\n",
       " 1.0,\n",
       " 0.3271604938271605,\n",
       " 0.9180327868852459,\n",
       " 0.9280469897209985,\n",
       " 0.9781420765027322,\n",
       " 0.9392265193370166,\n",
       " 1.0,\n",
       " 1.0,\n",
       " 1.0,\n",
       " 1.0,\n",
       " 0.9833333333333333,\n",
       " 0.9166666666666666,\n",
       " 0.958904109589041,\n",
       " 0.9632352941176471,\n",
       " 0.9856459330143541,\n",
       " 0.13186813186813187,\n",
       " 0.9018567639257294,\n",
       " 0.5153374233128835,\n",
       " 0.9333333333333333,\n",
       " 1.0,\n",
       " 0.990228013029316,\n",
       " 1.0,\n",
       " 0.9546827794561934,\n",
       " 0.4205607476635514,\n",
       " 0.6046511627906976,\n",
       " 0.8888888888888888,\n",
       " 1.0,\n",
       " 1.0,\n",
       " 0.84,\n",
       " 1.0,\n",
       " 0.984,\n",
       " 0.989010989010989,\n",
       " 0.9931972789115646,\n",
       " 1.0,\n",
       " 1.0,\n",
       " 0.6765432098765433,\n",
       " 0.8681672025723473,\n",
       " 1.0,\n",
       " 1.0,\n",
       " 1.0,\n",
       " 0.4984025559105431,\n",
       " 1.0,\n",
       " 0.43727598566308246,\n",
       " 0.2857142857142857,\n",
       " 0.997624703087886,\n",
       " 1.0,\n",
       " 0.9565217391304348,\n",
       " 0.909433962264151,\n",
       " 0.9807280513918629,\n",
       " 0.5317220543806647,\n",
       " 0.6157112526539278,\n",
       " 0.9971181556195965,\n",
       " 1.0,\n",
       " 0.9878934624697336,\n",
       " 1.0,\n",
       " 0.9803921568627451,\n",
       " 0.99,\n",
       " 1.0,\n",
       " 1.0,\n",
       " 0.9774011299435028,\n",
       " 0.9822485207100592,\n",
       " 1.0,\n",
       " 0.7330316742081447,\n",
       " 1.0,\n",
       " 0.9945054945054945,\n",
       " 1.0,\n",
       " 1.0,\n",
       " 0.986784140969163,\n",
       " 0.993006993006993,\n",
       " 0.6499102333931778,\n",
       " 1.0,\n",
       " 0.7878787878787878,\n",
       " 0.3883495145631068,\n",
       " 1.0,\n",
       " 0.46258503401360546,\n",
       " 1.0,\n",
       " 0.028985507246376812,\n",
       " 0.02830188679245283,\n",
       " 0.9962825278810409,\n",
       " 1.0,\n",
       " 1.0,\n",
       " 1.0,\n",
       " 0.9874476987447699,\n",
       " 1.0,\n",
       " 1.0,\n",
       " 0.5447897623400365,\n",
       " 1.0,\n",
       " 1.0,\n",
       " 0.8571428571428571,\n",
       " 0.9411764705882353,\n",
       " 0.43373493975903615,\n",
       " 1.0,\n",
       " 1.0,\n",
       " 1.0,\n",
       " 0.3249097472924188,\n",
       " 0.9222797927461139,\n",
       " 1.0,\n",
       " 0.9797297297297297,\n",
       " 0.3389830508474576,\n",
       " 0.3333333333333333,\n",
       " 0.995260663507109,\n",
       " 1.0,\n",
       " 1.0,\n",
       " ...]"
      ]
     },
     "execution_count": 23,
     "metadata": {},
     "output_type": "execute_result"
    }
   ],
   "source": [
    "sim_list"
   ]
  },
  {
   "cell_type": "code",
   "execution_count": null,
   "metadata": {},
   "outputs": [],
   "source": []
  },
  {
   "cell_type": "code",
   "execution_count": 24,
   "metadata": {},
   "outputs": [],
   "source": [
    "df_test_eu_us.to_excel('../test for similarity/test_similarity_eu_us2.xlsx')"
   ]
  },
  {
   "cell_type": "code",
   "execution_count": null,
   "metadata": {},
   "outputs": [],
   "source": []
  },
  {
   "cell_type": "code",
   "execution_count": null,
   "metadata": {},
   "outputs": [],
   "source": []
  },
  {
   "cell_type": "code",
   "execution_count": null,
   "metadata": {},
   "outputs": [],
   "source": []
  },
  {
   "cell_type": "code",
   "execution_count": 76,
   "metadata": {},
   "outputs": [
    {
     "data": {
      "text/plain": [
       "0.0"
      ]
     },
     "execution_count": 76,
     "metadata": {},
     "output_type": "execute_result"
    }
   ],
   "source": [
    "## SEQUENCE MATCHER\n",
    "a2 = similar('An Open-label, Non-comparative, Multi-centre Study to Assess the Efficacy and Safety of Bicalutamide When Used in Combination With Anastrozole for the Treatment of Gonadotropin-independent Precocious Puberty in Boys With Testotoxicosis', \n",
    "             '')\n",
    "a2"
   ]
  },
  {
   "cell_type": "code",
   "execution_count": 63,
   "metadata": {},
   "outputs": [
    {
     "data": {
      "text/plain": [
       "0.9978768577494692"
      ]
     },
     "execution_count": 63,
     "metadata": {},
     "output_type": "execute_result"
    }
   ],
   "source": [
    "## SEQUENCE MATCHER\n",
    "b2 = similar('An Open-label, Non-comparative, Multi-centre Study to Assess the Efficacy and Safety of Bicalutamide When Used in Combination With Anastrozole for the Treatment of Gonadotropin-independent Precocious Puberty in Boys With Testotoxicosis', \n",
    "             'An open-label, non-comparative, multi-centre study to assess the efficacy and safety of bicalutamide when used in combination with anastrozole for the treatment of gonadotropin-independent precocious puberty in boys with testotoxicosis.')\n",
    "b2"
   ]
  },
  {
   "cell_type": "code",
   "execution_count": 197,
   "metadata": {},
   "outputs": [
    {
     "data": {
      "text/plain": [
       "0.22574257425742575"
      ]
     },
     "execution_count": 197,
     "metadata": {},
     "output_type": "execute_result"
    }
   ],
   "source": [
    "## SEQUENCE MATCHER\n",
    "c2 = similar('A Phase 2, Multicenter, Randomized, Double-blind, Placebo-controlled, Parallel-group, Dose-ranging Study Evaluating the Efficacy and Safety of CNTO 148 Administered Subcutaneously in Symptomatic Subjects With Severe Persistent Asthma', \n",
    "             'A Phase 2, Randomized, Double-Blind, Crossover Study to Examine the Pharmacodynamics, Safety and Tolerability, and Pharmacokinetics of Single Doses of TD-4208 in Subjects Diagnosed with Chronic Obstructive Pulmonary Disease|Effects of TD-4208 on FEV1 in Subjects with COPD')\n",
    "c2"
   ]
  },
  {
   "cell_type": "code",
   "execution_count": null,
   "metadata": {},
   "outputs": [],
   "source": []
  },
  {
   "cell_type": "code",
   "execution_count": null,
   "metadata": {},
   "outputs": [],
   "source": []
  },
  {
   "cell_type": "code",
   "execution_count": null,
   "metadata": {},
   "outputs": [],
   "source": []
  },
  {
   "cell_type": "code",
   "execution_count": 154,
   "metadata": {},
   "outputs": [
    {
     "name": "stdout",
     "output_type": "stream",
     "text": [
      "chaine1 is not in chaine2\n"
     ]
    }
   ],
   "source": [
    "ch1 = re.escape('A Phase 2, Randomized, Double-Blind, Placebo-Controlled Study to Evaluate the Safety, Efficacy, Pharmacodynamics, and Pharmacokinetics of RG-012 for Injection in Subjects With Alport Syndrome').lower()\n",
    "ch2 = re.escape('A Phase 2, Randomized, Double-Blind, Placebo-Controlled Study to Evaluate the Safety, Pharmacodynamics, Pharmacokinetics, Dose Selection, and Preliminary Efficacy of Weekly RG 012 Injections in Patients with Alport Syndrome').lower()\n",
    "\n",
    "ch1 = ch1.translate(str.maketrans('','',string.punctuation + string.whitespace))\n",
    "ch2 = ch2.translate(str.maketrans('','',string.punctuation + string.whitespace))\n",
    "\n",
    "if ch1 in ch2 : \n",
    "    print(\"chaine1 is in chaine2\")\n",
    "else :\n",
    "    print(\"chaine1 is not in chaine2\")\n"
   ]
  },
  {
   "cell_type": "code",
   "execution_count": 123,
   "metadata": {},
   "outputs": [
    {
     "name": "stdout",
     "output_type": "stream",
     "text": [
      "A\\ Safety\\ and\\ Immunogenicity\\ Study\\ of\\ Quadrivalent\\ HPV\\.\\.\\.\\.\\ \n"
     ]
    }
   ],
   "source": [
    "print(re.escape('A Safety and Immunogenicity Study of Quadrivalent HPV.... '))"
   ]
  },
  {
   "cell_type": "code",
   "execution_count": 96,
   "metadata": {},
   "outputs": [
    {
     "data": {
      "text/plain": [
       "True"
      ]
     },
     "execution_count": 96,
     "metadata": {},
     "output_type": "execute_result"
    }
   ],
   "source": [
    "re.escape('A Safety') in re.escape('A Safety and Immunogenicity Study of Quadrivalent HPV.... ')\n"
   ]
  },
  {
   "cell_type": "code",
   "execution_count": null,
   "metadata": {},
   "outputs": [],
   "source": []
  },
  {
   "cell_type": "code",
   "execution_count": 124,
   "metadata": {},
   "outputs": [],
   "source": [
    "def compare(s1, s2):\n",
    "    remove = string.punctuation + string.whitespace\n",
    "    return s1.translate(str.maketrans('','',string.punctuation)) in s2.translate(str.maketrans('','',string.punctuation))"
   ]
  },
  {
   "cell_type": "code",
   "execution_count": 125,
   "metadata": {},
   "outputs": [
    {
     "data": {
      "text/plain": [
       "False"
      ]
     },
     "execution_count": 125,
     "metadata": {},
     "output_type": "execute_result"
    }
   ],
   "source": [
    "compare(ch1,ch2)"
   ]
  },
  {
   "cell_type": "code",
   "execution_count": 135,
   "metadata": {},
   "outputs": [
    {
     "data": {
      "text/plain": [
       "True"
      ]
     },
     "execution_count": 135,
     "metadata": {},
     "output_type": "execute_result"
    }
   ],
   "source": [
    "ch1.translate(str.maketrans('','',string.punctuation)) in ch2.translate(str.maketrans('','',string.punctuation))"
   ]
  },
  {
   "cell_type": "code",
   "execution_count": 134,
   "metadata": {},
   "outputs": [
    {
     "data": {
      "text/plain": [
       "'A Safety and Immunogenicity Study of Quadrivalent HPV A Long Term Immunogenicity Safety and Effectiveness Study of GARDASILâ\\x84¢ Human Papillomavirus Types 6 11 16 18 Recombinant Vaccine Among Adolescents Who Received GARDASILâ\\x84¢ at 918 Years of Age'"
      ]
     },
     "execution_count": 134,
     "metadata": {},
     "output_type": "execute_result"
    }
   ],
   "source": [
    "ch2.translate(str.maketrans('','',string.punctuation))"
   ]
  },
  {
   "cell_type": "code",
   "execution_count": 133,
   "metadata": {},
   "outputs": [
    {
     "data": {
      "text/plain": [
       "'A Safety and Immunogenicity Study of Quadrivalent HPV '"
      ]
     },
     "execution_count": 133,
     "metadata": {},
     "output_type": "execute_result"
    }
   ],
   "source": [
    "ch1.translate(str.maketrans('','',string.punctuation))"
   ]
  },
  {
   "cell_type": "code",
   "execution_count": null,
   "metadata": {},
   "outputs": [],
   "source": []
  },
  {
   "cell_type": "code",
   "execution_count": null,
   "metadata": {},
   "outputs": [],
   "source": []
  },
  {
   "cell_type": "code",
   "execution_count": null,
   "metadata": {},
   "outputs": [],
   "source": []
  },
  {
   "cell_type": "code",
   "execution_count": null,
   "metadata": {},
   "outputs": [],
   "source": []
  },
  {
   "cell_type": "code",
   "execution_count": null,
   "metadata": {},
   "outputs": [],
   "source": []
  },
  {
   "cell_type": "code",
   "execution_count": null,
   "metadata": {},
   "outputs": [],
   "source": []
  },
  {
   "cell_type": "code",
   "execution_count": null,
   "metadata": {},
   "outputs": [],
   "source": []
  },
  {
   "cell_type": "code",
   "execution_count": null,
   "metadata": {},
   "outputs": [],
   "source": []
  },
  {
   "cell_type": "code",
   "execution_count": 3,
   "metadata": {},
   "outputs": [
    {
     "name": "stdout",
     "output_type": "stream",
     "text": [
      "0.23529411764705882\n"
     ]
    }
   ],
   "source": [
    "## VERIFICATION \n",
    "\n",
    "title1 = 'Atropine'\n",
    "title2 = \"drug delivery system, inhaled atropine, MicroDose Therapeutx\"\n",
    "\n",
    "\n",
    "ltitle1 = re.escape(title1).lower()\n",
    "ltitle1 = ltitle1.translate(str.maketrans('','',string.punctuation + string.whitespace))\n",
    "ltitle2 = re.escape(title2).lower()\n",
    "ltitle2 = ltitle2.translate(str.maketrans('','',string.punctuation + string.whitespace))\n",
    "            \n",
    "            \n",
    "sim = similar(title1,title2)            \n",
    "            \n",
    "print(sim)            \n",
    "            \n",
    "            "
   ]
  },
  {
   "cell_type": "code",
   "execution_count": null,
   "metadata": {},
   "outputs": [],
   "source": []
  },
  {
   "cell_type": "code",
   "execution_count": null,
   "metadata": {},
   "outputs": [],
   "source": []
  },
  {
   "cell_type": "code",
   "execution_count": null,
   "metadata": {},
   "outputs": [],
   "source": []
  }
 ],
 "metadata": {
  "kernelspec": {
   "display_name": "Python 3",
   "language": "python",
   "name": "python3"
  },
  "language_info": {
   "codemirror_mode": {
    "name": "ipython",
    "version": 3
   },
   "file_extension": ".py",
   "mimetype": "text/x-python",
   "name": "python",
   "nbconvert_exporter": "python",
   "pygments_lexer": "ipython3",
   "version": "3.6.5"
  }
 },
 "nbformat": 4,
 "nbformat_minor": 2
}
