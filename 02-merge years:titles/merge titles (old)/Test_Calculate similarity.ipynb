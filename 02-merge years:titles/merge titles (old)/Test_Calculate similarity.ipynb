{
 "cells": [
  {
   "cell_type": "code",
   "execution_count": 2,
   "metadata": {},
   "outputs": [
    {
     "name": "stderr",
     "output_type": "stream",
     "text": [
      "/anaconda3/lib/python3.6/site-packages/fuzzywuzzy/fuzz.py:11: UserWarning: Using slow pure-python SequenceMatcher. Install python-Levenshtein to remove this warning\n",
      "  warnings.warn('Using slow pure-python SequenceMatcher. Install python-Levenshtein to remove this warning')\n"
     ]
    }
   ],
   "source": [
    "from fuzzywuzzy import fuzz, process\n",
    "from difflib import SequenceMatcher"
   ]
  },
  {
   "cell_type": "markdown",
   "metadata": {},
   "source": [
    "## Calculate similarity with \"SequenceMatcher\""
   ]
  },
  {
   "cell_type": "code",
   "execution_count": 2,
   "metadata": {},
   "outputs": [
    {
     "data": {
      "text/plain": [
       "0.6538461538461539"
      ]
     },
     "execution_count": 2,
     "metadata": {},
     "output_type": "execute_result"
    }
   ],
   "source": [
    "# first parameter is for defining the junk element\n",
    "s = SequenceMatcher(lambda x: x == \" \",\n",
    "                    \"Deep Transcranial Magnetic Stimulation (dTMS) to Induce Smoking Cessation\",\n",
    "                    \"Repetitive Transcranial Magnetic Stimulation (rTMS) in the treatment of depression.\").ratio()\n",
    "s"
   ]
  },
  {
   "cell_type": "code",
   "execution_count": 3,
   "metadata": {},
   "outputs": [
    {
     "data": {
      "text/plain": [
       "0.7051282051282052"
      ]
     },
     "execution_count": 3,
     "metadata": {},
     "output_type": "execute_result"
    }
   ],
   "source": [
    "s = SequenceMatcher(None,\n",
    "                    \"Deep Transcranial Magnetic Stimulation (dTMS) to Induce Smoking Cessation\",\n",
    "                    \"Repetitive Transcranial Magnetic Stimulation (rTMS) in the treatment of depression.\").ratio()\n",
    "s"
   ]
  },
  {
   "cell_type": "code",
   "execution_count": 4,
   "metadata": {},
   "outputs": [
    {
     "data": {
      "text/plain": [
       "0.8125"
      ]
     },
     "execution_count": 4,
     "metadata": {},
     "output_type": "execute_result"
    }
   ],
   "source": [
    "s = SequenceMatcher(lambda x: x == \" \",\n",
    "                    \"The PREVAIL Study\",\n",
    "                    \"The STEAL Study\").ratio()\n",
    "s"
   ]
  },
  {
   "cell_type": "markdown",
   "metadata": {},
   "source": [
    "## Calculate similarity with \"Levenshtein distance\""
   ]
  },
  {
   "cell_type": "code",
   "execution_count": 5,
   "metadata": {},
   "outputs": [
    {
     "data": {
      "text/plain": [
       "0.71"
      ]
     },
     "execution_count": 5,
     "metadata": {},
     "output_type": "execute_result"
    }
   ],
   "source": [
    "s = fuzz.ratio(\"Deep Transcranial Magnetic Stimulation (dTMS) to Induce Smoking Cessation\",\n",
    "               \"Repetitive Transcranial Magnetic Stimulation (rTMS) in the treatment of depression.\")/100\n",
    "s"
   ]
  },
  {
   "cell_type": "code",
   "execution_count": 6,
   "metadata": {},
   "outputs": [
    {
     "data": {
      "text/plain": [
       "0.74"
      ]
     },
     "execution_count": 6,
     "metadata": {},
     "output_type": "execute_result"
    }
   ],
   "source": [
    "# partial_ratio : Attempts to account for partial string matches better\n",
    "s = fuzz.partial_ratio(\"Deep Transcranial Magnetic Stimulation (dTMS) to Induce Smoking Cessation\",\n",
    "                       \"Repetitive Transcranial Magnetic Stimulation (rTMS) in the treatment of depression.\")/100\n",
    "s"
   ]
  },
  {
   "cell_type": "code",
   "execution_count": 7,
   "metadata": {},
   "outputs": [
    {
     "data": {
      "text/plain": [
       "0.62"
      ]
     },
     "execution_count": 7,
     "metadata": {},
     "output_type": "execute_result"
    }
   ],
   "source": [
    "# token_sort_ratio : Attempts to account for similar strings out of order\n",
    "s = fuzz.token_sort_ratio(\"Deep Transcranial Magnetic Stimulation (dTMS) to Induce Smoking Cessation\",\n",
    "                          \"Repetitive Transcranial Magnetic Stimulation (rTMS) in the treatment of depression.\")/100\n",
    "s"
   ]
  },
  {
   "cell_type": "code",
   "execution_count": 8,
   "metadata": {},
   "outputs": [
    {
     "data": {
      "text/plain": [
       "0.81"
      ]
     },
     "execution_count": 8,
     "metadata": {},
     "output_type": "execute_result"
    }
   ],
   "source": [
    "s = fuzz.ratio(\"The PREVAIL Study\",\n",
    "               \"The STEAL Study\")/100\n",
    "s"
   ]
  },
  {
   "cell_type": "markdown",
   "metadata": {},
   "source": [
    "## Calculate similarity with \"Jaccard distance\""
   ]
  },
  {
   "cell_type": "code",
   "execution_count": 9,
   "metadata": {},
   "outputs": [],
   "source": [
    "def DistJaccard(str1, str2):\n",
    "    str1 = set(str1.lower().split())\n",
    "    str2 = set(str2.lower().split())\n",
    "    return float(len(str1 & str2)) / len(str1 | str2)"
   ]
  },
  {
   "cell_type": "code",
   "execution_count": 11,
   "metadata": {},
   "outputs": [
    {
     "data": {
      "text/plain": [
       "0.1875"
      ]
     },
     "execution_count": 11,
     "metadata": {},
     "output_type": "execute_result"
    }
   ],
   "source": [
    "DistJaccard(\"Deep Transcranial Magnetic Stimulation (dTMS) to Induce Smoking Cessation\",\n",
    "            \"Repetitive Transcranial Magnetic Stimulation (rTMS) in the treatment of depression.\")"
   ]
  },
  {
   "cell_type": "code",
   "execution_count": 10,
   "metadata": {},
   "outputs": [
    {
     "data": {
      "text/plain": [
       "0.5"
      ]
     },
     "execution_count": 10,
     "metadata": {},
     "output_type": "execute_result"
    }
   ],
   "source": [
    "DistJaccard(\"The PREVAIL Study\",\n",
    "            \"The STEAL Study\")"
   ]
  },
  {
   "cell_type": "markdown",
   "metadata": {},
   "source": [
    "____________"
   ]
  },
  {
   "cell_type": "code",
   "execution_count": 12,
   "metadata": {},
   "outputs": [
    {
     "data": {
      "text/plain": [
       "0.41379310344827586"
      ]
     },
     "execution_count": 12,
     "metadata": {},
     "output_type": "execute_result"
    }
   ],
   "source": [
    "s = SequenceMatcher(lambda x: x == \" \",\n",
    "                    \"Multiple Sclerosis Gut Microbiota and\",\n",
    "                    \"Rehabilitation and driving with Multiple Sclerosis\").ratio()\n",
    "s"
   ]
  },
  {
   "cell_type": "code",
   "execution_count": 13,
   "metadata": {},
   "outputs": [
    {
     "data": {
      "text/plain": [
       "0.55"
      ]
     },
     "execution_count": 13,
     "metadata": {},
     "output_type": "execute_result"
    }
   ],
   "source": [
    "s = fuzz.token_sort_ratio('Multiple Sclerosis Gut Microbiota and', ' Rehabilitation and driving with Multiple Sclerosis')/100\n",
    "s"
   ]
  },
  {
   "cell_type": "code",
   "execution_count": 14,
   "metadata": {},
   "outputs": [
    {
     "data": {
      "text/plain": [
       "0.64"
      ]
     },
     "execution_count": 14,
     "metadata": {},
     "output_type": "execute_result"
    }
   ],
   "source": [
    "s = fuzz.ratio('Gut Microbiota and Multiple Sclerosis', ' Rehabilitation and driving with Multiple Sclerosis')/100\n",
    "s"
   ]
  },
  {
   "cell_type": "code",
   "execution_count": 15,
   "metadata": {},
   "outputs": [
    {
     "data": {
      "text/plain": [
       "0.375"
      ]
     },
     "execution_count": 15,
     "metadata": {},
     "output_type": "execute_result"
    }
   ],
   "source": [
    "DistJaccard('Gut Microbiota and Multiple Sclerosis', ' Rehabilitation and driving with Multiple Sclerosis')"
   ]
  },
  {
   "cell_type": "code",
   "execution_count": 16,
   "metadata": {},
   "outputs": [
    {
     "data": {
      "text/plain": [
       "0.0"
      ]
     },
     "execution_count": 16,
     "metadata": {},
     "output_type": "execute_result"
    }
   ],
   "source": [
    "DistJaccard('Abir jaza','abirr')"
   ]
  },
  {
   "cell_type": "markdown",
   "metadata": {},
   "source": [
    "____________"
   ]
  },
  {
   "cell_type": "code",
   "execution_count": 17,
   "metadata": {},
   "outputs": [
    {
     "data": {
      "text/plain": [
       "0.41379310344827586"
      ]
     },
     "execution_count": 17,
     "metadata": {},
     "output_type": "execute_result"
    }
   ],
   "source": [
    "s = SequenceMatcher(lambda x: x == \" \",\n",
    "                    \"Multiple Sclerosis Gut Microbiota and\",\n",
    "                    \"Rehabilitation and driving with Multiple Sclerosis\").ratio()\n",
    "s"
   ]
  },
  {
   "cell_type": "code",
   "execution_count": null,
   "metadata": {},
   "outputs": [],
   "source": []
  },
  {
   "cell_type": "code",
   "execution_count": 7,
   "metadata": {},
   "outputs": [
    {
     "data": {
      "text/plain": [
       "0.8042328042328042"
      ]
     },
     "execution_count": 7,
     "metadata": {},
     "output_type": "execute_result"
    }
   ],
   "source": [
    "s = SequenceMatcher(lambda x: x == \" \",\n",
    "                    \"Repetitive Transcranial Magnetic Stimulation (rTMS) in the treatment of depression of going to the extreme other.\",\n",
    "                    \"Repetitive Transcranial Magnetic Stimulation in the treatment of depression.\").ratio()\n",
    "s"
   ]
  },
  {
   "cell_type": "code",
   "execution_count": null,
   "metadata": {},
   "outputs": [],
   "source": []
  }
 ],
 "metadata": {
  "kernelspec": {
   "display_name": "Python 3",
   "language": "python",
   "name": "python3"
  },
  "language_info": {
   "codemirror_mode": {
    "name": "ipython",
    "version": 3
   },
   "file_extension": ".py",
   "mimetype": "text/x-python",
   "name": "python",
   "nbconvert_exporter": "python",
   "pygments_lexer": "ipython3",
   "version": "3.6.5"
  }
 },
 "nbformat": 4,
 "nbformat_minor": 2
}
