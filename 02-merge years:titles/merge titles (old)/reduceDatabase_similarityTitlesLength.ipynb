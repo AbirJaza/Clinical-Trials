{
 "cells": [
  {
   "cell_type": "code",
   "execution_count": 1,
   "metadata": {},
   "outputs": [],
   "source": [
    "import csv\n",
    "import pandas as pd"
   ]
  },
  {
   "cell_type": "code",
   "execution_count": 2,
   "metadata": {},
   "outputs": [
    {
     "data": {
      "text/html": [
       "<div>\n",
       "<style scoped>\n",
       "    .dataframe tbody tr th:only-of-type {\n",
       "        vertical-align: middle;\n",
       "    }\n",
       "\n",
       "    .dataframe tbody tr th {\n",
       "        vertical-align: top;\n",
       "    }\n",
       "\n",
       "    .dataframe thead th {\n",
       "        text-align: right;\n",
       "    }\n",
       "</style>\n",
       "<table border=\"1\" class=\"dataframe\">\n",
       "  <thead>\n",
       "    <tr style=\"text-align: right;\">\n",
       "      <th></th>\n",
       "      <th>trial_id</th>\n",
       "      <th>short_title</th>\n",
       "      <th>long_title</th>\n",
       "    </tr>\n",
       "  </thead>\n",
       "  <tbody>\n",
       "    <tr>\n",
       "      <th>0</th>\n",
       "      <td>NCT03260985</td>\n",
       "      <td>Precision Psychiatry Continuity Clinic Project</td>\n",
       "      <td>Precision Psychiatry Continuity Clinic Project</td>\n",
       "    </tr>\n",
       "    <tr>\n",
       "      <th>1</th>\n",
       "      <td>NCT03268473</td>\n",
       "      <td>Effect of Non-surgical Periodontal Treatment o...</td>\n",
       "      <td>Effect of Non-surgical Periodontal Treatment o...</td>\n",
       "    </tr>\n",
       "    <tr>\n",
       "      <th>2</th>\n",
       "      <td>NCT03262610</td>\n",
       "      <td>Setemelanotide in a Single Patient With Partia...</td>\n",
       "      <td>Expanded-access for the Use of Setemelanotide ...</td>\n",
       "    </tr>\n",
       "    <tr>\n",
       "      <th>3</th>\n",
       "      <td>NCT03264261</td>\n",
       "      <td>Constraint Induced Movement Therapy for Walkin...</td>\n",
       "      <td>Constraint Induced Movement Therapy for Walkin...</td>\n",
       "    </tr>\n",
       "    <tr>\n",
       "      <th>4</th>\n",
       "      <td>NCT03267797</td>\n",
       "      <td>The Effects of Lymphocyte Therapy on Pregnancy...</td>\n",
       "      <td>The Effect of Intrauterine Lymphocyte Therapy ...</td>\n",
       "    </tr>\n",
       "  </tbody>\n",
       "</table>\n",
       "</div>"
      ],
      "text/plain": [
       "      trial_id                                        short_title  \\\n",
       "0  NCT03260985     Precision Psychiatry Continuity Clinic Project   \n",
       "1  NCT03268473  Effect of Non-surgical Periodontal Treatment o...   \n",
       "2  NCT03262610  Setemelanotide in a Single Patient With Partia...   \n",
       "3  NCT03264261  Constraint Induced Movement Therapy for Walkin...   \n",
       "4  NCT03267797  The Effects of Lymphocyte Therapy on Pregnancy...   \n",
       "\n",
       "                                          long_title  \n",
       "0     Precision Psychiatry Continuity Clinic Project  \n",
       "1  Effect of Non-surgical Periodontal Treatment o...  \n",
       "2  Expanded-access for the Use of Setemelanotide ...  \n",
       "3  Constraint Induced Movement Therapy for Walkin...  \n",
       "4  The Effect of Intrauterine Lymphocyte Therapy ...  "
      ]
     },
     "execution_count": 2,
     "metadata": {},
     "output_type": "execute_result"
    }
   ],
   "source": [
    "### USA\n",
    "df_us = pd.read_csv('../treatment_Data/trial_title/us_title.csv', sep='|')\n",
    "df_us.head()"
   ]
  },
  {
   "cell_type": "code",
   "execution_count": 4,
   "metadata": {},
   "outputs": [
    {
     "data": {
      "text/html": [
       "<div>\n",
       "<style scoped>\n",
       "    .dataframe tbody tr th:only-of-type {\n",
       "        vertical-align: middle;\n",
       "    }\n",
       "\n",
       "    .dataframe tbody tr th {\n",
       "        vertical-align: top;\n",
       "    }\n",
       "\n",
       "    .dataframe thead th {\n",
       "        text-align: right;\n",
       "    }\n",
       "</style>\n",
       "<table border=\"1\" class=\"dataframe\">\n",
       "  <thead>\n",
       "    <tr style=\"text-align: right;\">\n",
       "      <th></th>\n",
       "      <th>trial_id</th>\n",
       "      <th>short_title</th>\n",
       "      <th>long_title</th>\n",
       "    </tr>\n",
       "  </thead>\n",
       "  <tbody>\n",
       "    <tr>\n",
       "      <th>0</th>\n",
       "      <td>ACTRN12605000058673</td>\n",
       "      <td>Magnesium in Aneurysmal Subarachnoid Haemorrhage</td>\n",
       "      <td>A multi-centre, single blinded, randomised con...</td>\n",
       "    </tr>\n",
       "    <tr>\n",
       "      <th>1</th>\n",
       "      <td>ACTRN12605000059662</td>\n",
       "      <td>Multicentre, Unblinded, Randomised, Controlled...</td>\n",
       "      <td>Multicentre, Unblinded, Randomised, Controlled...</td>\n",
       "    </tr>\n",
       "    <tr>\n",
       "      <th>2</th>\n",
       "      <td>ACTRN12605000060640</td>\n",
       "      <td>A trial of G-CSF in septic shock excluding mel...</td>\n",
       "      <td>A single centre double blinded randomised cont...</td>\n",
       "    </tr>\n",
       "    <tr>\n",
       "      <th>3</th>\n",
       "      <td>ACTRN12605000061639</td>\n",
       "      <td>Randomised controlled trial of maintenance flu...</td>\n",
       "      <td>Randomised controlled trial of maintenance flu...</td>\n",
       "    </tr>\n",
       "    <tr>\n",
       "      <th>4</th>\n",
       "      <td>ACTRN12605000062628</td>\n",
       "      <td>Placebo versus Adrenaline in Cardiac Arrest</td>\n",
       "      <td>A randomised placebo controlled trial of adren...</td>\n",
       "    </tr>\n",
       "  </tbody>\n",
       "</table>\n",
       "</div>"
      ],
      "text/plain": [
       "              trial_id                                        short_title  \\\n",
       "0  ACTRN12605000058673   Magnesium in Aneurysmal Subarachnoid Haemorrhage   \n",
       "1  ACTRN12605000059662  Multicentre, Unblinded, Randomised, Controlled...   \n",
       "2  ACTRN12605000060640  A trial of G-CSF in septic shock excluding mel...   \n",
       "3  ACTRN12605000061639  Randomised controlled trial of maintenance flu...   \n",
       "4  ACTRN12605000062628        Placebo versus Adrenaline in Cardiac Arrest   \n",
       "\n",
       "                                          long_title  \n",
       "0  A multi-centre, single blinded, randomised con...  \n",
       "1  Multicentre, Unblinded, Randomised, Controlled...  \n",
       "2  A single centre double blinded randomised cont...  \n",
       "3  Randomised controlled trial of maintenance flu...  \n",
       "4  A randomised placebo controlled trial of adren...  "
      ]
     },
     "execution_count": 4,
     "metadata": {},
     "output_type": "execute_result"
    }
   ],
   "source": [
    "### ICTRP\n",
    "df_ictrp = pd.read_csv('../treatment_Data/trial_title/ictrp_title.csv', sep='|')\n",
    "df_ictrp.head()"
   ]
  },
  {
   "cell_type": "code",
   "execution_count": 3,
   "metadata": {},
   "outputs": [
    {
     "data": {
      "text/html": [
       "<div>\n",
       "<style scoped>\n",
       "    .dataframe tbody tr th:only-of-type {\n",
       "        vertical-align: middle;\n",
       "    }\n",
       "\n",
       "    .dataframe tbody tr th {\n",
       "        vertical-align: top;\n",
       "    }\n",
       "\n",
       "    .dataframe thead th {\n",
       "        text-align: right;\n",
       "    }\n",
       "</style>\n",
       "<table border=\"1\" class=\"dataframe\">\n",
       "  <thead>\n",
       "    <tr style=\"text-align: right;\">\n",
       "      <th></th>\n",
       "      <th>trial_id</th>\n",
       "      <th>long_title</th>\n",
       "    </tr>\n",
       "  </thead>\n",
       "  <tbody>\n",
       "    <tr>\n",
       "      <th>0</th>\n",
       "      <td>2004-000007-18</td>\n",
       "      <td>A Multicentre, Randomised, Double-Blind, Paral...</td>\n",
       "    </tr>\n",
       "    <tr>\n",
       "      <th>1</th>\n",
       "      <td>2004-000012-13</td>\n",
       "      <td>A Double-Blind, Placebo-Controlled, Parallel, ...</td>\n",
       "    </tr>\n",
       "    <tr>\n",
       "      <th>2</th>\n",
       "      <td>2004-000015-25</td>\n",
       "      <td>A phase 3 randomized, placebo-controlled, doub...</td>\n",
       "    </tr>\n",
       "    <tr>\n",
       "      <th>3</th>\n",
       "      <td>2004-000016-10</td>\n",
       "      <td>A 3-MONTH, RANDOMIZED, DOUBLE-BLIND, PLACEBO- ...</td>\n",
       "    </tr>\n",
       "    <tr>\n",
       "      <th>4</th>\n",
       "      <td>2004-000020-32</td>\n",
       "      <td>The Efficacy and Safety of Irbesartan/HCTZ Com...</td>\n",
       "    </tr>\n",
       "  </tbody>\n",
       "</table>\n",
       "</div>"
      ],
      "text/plain": [
       "         trial_id                                         long_title\n",
       "0  2004-000007-18  A Multicentre, Randomised, Double-Blind, Paral...\n",
       "1  2004-000012-13  A Double-Blind, Placebo-Controlled, Parallel, ...\n",
       "2  2004-000015-25  A phase 3 randomized, placebo-controlled, doub...\n",
       "3  2004-000016-10  A 3-MONTH, RANDOMIZED, DOUBLE-BLIND, PLACEBO- ...\n",
       "4  2004-000020-32  The Efficacy and Safety of Irbesartan/HCTZ Com..."
      ]
     },
     "execution_count": 3,
     "metadata": {},
     "output_type": "execute_result"
    }
   ],
   "source": [
    "### EU\n",
    "df_eu = pd.read_csv('../treatment_Data/trial_title/eu_title.csv', sep='|')\n",
    "df_eu.head()"
   ]
  },
  {
   "cell_type": "code",
   "execution_count": 5,
   "metadata": {},
   "outputs": [],
   "source": [
    "# Function to count words in a string.\n",
    "def word_count(string):\n",
    "    tokens = string.split()\n",
    "    n_tokens = len(tokens)\n",
    "    return n_tokens "
   ]
  },
  {
   "cell_type": "code",
   "execution_count": 7,
   "metadata": {},
   "outputs": [
    {
     "data": {
      "text/plain": [
       "9"
      ]
     },
     "execution_count": 7,
     "metadata": {},
     "output_type": "execute_result"
    }
   ],
   "source": [
    "#test\n",
    "word_count(\"The quick brown fox jumped over the lazy dog.\")"
   ]
  },
  {
   "cell_type": "code",
   "execution_count": 9,
   "metadata": {},
   "outputs": [
    {
     "data": {
      "text/plain": [
       "'A Double-Blind, Placebo-Controlled, Parallel, Randomized Study To Evaluate The Efficacy And Safety Of 3 Oral Dose Levels Of TMI-005 In Subjects With Active Rheumatoid Arthritis On A Background Of Methotrexate'"
      ]
     },
     "execution_count": 9,
     "metadata": {},
     "output_type": "execute_result"
    }
   ],
   "source": [
    "df_eu.long_title[1]"
   ]
  },
  {
   "cell_type": "code",
   "execution_count": 8,
   "metadata": {},
   "outputs": [
    {
     "data": {
      "text/plain": [
       "30"
      ]
     },
     "execution_count": 8,
     "metadata": {},
     "output_type": "execute_result"
    }
   ],
   "source": [
    "word_count(df_eu.long_title[1])"
   ]
  },
  {
   "cell_type": "code",
   "execution_count": null,
   "metadata": {},
   "outputs": [],
   "source": [
    "l_trials = [\"df_eu\",\"df_us\",\"df_ictrp\"]\n",
    "for l in l_trials:\n",
    "    l[\"\"]\n",
    "    \n",
    "df_eu['diff_length_l'] =  word_count(df_eu.long_title[1]) - word_count()  \n"
   ]
  }
 ],
 "metadata": {
  "kernelspec": {
   "display_name": "Python 3",
   "language": "python",
   "name": "python3"
  },
  "language_info": {
   "codemirror_mode": {
    "name": "ipython",
    "version": 3
   },
   "file_extension": ".py",
   "mimetype": "text/x-python",
   "name": "python",
   "nbconvert_exporter": "python",
   "pygments_lexer": "ipython3",
   "version": "3.6.5"
  }
 },
 "nbformat": 4,
 "nbformat_minor": 2
}
