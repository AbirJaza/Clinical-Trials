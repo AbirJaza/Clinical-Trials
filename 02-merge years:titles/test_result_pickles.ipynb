{
 "cells": [
  {
   "cell_type": "code",
   "execution_count": 1,
   "metadata": {},
   "outputs": [],
   "source": [
    "import pickle\n",
    "import re\n",
    "import pandas as pd"
   ]
  },
  {
   "cell_type": "code",
   "execution_count": 2,
   "metadata": {},
   "outputs": [
    {
     "data": {
      "text/plain": [
       "3141796"
      ]
     },
     "execution_count": 2,
     "metadata": {},
     "output_type": "execute_result"
    }
   ],
   "source": [
    "list_source = []\n",
    "for i in range(1,71):\n",
    "    list_source = list_source + pickle.load(open(\"../_results/01-years_ltitles/new pickles/US_ICTRP/Pickle\"+str(i)+\"_us_ictrp.pickle\", \"rb\" ) )\n",
    "\n",
    "len(list_source)    "
   ]
  },
  {
   "cell_type": "code",
   "execution_count": 3,
   "metadata": {},
   "outputs": [],
   "source": [
    "df_us_ictrp = pd.DataFrame(list_source, columns=['id_ICTRP','year_ICTRP','long_title_ICTRP','id_US','year_US','long_title_US','similarity'])\n"
   ]
  },
  {
   "cell_type": "code",
   "execution_count": 7,
   "metadata": {},
   "outputs": [],
   "source": [
    "df_us_ictrp = df_us_ictrp[df_us_ictrp.long_title_ICTRP != \"-\"]\n",
    "df_us_ictrp = df_us_ictrp[df_us_ictrp.long_title_ICTRP != \"na\"]\n",
    "df_us_ictrp = df_us_ictrp[df_us_ictrp.long_title_ICTRP != \"- - -\"]\n",
    "df_us_ictrp = df_us_ictrp[df_us_ictrp.long_title_ICTRP != \"na -\"]\n",
    "df_us_ictrp = df_us_ictrp[df_us_ictrp.long_title_US != \"-\"]\n",
    "df_us_ictrp = df_us_ictrp[df_us_ictrp.long_title_US != \"na\"]\n",
    "df_us_ictrp = df_us_ictrp[df_us_ictrp.long_title_US != \"A\"]\n",
    "df_us_ictrp = df_us_ictrp[df_us_ictrp.long_title_US != \"_\"]\n",
    "df_us_ictrp = df_us_ictrp[df_us_ictrp.long_title_US != \".\"]\n",
    "df_us_ictrp = df_us_ictrp[df_us_ictrp.long_title_US != \"ND\"]\n",
    "df_us_ictrp = df_us_ictrp[df_us_ictrp.long_title_US != \"/\"]\n",
    "df_us_ictrp = df_us_ictrp[df_us_ictrp.long_title_US != \"No\"]"
   ]
  },
  {
   "cell_type": "code",
   "execution_count": 8,
   "metadata": {},
   "outputs": [],
   "source": [
    "df_us_ictrp = df_us_ictrp[df_us_ictrp.long_title_ICTRP != \"N/A - N/A\"]\n",
    "df_us_ictrp = df_us_ictrp[df_us_ictrp.long_title_ICTRP != \"Dr -\"]"
   ]
  },
  {
   "cell_type": "code",
   "execution_count": 9,
   "metadata": {},
   "outputs": [
    {
     "data": {
      "text/html": [
       "<div>\n",
       "<style scoped>\n",
       "    .dataframe tbody tr th:only-of-type {\n",
       "        vertical-align: middle;\n",
       "    }\n",
       "\n",
       "    .dataframe tbody tr th {\n",
       "        vertical-align: top;\n",
       "    }\n",
       "\n",
       "    .dataframe thead th {\n",
       "        text-align: right;\n",
       "    }\n",
       "</style>\n",
       "<table border=\"1\" class=\"dataframe\">\n",
       "  <thead>\n",
       "    <tr style=\"text-align: right;\">\n",
       "      <th></th>\n",
       "      <th>id_ICTRP</th>\n",
       "      <th>year_ICTRP</th>\n",
       "      <th>long_title_ICTRP</th>\n",
       "      <th>id_US</th>\n",
       "      <th>year_US</th>\n",
       "      <th>long_title_US</th>\n",
       "      <th>similarity</th>\n",
       "    </tr>\n",
       "  </thead>\n",
       "  <tbody>\n",
       "    <tr>\n",
       "      <th>0</th>\n",
       "      <td>ACTRN12605000059662</td>\n",
       "      <td>2005.0</td>\n",
       "      <td>Multicentre, Unblinded, Randomised, Controlled...</td>\n",
       "      <td>NCT00221013</td>\n",
       "      <td>2005.0</td>\n",
       "      <td>Multicentre, Unblinded, Open Label, Randomised...</td>\n",
       "      <td>0.975369</td>\n",
       "    </tr>\n",
       "    <tr>\n",
       "      <th>1</th>\n",
       "      <td>ACTRN12605000111673</td>\n",
       "      <td>2004.0</td>\n",
       "      <td>HPV DNA testing versus conventional management...</td>\n",
       "      <td>NCT00119509</td>\n",
       "      <td>2004.0</td>\n",
       "      <td>HPV DNA Testing Versus Conventional Management...</td>\n",
       "      <td>1.000000</td>\n",
       "    </tr>\n",
       "    <tr>\n",
       "      <th>2</th>\n",
       "      <td>ACTRN12605000116628</td>\n",
       "      <td>2005.0</td>\n",
       "      <td>The effect of 6 month high intensity progressi...</td>\n",
       "      <td>NCT00465660</td>\n",
       "      <td>2005.0</td>\n",
       "      <td>The Effect of 6 Month High Intensity Progressi...</td>\n",
       "      <td>1.000000</td>\n",
       "    </tr>\n",
       "    <tr>\n",
       "      <th>3</th>\n",
       "      <td>ACTRN12605000132640</td>\n",
       "      <td>2006.0</td>\n",
       "      <td>A multi-centre, open-label, randomised study t...</td>\n",
       "      <td>NCT00126308</td>\n",
       "      <td>2005.0</td>\n",
       "      <td>A Multi-Centre, Open-Label, Randomised Study t...</td>\n",
       "      <td>0.983498</td>\n",
       "    </tr>\n",
       "    <tr>\n",
       "      <th>4</th>\n",
       "      <td>ACTRN12605000138684</td>\n",
       "      <td>2001.0</td>\n",
       "      <td>Phase III, randomised, intergroup, internation...</td>\n",
       "      <td>NCT00685828</td>\n",
       "      <td>2001.0</td>\n",
       "      <td>Phase III Randomized, Intergroup, Internationa...</td>\n",
       "      <td>0.992908</td>\n",
       "    </tr>\n",
       "  </tbody>\n",
       "</table>\n",
       "</div>"
      ],
      "text/plain": [
       "              id_ICTRP  year_ICTRP  \\\n",
       "0  ACTRN12605000059662      2005.0   \n",
       "1  ACTRN12605000111673      2004.0   \n",
       "2  ACTRN12605000116628      2005.0   \n",
       "3  ACTRN12605000132640      2006.0   \n",
       "4  ACTRN12605000138684      2001.0   \n",
       "\n",
       "                                    long_title_ICTRP        id_US  year_US  \\\n",
       "0  Multicentre, Unblinded, Randomised, Controlled...  NCT00221013   2005.0   \n",
       "1  HPV DNA testing versus conventional management...  NCT00119509   2004.0   \n",
       "2  The effect of 6 month high intensity progressi...  NCT00465660   2005.0   \n",
       "3  A multi-centre, open-label, randomised study t...  NCT00126308   2005.0   \n",
       "4  Phase III, randomised, intergroup, internation...  NCT00685828   2001.0   \n",
       "\n",
       "                                       long_title_US  similarity  \n",
       "0  Multicentre, Unblinded, Open Label, Randomised...    0.975369  \n",
       "1  HPV DNA Testing Versus Conventional Management...    1.000000  \n",
       "2  The Effect of 6 Month High Intensity Progressi...    1.000000  \n",
       "3  A Multi-Centre, Open-Label, Randomised Study t...    0.983498  \n",
       "4  Phase III Randomized, Intergroup, Internationa...    0.992908  "
      ]
     },
     "execution_count": 9,
     "metadata": {},
     "output_type": "execute_result"
    }
   ],
   "source": [
    "df_us_ictrp[0:5]"
   ]
  },
  {
   "cell_type": "code",
   "execution_count": 10,
   "metadata": {},
   "outputs": [
    {
     "data": {
      "text/plain": [
       "2426"
      ]
     },
     "execution_count": 10,
     "metadata": {},
     "output_type": "execute_result"
    }
   ],
   "source": [
    "len(df_us_ictrp)"
   ]
  },
  {
   "cell_type": "code",
   "execution_count": 11,
   "metadata": {},
   "outputs": [],
   "source": [
    "df_us_ictrp.to_excel('../_results/01-years_ltitles/new excels/NEW_us_ictrp_years_ltitles_listPART1.xlsx')"
   ]
  },
  {
   "cell_type": "code",
   "execution_count": null,
   "metadata": {},
   "outputs": [],
   "source": []
  },
  {
   "cell_type": "code",
   "execution_count": null,
   "metadata": {},
   "outputs": [],
   "source": []
  },
  {
   "cell_type": "code",
   "execution_count": null,
   "metadata": {},
   "outputs": [],
   "source": []
  },
  {
   "cell_type": "code",
   "execution_count": null,
   "metadata": {},
   "outputs": [],
   "source": []
  },
  {
   "cell_type": "code",
   "execution_count": null,
   "metadata": {},
   "outputs": [],
   "source": []
  },
  {
   "cell_type": "code",
   "execution_count": null,
   "metadata": {},
   "outputs": [],
   "source": []
  }
 ],
 "metadata": {
  "kernelspec": {
   "display_name": "Python 3",
   "language": "python",
   "name": "python3"
  },
  "language_info": {
   "codemirror_mode": {
    "name": "ipython",
    "version": 3
   },
   "file_extension": ".py",
   "mimetype": "text/x-python",
   "name": "python",
   "nbconvert_exporter": "python",
   "pygments_lexer": "ipython3",
   "version": "3.6.5"
  }
 },
 "nbformat": 4,
 "nbformat_minor": 2
}
