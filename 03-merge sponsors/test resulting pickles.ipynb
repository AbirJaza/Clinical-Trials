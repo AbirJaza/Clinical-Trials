{
 "cells": [
  {
   "cell_type": "code",
   "execution_count": 2,
   "metadata": {},
   "outputs": [],
   "source": [
    "import pickle\n",
    "import pandas as pd"
   ]
  },
  {
   "cell_type": "code",
   "execution_count": 10,
   "metadata": {},
   "outputs": [
    {
     "data": {
      "text/plain": [
       "9010"
      ]
     },
     "execution_count": 10,
     "metadata": {},
     "output_type": "execute_result"
    }
   ],
   "source": [
    "list_source = []\n",
    "list_source = list_source + pickle.load(open(\"EU_sponsor_type_name.pickle\", \"rb\" ) )\n",
    "\n",
    "len(list_source)    "
   ]
  },
  {
   "cell_type": "code",
   "execution_count": 11,
   "metadata": {},
   "outputs": [
    {
     "data": {
      "text/plain": [
       "[('Wyeth Research Division of Wyeth Pharmaceuticals Inc., Clinical Research and Development',\n",
       "  'Commercial'),\n",
       " ('Bristol Myers Squibb International Corporation', 'Commercial'),\n",
       " ('Bristol-Myers Squibb International Corporation', 'Commercial'),\n",
       " ('Eli Lilly and Company Limited', 'Commercial'),\n",
       " ('Eli Lilly and Company Limited', 'Commercial'),\n",
       " ('InterMune', 'Commercial'),\n",
       " ('InterMune', 'Commercial'),\n",
       " ('Bristol Myers Squibb International Corporation', 'Commercial'),\n",
       " ('Bristol Myers Squibb International Corporation', 'Commercial'),\n",
       " ('MedImmune, Inc.', 'Commercial')]"
      ]
     },
     "execution_count": 11,
     "metadata": {},
     "output_type": "execute_result"
    }
   ],
   "source": [
    "list_source[0:10]"
   ]
  },
  {
   "cell_type": "code",
   "execution_count": null,
   "metadata": {},
   "outputs": [],
   "source": []
  },
  {
   "cell_type": "code",
   "execution_count": 12,
   "metadata": {},
   "outputs": [
    {
     "data": {
      "text/plain": [
       "9571"
      ]
     },
     "execution_count": 12,
     "metadata": {},
     "output_type": "execute_result"
    }
   ],
   "source": [
    "list_source2 = []\n",
    "list_source2 = list_source2 + pickle.load(open(\"US_sponsor_type_name.pickle\", \"rb\" ) )\n",
    "\n",
    "len(list_source2)  "
   ]
  },
  {
   "cell_type": "code",
   "execution_count": 16,
   "metadata": {},
   "outputs": [
    {
     "data": {
      "text/plain": [
       "[('Medtronic - MITG', 'Commercial'),\n",
       " ('Medtronic - MITG', 'Commercial'),\n",
       " ('Medtronic - MITG', 'Commercial'),\n",
       " ('Medtronic - MITG', 'Commercial'),\n",
       " ('Medtronic - MITG', 'Commercial'),\n",
       " ('Medtronic - MITG', 'Commercial'),\n",
       " ('Medtronic - MITG', 'Commercial'),\n",
       " ('Medtronic - MITG', 'Commercial'),\n",
       " ('Medtronic - MITG', 'Commercial'),\n",
       " ('Medtronic - MITG', 'Commercial'),\n",
       " ('Medtronic - MITG', 'Commercial'),\n",
       " ('Medtronic - MITG', 'Commercial'),\n",
       " ('Medtronic - MITG', 'Commercial'),\n",
       " ('Medtronic - MITG', 'Commercial'),\n",
       " ('Medtronic - MITG', 'Commercial'),\n",
       " ('Medtronic - MITG', 'Commercial'),\n",
       " ('Medtronic - MITG', 'Commercial'),\n",
       " ('Medtronic - MITG', 'Commercial'),\n",
       " ('Medtronic - MITG', 'Commercial'),\n",
       " ('Medtronic - MITG', 'Commercial')]"
      ]
     },
     "execution_count": 16,
     "metadata": {},
     "output_type": "execute_result"
    }
   ],
   "source": [
    "list_source2[30:50]"
   ]
  },
  {
   "cell_type": "code",
   "execution_count": null,
   "metadata": {},
   "outputs": [],
   "source": []
  }
 ],
 "metadata": {
  "kernelspec": {
   "display_name": "Python 3",
   "language": "python",
   "name": "python3"
  },
  "language_info": {
   "codemirror_mode": {
    "name": "ipython",
    "version": 3
   },
   "file_extension": ".py",
   "mimetype": "text/x-python",
   "name": "python",
   "nbconvert_exporter": "python",
   "pygments_lexer": "ipython3",
   "version": "3.6.5"
  }
 },
 "nbformat": 4,
 "nbformat_minor": 2
}
