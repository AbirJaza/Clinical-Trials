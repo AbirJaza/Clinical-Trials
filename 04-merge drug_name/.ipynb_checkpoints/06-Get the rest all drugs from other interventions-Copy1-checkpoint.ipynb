{
 "cells": [
  {
   "cell_type": "code",
   "execution_count": 1,
   "metadata": {},
   "outputs": [],
   "source": [
    "import pandas as pd\n",
    "from pandas import *\n",
    "import re"
   ]
  },
  {
   "cell_type": "code",
   "execution_count": 2,
   "metadata": {},
   "outputs": [
    {
     "data": {
      "text/html": [
       "<style>.container {width:80% !important;}</style>"
      ],
      "text/plain": [
       "<IPython.core.display.HTML object>"
      ]
     },
     "metadata": {},
     "output_type": "display_data"
    }
   ],
   "source": [
    "from IPython.core.display import display, HTML\n",
    "display(HTML(\"<style>.container {width:80% !important;}</style>\"))"
   ]
  },
  {
   "cell_type": "code",
   "execution_count": 3,
   "metadata": {},
   "outputs": [],
   "source": [
    "### Function \n",
    "def is_nan(x):\n",
    "    return (x is np.nan or x != x)"
   ]
  },
  {
   "cell_type": "code",
   "execution_count": 4,
   "metadata": {},
   "outputs": [],
   "source": [
    "#function to skip the element if there's a [] in it\n",
    "def skip(names):\n",
    "    for i in names:\n",
    "        if '[' in i :\n",
    "            return True\n",
    "    return False"
   ]
  },
  {
   "cell_type": "markdown",
   "metadata": {},
   "source": [
    "## Dictionnary of old drugs"
   ]
  },
  {
   "cell_type": "code",
   "execution_count": 5,
   "metadata": {},
   "outputs": [
    {
     "data": {
      "text/html": [
       "<div>\n",
       "<style scoped>\n",
       "    .dataframe tbody tr th:only-of-type {\n",
       "        vertical-align: middle;\n",
       "    }\n",
       "\n",
       "    .dataframe tbody tr th {\n",
       "        vertical-align: top;\n",
       "    }\n",
       "\n",
       "    .dataframe thead th {\n",
       "        text-align: right;\n",
       "    }\n",
       "</style>\n",
       "<table border=\"1\" class=\"dataframe\">\n",
       "  <thead>\n",
       "    <tr style=\"text-align: right;\">\n",
       "      <th></th>\n",
       "      <th>record_no</th>\n",
       "      <th>drug_name</th>\n",
       "      <th>search_string</th>\n",
       "      <th>drug_name_lower</th>\n",
       "    </tr>\n",
       "  </thead>\n",
       "  <tbody>\n",
       "    <tr>\n",
       "      <th>0</th>\n",
       "      <td>od1</td>\n",
       "      <td>abacavir sulfate</td>\n",
       "      <td>abacavir sulfate</td>\n",
       "      <td>abacavir sulfate</td>\n",
       "    </tr>\n",
       "    <tr>\n",
       "      <th>1</th>\n",
       "      <td>od1</td>\n",
       "      <td>1592U89</td>\n",
       "      <td>1592u89</td>\n",
       "      <td>1592u89</td>\n",
       "    </tr>\n",
       "    <tr>\n",
       "      <th>2</th>\n",
       "      <td>od1</td>\n",
       "      <td>1592U89 sulfate</td>\n",
       "      <td>1592u89 sulfate</td>\n",
       "      <td>1592u89 sulfate</td>\n",
       "    </tr>\n",
       "    <tr>\n",
       "      <th>3</th>\n",
       "      <td>od1</td>\n",
       "      <td>Abacavir</td>\n",
       "      <td>abacavir</td>\n",
       "      <td>abacavir</td>\n",
       "    </tr>\n",
       "    <tr>\n",
       "      <th>4</th>\n",
       "      <td>od1</td>\n",
       "      <td>ABC</td>\n",
       "      <td>abc</td>\n",
       "      <td>abc</td>\n",
       "    </tr>\n",
       "  </tbody>\n",
       "</table>\n",
       "</div>"
      ],
      "text/plain": [
       "  record_no         drug_name     search_string   drug_name_lower\n",
       "0       od1  abacavir sulfate  abacavir sulfate  abacavir sulfate\n",
       "1       od1           1592U89           1592u89           1592u89\n",
       "2       od1   1592U89 sulfate   1592u89 sulfate   1592u89 sulfate\n",
       "3       od1          Abacavir          abacavir          abacavir\n",
       "4       od1               ABC               abc               abc"
      ]
     },
     "execution_count": 5,
     "metadata": {},
     "output_type": "execute_result"
    }
   ],
   "source": [
    "old_drugs = pd.read_excel(\"../../Data/drugs/old_drug_names_final_no_duplicates.xlsx\")\n",
    "old_drugs = old_drugs.drop(columns=['Unnamed: 0'])\n",
    "old_drugs.head()"
   ]
  },
  {
   "cell_type": "code",
   "execution_count": 6,
   "metadata": {},
   "outputs": [
    {
     "data": {
      "text/plain": [
       "30969"
      ]
     },
     "execution_count": 6,
     "metadata": {},
     "output_type": "execute_result"
    }
   ],
   "source": [
    "len(old_drugs)"
   ]
  },
  {
   "cell_type": "markdown",
   "metadata": {},
   "source": [
    "## Dictionnary of new drugs"
   ]
  },
  {
   "cell_type": "code",
   "execution_count": 7,
   "metadata": {},
   "outputs": [
    {
     "data": {
      "text/html": [
       "<div>\n",
       "<style scoped>\n",
       "    .dataframe tbody tr th:only-of-type {\n",
       "        vertical-align: middle;\n",
       "    }\n",
       "\n",
       "    .dataframe tbody tr th {\n",
       "        vertical-align: top;\n",
       "    }\n",
       "\n",
       "    .dataframe thead th {\n",
       "        text-align: right;\n",
       "    }\n",
       "</style>\n",
       "<table border=\"1\" class=\"dataframe\">\n",
       "  <thead>\n",
       "    <tr style=\"text-align: right;\">\n",
       "      <th></th>\n",
       "      <th>record_no</th>\n",
       "      <th>drug_name</th>\n",
       "      <th>search_string</th>\n",
       "      <th>drug_name_lower</th>\n",
       "    </tr>\n",
       "  </thead>\n",
       "  <tbody>\n",
       "    <tr>\n",
       "      <th>0</th>\n",
       "      <td>13067</td>\n",
       "      <td>(+)-calanolide A</td>\n",
       "      <td>calanolide a</td>\n",
       "      <td>(+)-calanolide a</td>\n",
       "    </tr>\n",
       "    <tr>\n",
       "      <th>1</th>\n",
       "      <td>13067</td>\n",
       "      <td>calanolide A</td>\n",
       "      <td>calanolide a</td>\n",
       "      <td>calanolide a</td>\n",
       "    </tr>\n",
       "    <tr>\n",
       "      <th>2</th>\n",
       "      <td>31334</td>\n",
       "      <td>(+)-enantiomer of DOV 216303</td>\n",
       "      <td>enantiomer of dov 216303</td>\n",
       "      <td>(+)-enantiomer of dov 216303</td>\n",
       "    </tr>\n",
       "    <tr>\n",
       "      <th>3</th>\n",
       "      <td>31334</td>\n",
       "      <td>amitifadine (pINN)</td>\n",
       "      <td>amitifadine</td>\n",
       "      <td>amitifadine (pinn)</td>\n",
       "    </tr>\n",
       "    <tr>\n",
       "      <th>4</th>\n",
       "      <td>31334</td>\n",
       "      <td>amitifadine (USAN)</td>\n",
       "      <td>amitifadine</td>\n",
       "      <td>amitifadine (usan)</td>\n",
       "    </tr>\n",
       "  </tbody>\n",
       "</table>\n",
       "</div>"
      ],
      "text/plain": [
       "   record_no                     drug_name             search_string  \\\n",
       "0      13067              (+)-calanolide A              calanolide a   \n",
       "1      13067                  calanolide A              calanolide a   \n",
       "2      31334  (+)-enantiomer of DOV 216303  enantiomer of dov 216303   \n",
       "3      31334            amitifadine (pINN)               amitifadine   \n",
       "4      31334            amitifadine (USAN)               amitifadine   \n",
       "\n",
       "                drug_name_lower  \n",
       "0              (+)-calanolide a  \n",
       "1                  calanolide a  \n",
       "2  (+)-enantiomer of dov 216303  \n",
       "3            amitifadine (pinn)  \n",
       "4            amitifadine (usan)  "
      ]
     },
     "execution_count": 7,
     "metadata": {},
     "output_type": "execute_result"
    }
   ],
   "source": [
    "new_drugs = pd.read_excel(\"../../Data/drugs/new_drug_names_final.xlsx\")\n",
    "new_drugs = new_drugs.rename(columns={\"Drug_name\": \"drug_name\"})\n",
    "new_drugs = new_drugs.drop(columns=['Unnamed: 0'])\n",
    "new_drugs.head()"
   ]
  },
  {
   "cell_type": "code",
   "execution_count": 8,
   "metadata": {},
   "outputs": [
    {
     "data": {
      "text/plain": [
       "16197"
      ]
     },
     "execution_count": 8,
     "metadata": {},
     "output_type": "execute_result"
    }
   ],
   "source": [
    "len(new_drugs)"
   ]
  },
  {
   "cell_type": "code",
   "execution_count": 9,
   "metadata": {},
   "outputs": [
    {
     "data": {
      "text/html": [
       "<div>\n",
       "<style scoped>\n",
       "    .dataframe tbody tr th:only-of-type {\n",
       "        vertical-align: middle;\n",
       "    }\n",
       "\n",
       "    .dataframe tbody tr th {\n",
       "        vertical-align: top;\n",
       "    }\n",
       "\n",
       "    .dataframe thead th {\n",
       "        text-align: right;\n",
       "    }\n",
       "</style>\n",
       "<table border=\"1\" class=\"dataframe\">\n",
       "  <thead>\n",
       "    <tr style=\"text-align: right;\">\n",
       "      <th></th>\n",
       "      <th>record_no</th>\n",
       "      <th>drug_name</th>\n",
       "      <th>search_string</th>\n",
       "      <th>drug_name_lower</th>\n",
       "    </tr>\n",
       "  </thead>\n",
       "  <tbody>\n",
       "    <tr>\n",
       "      <th>0</th>\n",
       "      <td>13067</td>\n",
       "      <td>(+)-calanolide A</td>\n",
       "      <td>calanolide a</td>\n",
       "      <td>(+)-calanolide a</td>\n",
       "    </tr>\n",
       "    <tr>\n",
       "      <th>1</th>\n",
       "      <td>13067</td>\n",
       "      <td>calanolide A</td>\n",
       "      <td>calanolide a</td>\n",
       "      <td>calanolide a</td>\n",
       "    </tr>\n",
       "    <tr>\n",
       "      <th>2</th>\n",
       "      <td>31334</td>\n",
       "      <td>(+)-enantiomer of DOV 216303</td>\n",
       "      <td>enantiomer of dov 216303</td>\n",
       "      <td>(+)-enantiomer of dov 216303</td>\n",
       "    </tr>\n",
       "    <tr>\n",
       "      <th>3</th>\n",
       "      <td>31334</td>\n",
       "      <td>amitifadine (pINN)</td>\n",
       "      <td>amitifadine</td>\n",
       "      <td>amitifadine (pinn)</td>\n",
       "    </tr>\n",
       "    <tr>\n",
       "      <th>4</th>\n",
       "      <td>31334</td>\n",
       "      <td>amitifadine (USAN)</td>\n",
       "      <td>amitifadine</td>\n",
       "      <td>amitifadine (usan)</td>\n",
       "    </tr>\n",
       "  </tbody>\n",
       "</table>\n",
       "</div>"
      ],
      "text/plain": [
       "   record_no                     drug_name             search_string  \\\n",
       "0      13067              (+)-calanolide A              calanolide a   \n",
       "1      13067                  calanolide A              calanolide a   \n",
       "2      31334  (+)-enantiomer of DOV 216303  enantiomer of dov 216303   \n",
       "3      31334            amitifadine (pINN)               amitifadine   \n",
       "4      31334            amitifadine (USAN)               amitifadine   \n",
       "\n",
       "                drug_name_lower  \n",
       "0              (+)-calanolide a  \n",
       "1                  calanolide a  \n",
       "2  (+)-enantiomer of dov 216303  \n",
       "3            amitifadine (pinn)  \n",
       "4            amitifadine (usan)  "
      ]
     },
     "execution_count": 9,
     "metadata": {},
     "output_type": "execute_result"
    }
   ],
   "source": [
    "new_drugs['drug_name_lower'] = new_drugs.drug_name.str.lower()\n",
    "new_drugs['search_string'] = new_drugs.search_string.str.lower()\n",
    "new_drugs.head()"
   ]
  },
  {
   "cell_type": "markdown",
   "metadata": {},
   "source": [
    "## Merge dictionnaries with deleting duplicates"
   ]
  },
  {
   "cell_type": "code",
   "execution_count": 10,
   "metadata": {},
   "outputs": [
    {
     "data": {
      "text/html": [
       "<div>\n",
       "<style scoped>\n",
       "    .dataframe tbody tr th:only-of-type {\n",
       "        vertical-align: middle;\n",
       "    }\n",
       "\n",
       "    .dataframe tbody tr th {\n",
       "        vertical-align: top;\n",
       "    }\n",
       "\n",
       "    .dataframe thead th {\n",
       "        text-align: right;\n",
       "    }\n",
       "</style>\n",
       "<table border=\"1\" class=\"dataframe\">\n",
       "  <thead>\n",
       "    <tr style=\"text-align: right;\">\n",
       "      <th></th>\n",
       "      <th>record_no</th>\n",
       "      <th>drug_name</th>\n",
       "      <th>search_string</th>\n",
       "      <th>drug_name_lower</th>\n",
       "    </tr>\n",
       "  </thead>\n",
       "  <tbody>\n",
       "    <tr>\n",
       "      <th>0</th>\n",
       "      <td>od1</td>\n",
       "      <td>abacavir sulfate</td>\n",
       "      <td>abacavir sulfate</td>\n",
       "      <td>abacavir sulfate</td>\n",
       "    </tr>\n",
       "    <tr>\n",
       "      <th>1</th>\n",
       "      <td>od1</td>\n",
       "      <td>1592U89</td>\n",
       "      <td>1592u89</td>\n",
       "      <td>1592u89</td>\n",
       "    </tr>\n",
       "    <tr>\n",
       "      <th>2</th>\n",
       "      <td>od1</td>\n",
       "      <td>1592U89 sulfate</td>\n",
       "      <td>1592u89 sulfate</td>\n",
       "      <td>1592u89 sulfate</td>\n",
       "    </tr>\n",
       "    <tr>\n",
       "      <th>3</th>\n",
       "      <td>od1</td>\n",
       "      <td>Abacavir</td>\n",
       "      <td>abacavir</td>\n",
       "      <td>abacavir</td>\n",
       "    </tr>\n",
       "    <tr>\n",
       "      <th>4</th>\n",
       "      <td>od1</td>\n",
       "      <td>ABC</td>\n",
       "      <td>abc</td>\n",
       "      <td>abc</td>\n",
       "    </tr>\n",
       "  </tbody>\n",
       "</table>\n",
       "</div>"
      ],
      "text/plain": [
       "  record_no         drug_name     search_string   drug_name_lower\n",
       "0       od1  abacavir sulfate  abacavir sulfate  abacavir sulfate\n",
       "1       od1           1592U89           1592u89           1592u89\n",
       "2       od1   1592U89 sulfate   1592u89 sulfate   1592u89 sulfate\n",
       "3       od1          Abacavir          abacavir          abacavir\n",
       "4       od1               ABC               abc               abc"
      ]
     },
     "execution_count": 10,
     "metadata": {},
     "output_type": "execute_result"
    }
   ],
   "source": [
    "drugs = pd.concat([old_drugs,new_drugs],ignore_index=True)\n",
    "drugs.head()"
   ]
  },
  {
   "cell_type": "code",
   "execution_count": 11,
   "metadata": {},
   "outputs": [
    {
     "data": {
      "text/plain": [
       "47166"
      ]
     },
     "execution_count": 11,
     "metadata": {},
     "output_type": "execute_result"
    }
   ],
   "source": [
    "len(drugs)"
   ]
  },
  {
   "cell_type": "markdown",
   "metadata": {},
   "source": [
    "## 01- Type 1 of drugs extraction"
   ]
  },
  {
   "cell_type": "code",
   "execution_count": 12,
   "metadata": {
    "scrolled": true
   },
   "outputs": [
    {
     "data": {
      "text/html": [
       "<div>\n",
       "<style scoped>\n",
       "    .dataframe tbody tr th:only-of-type {\n",
       "        vertical-align: middle;\n",
       "    }\n",
       "\n",
       "    .dataframe tbody tr th {\n",
       "        vertical-align: top;\n",
       "    }\n",
       "\n",
       "    .dataframe thead th {\n",
       "        text-align: right;\n",
       "    }\n",
       "</style>\n",
       "<table border=\"1\" class=\"dataframe\">\n",
       "  <thead>\n",
       "    <tr style=\"text-align: right;\">\n",
       "      <th></th>\n",
       "      <th>trial_id</th>\n",
       "      <th>scientific_title</th>\n",
       "      <th>study_type</th>\n",
       "      <th>intervention</th>\n",
       "      <th>description</th>\n",
       "    </tr>\n",
       "  </thead>\n",
       "  <tbody>\n",
       "    <tr>\n",
       "      <th>0</th>\n",
       "      <td>ChiCTR-TCH-11001421</td>\n",
       "      <td>Effect of Bone Marrow Mesenchymal Stem Cell tr...</td>\n",
       "      <td>Observational study</td>\n",
       "      <td>A:Stem cell transplantation;B:Stem cell transp...</td>\n",
       "      <td>ChiCTR</td>\n",
       "    </tr>\n",
       "    <tr>\n",
       "      <th>1</th>\n",
       "      <td>ChiCTR-ION-15007043</td>\n",
       "      <td>Treatment according to syndrome differentiatio...</td>\n",
       "      <td>Interventional study</td>\n",
       "      <td>Normal:No intervention;Diabetes:No interventio...</td>\n",
       "      <td>ChiCTR</td>\n",
       "    </tr>\n",
       "    <tr>\n",
       "      <th>2</th>\n",
       "      <td>ChiCTR-DDD-17011762</td>\n",
       "      <td>three-dimensional power Doppler ultrasound and...</td>\n",
       "      <td>Diagnostic test</td>\n",
       "      <td>Gold Standard:4-5 weeks after the embryo trans...</td>\n",
       "      <td>ChiCTR</td>\n",
       "    </tr>\n",
       "    <tr>\n",
       "      <th>3</th>\n",
       "      <td>ChiCTR-ONB-17013950</td>\n",
       "      <td>Research on safety and efficacy of cryopreserv...</td>\n",
       "      <td>Observational study</td>\n",
       "      <td>moderate or severe dry eye patients wearing  c...</td>\n",
       "      <td>ChiCTR</td>\n",
       "    </tr>\n",
       "    <tr>\n",
       "      <th>4</th>\n",
       "      <td>ChiCTR-DDT-11001307</td>\n",
       "      <td>Diagnostic Value of Transvaginal Contrast-enha...</td>\n",
       "      <td>Diagnostic test</td>\n",
       "      <td>Gold Standard:;Index test:;</td>\n",
       "      <td>ChiCTR</td>\n",
       "    </tr>\n",
       "  </tbody>\n",
       "</table>\n",
       "</div>"
      ],
      "text/plain": [
       "              trial_id                                   scientific_title  \\\n",
       "0  ChiCTR-TCH-11001421  Effect of Bone Marrow Mesenchymal Stem Cell tr...   \n",
       "1  ChiCTR-ION-15007043  Treatment according to syndrome differentiatio...   \n",
       "2  ChiCTR-DDD-17011762  three-dimensional power Doppler ultrasound and...   \n",
       "3  ChiCTR-ONB-17013950  Research on safety and efficacy of cryopreserv...   \n",
       "4  ChiCTR-DDT-11001307  Diagnostic Value of Transvaginal Contrast-enha...   \n",
       "\n",
       "             study_type                                       intervention  \\\n",
       "0   Observational study  A:Stem cell transplantation;B:Stem cell transp...   \n",
       "1  Interventional study  Normal:No intervention;Diabetes:No interventio...   \n",
       "2       Diagnostic test  Gold Standard:4-5 weeks after the embryo trans...   \n",
       "3   Observational study  moderate or severe dry eye patients wearing  c...   \n",
       "4       Diagnostic test                        Gold Standard:;Index test:;   \n",
       "\n",
       "  description  \n",
       "0      ChiCTR  \n",
       "1      ChiCTR  \n",
       "2      ChiCTR  \n",
       "3      ChiCTR  \n",
       "4      ChiCTR  "
      ]
     },
     "execution_count": 12,
     "metadata": {},
     "output_type": "execute_result"
    }
   ],
   "source": [
    "china_interventions = pd.read_excel(\"../../Data/interventions/_interventions_data/China_intervention_copy.xlsx\")\n",
    "china_interventions.head()"
   ]
  },
  {
   "cell_type": "code",
   "execution_count": 13,
   "metadata": {},
   "outputs": [
    {
     "data": {
      "text/plain": [
       "15652"
      ]
     },
     "execution_count": 13,
     "metadata": {},
     "output_type": "execute_result"
    }
   ],
   "source": [
    "len(china_interventions)"
   ]
  },
  {
   "cell_type": "code",
   "execution_count": null,
   "metadata": {},
   "outputs": [],
   "source": []
  },
  {
   "cell_type": "code",
   "execution_count": 14,
   "metadata": {},
   "outputs": [
    {
     "data": {
      "text/html": [
       "<div>\n",
       "<style scoped>\n",
       "    .dataframe tbody tr th:only-of-type {\n",
       "        vertical-align: middle;\n",
       "    }\n",
       "\n",
       "    .dataframe tbody tr th {\n",
       "        vertical-align: top;\n",
       "    }\n",
       "\n",
       "    .dataframe thead th {\n",
       "        text-align: right;\n",
       "    }\n",
       "</style>\n",
       "<table border=\"1\" class=\"dataframe\">\n",
       "  <thead>\n",
       "    <tr style=\"text-align: right;\">\n",
       "      <th></th>\n",
       "      <th>trial_id</th>\n",
       "      <th>title_scientific</th>\n",
       "      <th>interventions</th>\n",
       "      <th>intervention_codes</th>\n",
       "      <th>intervention_keys</th>\n",
       "      <th>study_type</th>\n",
       "      <th>description</th>\n",
       "    </tr>\n",
       "  </thead>\n",
       "  <tbody>\n",
       "    <tr>\n",
       "      <th>0</th>\n",
       "      <td>RPCEC00000273</td>\n",
       "      <td>Evaluation of the effect and safety of Microcr...</td>\n",
       "      <td>Gastricel Group (Experimental): Orally, a dose...</td>\n",
       "      <td>Sucralfate,Administration, Oral,Suspensions</td>\n",
       "      <td>Microcrystalline cellulose in suspension</td>\n",
       "      <td>Interventional</td>\n",
       "      <td>RPCEC</td>\n",
       "    </tr>\n",
       "    <tr>\n",
       "      <th>1</th>\n",
       "      <td>RPCEC00000272</td>\n",
       "      <td>Effect of the nutritional supplement Oncoxin-V...</td>\n",
       "      <td>Oncoxin-Viusid group (Experimental). Oral solu...</td>\n",
       "      <td>Dietary Supplements</td>\n",
       "      <td>Oncoxin viusid</td>\n",
       "      <td>Interventional</td>\n",
       "      <td>RPCEC</td>\n",
       "    </tr>\n",
       "    <tr>\n",
       "      <th>2</th>\n",
       "      <td>RPCEC00000271</td>\n",
       "      <td>Evaluation of the effect of the combination of...</td>\n",
       "      <td>EExperimental group: Glizigen®+Oncoxin®-Viusid...</td>\n",
       "      <td>Dietary Supplements,Administration, Oral</td>\n",
       "      <td>Oncoxin viusid, Glizigen spray</td>\n",
       "      <td>Interventional</td>\n",
       "      <td>RPCEC</td>\n",
       "    </tr>\n",
       "    <tr>\n",
       "      <th>3</th>\n",
       "      <td>RPCEC00000270</td>\n",
       "      <td>Combined immunotherapy with the vaccine prepar...</td>\n",
       "      <td>Group A (patients with + NGcGM3 expression): N...</td>\n",
       "      <td>G(M3) Ganglioside,Antibodies, Monoclonal, Huma...</td>\n",
       "      <td>NGcGM3/VSSP,    \\n\\nNimotuzumab</td>\n",
       "      <td>Interventional</td>\n",
       "      <td>RPCEC</td>\n",
       "    </tr>\n",
       "    <tr>\n",
       "      <th>4</th>\n",
       "      <td>RPCEC00000269</td>\n",
       "      <td>Efficacy of the Oncoxin-Viusid nutritional sup...</td>\n",
       "      <td>Oncoxin-Viusid group (Experimental): Oral solu...</td>\n",
       "      <td>Dietary Supplements</td>\n",
       "      <td>Oncoxin viusid,   \\nOral Solution</td>\n",
       "      <td>Interventional</td>\n",
       "      <td>RPCEC</td>\n",
       "    </tr>\n",
       "  </tbody>\n",
       "</table>\n",
       "</div>"
      ],
      "text/plain": [
       "        trial_id                                   title_scientific  \\\n",
       "0  RPCEC00000273  Evaluation of the effect and safety of Microcr...   \n",
       "1  RPCEC00000272  Effect of the nutritional supplement Oncoxin-V...   \n",
       "2  RPCEC00000271  Evaluation of the effect of the combination of...   \n",
       "3  RPCEC00000270  Combined immunotherapy with the vaccine prepar...   \n",
       "4  RPCEC00000269  Efficacy of the Oncoxin-Viusid nutritional sup...   \n",
       "\n",
       "                                       interventions  \\\n",
       "0  Gastricel Group (Experimental): Orally, a dose...   \n",
       "1  Oncoxin-Viusid group (Experimental). Oral solu...   \n",
       "2  EExperimental group: Glizigen®+Oncoxin®-Viusid...   \n",
       "3  Group A (patients with + NGcGM3 expression): N...   \n",
       "4  Oncoxin-Viusid group (Experimental): Oral solu...   \n",
       "\n",
       "                                  intervention_codes  \\\n",
       "0        Sucralfate,Administration, Oral,Suspensions   \n",
       "1                                Dietary Supplements   \n",
       "2           Dietary Supplements,Administration, Oral   \n",
       "3  G(M3) Ganglioside,Antibodies, Monoclonal, Huma...   \n",
       "4                                Dietary Supplements   \n",
       "\n",
       "                          intervention_keys      study_type description  \n",
       "0  Microcrystalline cellulose in suspension  Interventional       RPCEC  \n",
       "1                            Oncoxin viusid  Interventional       RPCEC  \n",
       "2            Oncoxin viusid, Glizigen spray  Interventional       RPCEC  \n",
       "3           NGcGM3/VSSP,    \\n\\nNimotuzumab  Interventional       RPCEC  \n",
       "4         Oncoxin viusid,   \\nOral Solution  Interventional       RPCEC  "
      ]
     },
     "execution_count": 14,
     "metadata": {},
     "output_type": "execute_result"
    }
   ],
   "source": [
    "cuba_interventions = pd.read_excel(\"../../Data/interventions/_interventions_data/cuba_intervention_copy.xlsx\")\n",
    "cuba_interventions.head()"
   ]
  },
  {
   "cell_type": "code",
   "execution_count": 15,
   "metadata": {},
   "outputs": [
    {
     "data": {
      "text/plain": [
       "20"
      ]
     },
     "execution_count": 15,
     "metadata": {},
     "output_type": "execute_result"
    }
   ],
   "source": [
    "len(cuba_interventions)"
   ]
  },
  {
   "cell_type": "code",
   "execution_count": null,
   "metadata": {},
   "outputs": [],
   "source": []
  },
  {
   "cell_type": "code",
   "execution_count": null,
   "metadata": {},
   "outputs": [],
   "source": [
    "#FOR OLD DRUGS\n",
    "# lists to save the drug names from \"intervention_arm\" file\n",
    "drug_from_title = []\n",
    "drug_from_intervention = []\n",
    "\n",
    "for index in range(0,len(china_interventions)):\n",
    "    print(\"index: \" , index)\n",
    "    list_drugs1 = []\n",
    "    list_drugs2 = []\n",
    "    for i in range(0,len(drugs)): \n",
    "        x = str(drugs.search_string[i])    \n",
    "        #print(x)\n",
    "        \n",
    "        if is_nan(china_interventions.scientific_title[index]) :  \n",
    "            list_drugs1.append(\"\")\n",
    "        else : \n",
    "            y = china_interventions['scientific_title'][index].lower()\n",
    "            #print(y)\n",
    "            ### Regex for the matching\n",
    "            try:\n",
    "                findDrug = re.findall(\"^\"+x+\"\\s|\\s\"+x+\"\\s|\\s\"+x+\"$\",y)\n",
    "            except :\n",
    "                findDrug = False\n",
    "\n",
    "            if findDrug:\n",
    "                list_drugs1.append(tuple((drugs.drug_name[i],drugs.record_no[i])))\n",
    "                \n",
    "            \n",
    "        if is_nan(china_interventions.intervention[index]) :  \n",
    "            list_drugs2.append(\"\")  \n",
    "        else:\n",
    "             \n",
    "            y = china_interventions['intervention'][index].lower()\n",
    "            ### Regex for the matching\n",
    "            try:\n",
    "                findDrug = re.findall(\"^\"+x+\"\\s|\\s\"+x+\"\\s|\\s\"+x+\"$\",y)\n",
    "            except :\n",
    "                findDrug = False\n",
    "            \n",
    "            if findDrug: \n",
    "                list_drugs2.append(tuple((drugs.drug_name[i],drugs.record_no[i])))\n",
    "\n",
    "                      \n",
    "    drug_from_title.append(list_drugs1)\n",
    "    drug_from_intervention.append(list_drugs2)   \n",
    "\n",
    "    \n",
    "china_interventions['drugs_from_title'] = drug_from_title\n",
    "china_interventions['drugs_from_intervention'] = drug_from_intervention"
   ]
  },
  {
   "cell_type": "code",
   "execution_count": null,
   "metadata": {},
   "outputs": [],
   "source": []
  },
  {
   "cell_type": "code",
   "execution_count": null,
   "metadata": {},
   "outputs": [],
   "source": [
    "china_interventions.head()"
   ]
  },
  {
   "cell_type": "code",
   "execution_count": null,
   "metadata": {},
   "outputs": [],
   "source": [
    "china_interventions.to_excel(\"../../Data/interventions/_interventions_data/_China_intervention_copy.xlsx\")"
   ]
  },
  {
   "cell_type": "code",
   "execution_count": null,
   "metadata": {},
   "outputs": [],
   "source": []
  },
  {
   "cell_type": "code",
   "execution_count": null,
   "metadata": {},
   "outputs": [],
   "source": []
  },
  {
   "cell_type": "code",
   "execution_count": null,
   "metadata": {},
   "outputs": [],
   "source": []
  },
  {
   "cell_type": "code",
   "execution_count": 16,
   "metadata": {},
   "outputs": [
    {
     "name": "stdout",
     "output_type": "stream",
     "text": [
      "index:  0\n",
      "index:  1\n",
      "index:  2\n",
      "index:  3\n",
      "index:  4\n",
      "index:  5\n",
      "index:  6\n",
      "index:  7\n",
      "index:  8\n",
      "index:  9\n",
      "index:  10\n",
      "index:  11\n",
      "index:  12\n",
      "index:  13\n",
      "index:  14\n",
      "index:  15\n",
      "index:  16\n",
      "index:  17\n",
      "index:  18\n",
      "index:  19\n"
     ]
    }
   ],
   "source": [
    "#FOR OLD DRUGS\n",
    "# lists to save the drug names from \"intervention_arm\" file\n",
    "drug_from_title = []\n",
    "drug_from_intervention = []\n",
    "\n",
    "for index in range(0,len(cuba_interventions)):\n",
    "    print(\"index: \" , index)\n",
    "    list_drugs1 = []\n",
    "    list_drugs2 = []\n",
    "    for i in range(0,len(drugs)): \n",
    "        x = str(drugs.search_string[i])    \n",
    "        #print(x)\n",
    "        \n",
    "        if is_nan(cuba_interventions.title_scientific[index]) :  \n",
    "            list_drugs1.append(\"\")\n",
    "        else : \n",
    "            y = cuba_interventions['title_scientific'][index].lower()\n",
    "            #print(y)\n",
    "            ### Regex for the matching\n",
    "            try:\n",
    "                findDrug = re.findall(\"^\"+x+\"\\s|\\s\"+x+\"\\s|\\s\"+x+\"$\",y)\n",
    "            except :\n",
    "                findDrug = False\n",
    "\n",
    "            if findDrug:\n",
    "                list_drugs1.append(tuple((drugs.drug_name[i],drugs.record_no[i])))\n",
    "                \n",
    "            \n",
    "        if is_nan(cuba_interventions.interventions[index]) :  \n",
    "            list_drugs2.append(\"\")  \n",
    "        else:\n",
    "             \n",
    "            y = cuba_interventions['interventions'][index].lower()\n",
    "            ### Regex for the matching\n",
    "            try:\n",
    "                findDrug = re.findall(\"^\"+x+\"\\s|\\s\"+x+\"\\s|\\s\"+x+\"$\",y)\n",
    "            except :\n",
    "                findDrug = False\n",
    "            \n",
    "            if findDrug: \n",
    "                list_drugs2.append(tuple((drugs.drug_name[i],drugs.record_no[i])))\n",
    "\n",
    "                      \n",
    "    drug_from_title.append(list_drugs1)\n",
    "    drug_from_intervention.append(list_drugs2)   \n",
    "\n",
    "    \n",
    "cuba_interventions['drugs_from_title'] = drug_from_title\n",
    "cuba_interventions['drugs_from_intervention'] = drug_from_intervention"
   ]
  },
  {
   "cell_type": "code",
   "execution_count": null,
   "metadata": {},
   "outputs": [],
   "source": []
  },
  {
   "cell_type": "code",
   "execution_count": null,
   "metadata": {},
   "outputs": [],
   "source": []
  },
  {
   "cell_type": "code",
   "execution_count": 17,
   "metadata": {},
   "outputs": [
    {
     "data": {
      "text/html": [
       "<div>\n",
       "<style scoped>\n",
       "    .dataframe tbody tr th:only-of-type {\n",
       "        vertical-align: middle;\n",
       "    }\n",
       "\n",
       "    .dataframe tbody tr th {\n",
       "        vertical-align: top;\n",
       "    }\n",
       "\n",
       "    .dataframe thead th {\n",
       "        text-align: right;\n",
       "    }\n",
       "</style>\n",
       "<table border=\"1\" class=\"dataframe\">\n",
       "  <thead>\n",
       "    <tr style=\"text-align: right;\">\n",
       "      <th></th>\n",
       "      <th>trial_id</th>\n",
       "      <th>title_scientific</th>\n",
       "      <th>interventions</th>\n",
       "      <th>intervention_codes</th>\n",
       "      <th>intervention_keys</th>\n",
       "      <th>study_type</th>\n",
       "      <th>description</th>\n",
       "      <th>drugs_from_title</th>\n",
       "      <th>drugs_from_intervention</th>\n",
       "    </tr>\n",
       "  </thead>\n",
       "  <tbody>\n",
       "    <tr>\n",
       "      <th>0</th>\n",
       "      <td>RPCEC00000273</td>\n",
       "      <td>Evaluation of the effect and safety of Microcr...</td>\n",
       "      <td>Gastricel Group (Experimental): Orally, a dose...</td>\n",
       "      <td>Sucralfate,Administration, Oral,Suspensions</td>\n",
       "      <td>Microcrystalline cellulose in suspension</td>\n",
       "      <td>Interventional</td>\n",
       "      <td>RPCEC</td>\n",
       "      <td>[(cellulose, od364), (Microcrystalline cellulo...</td>\n",
       "      <td>[(cellulose, od364), (Microcrystalline cellulo...</td>\n",
       "    </tr>\n",
       "    <tr>\n",
       "      <th>1</th>\n",
       "      <td>RPCEC00000272</td>\n",
       "      <td>Effect of the nutritional supplement Oncoxin-V...</td>\n",
       "      <td>Oncoxin-Viusid group (Experimental). Oral solu...</td>\n",
       "      <td>Dietary Supplements</td>\n",
       "      <td>Oncoxin viusid</td>\n",
       "      <td>Interventional</td>\n",
       "      <td>RPCEC</td>\n",
       "      <td>[]</td>\n",
       "      <td>[(Oxaliplatin, od660), (oxaliplatin (INN), 211...</td>\n",
       "    </tr>\n",
       "    <tr>\n",
       "      <th>2</th>\n",
       "      <td>RPCEC00000271</td>\n",
       "      <td>Evaluation of the effect of the combination of...</td>\n",
       "      <td>EExperimental group: Glizigen®+Oncoxin®-Viusid...</td>\n",
       "      <td>Dietary Supplements,Administration, Oral</td>\n",
       "      <td>Oncoxin viusid, Glizigen spray</td>\n",
       "      <td>Interventional</td>\n",
       "      <td>RPCEC</td>\n",
       "      <td>[]</td>\n",
       "      <td>[]</td>\n",
       "    </tr>\n",
       "    <tr>\n",
       "      <th>3</th>\n",
       "      <td>RPCEC00000270</td>\n",
       "      <td>Combined immunotherapy with the vaccine prepar...</td>\n",
       "      <td>Group A (patients with + NGcGM3 expression): N...</td>\n",
       "      <td>G(M3) Ganglioside,Antibodies, Monoclonal, Huma...</td>\n",
       "      <td>NGcGM3/VSSP,    \\n\\nNimotuzumab</td>\n",
       "      <td>Interventional</td>\n",
       "      <td>RPCEC</td>\n",
       "      <td>[]</td>\n",
       "      <td>[(MAY, od177), (Condition, od563), (nimotuzuma...</td>\n",
       "    </tr>\n",
       "    <tr>\n",
       "      <th>4</th>\n",
       "      <td>RPCEC00000269</td>\n",
       "      <td>Efficacy of the Oncoxin-Viusid nutritional sup...</td>\n",
       "      <td>Oncoxin-Viusid group (Experimental): Oral solu...</td>\n",
       "      <td>Dietary Supplements</td>\n",
       "      <td>Oncoxin viusid,   \\nOral Solution</td>\n",
       "      <td>Interventional</td>\n",
       "      <td>RPCEC</td>\n",
       "      <td>[]</td>\n",
       "      <td>[]</td>\n",
       "    </tr>\n",
       "  </tbody>\n",
       "</table>\n",
       "</div>"
      ],
      "text/plain": [
       "        trial_id                                   title_scientific  \\\n",
       "0  RPCEC00000273  Evaluation of the effect and safety of Microcr...   \n",
       "1  RPCEC00000272  Effect of the nutritional supplement Oncoxin-V...   \n",
       "2  RPCEC00000271  Evaluation of the effect of the combination of...   \n",
       "3  RPCEC00000270  Combined immunotherapy with the vaccine prepar...   \n",
       "4  RPCEC00000269  Efficacy of the Oncoxin-Viusid nutritional sup...   \n",
       "\n",
       "                                       interventions  \\\n",
       "0  Gastricel Group (Experimental): Orally, a dose...   \n",
       "1  Oncoxin-Viusid group (Experimental). Oral solu...   \n",
       "2  EExperimental group: Glizigen®+Oncoxin®-Viusid...   \n",
       "3  Group A (patients with + NGcGM3 expression): N...   \n",
       "4  Oncoxin-Viusid group (Experimental): Oral solu...   \n",
       "\n",
       "                                  intervention_codes  \\\n",
       "0        Sucralfate,Administration, Oral,Suspensions   \n",
       "1                                Dietary Supplements   \n",
       "2           Dietary Supplements,Administration, Oral   \n",
       "3  G(M3) Ganglioside,Antibodies, Monoclonal, Huma...   \n",
       "4                                Dietary Supplements   \n",
       "\n",
       "                          intervention_keys      study_type description  \\\n",
       "0  Microcrystalline cellulose in suspension  Interventional       RPCEC   \n",
       "1                            Oncoxin viusid  Interventional       RPCEC   \n",
       "2            Oncoxin viusid, Glizigen spray  Interventional       RPCEC   \n",
       "3           NGcGM3/VSSP,    \\n\\nNimotuzumab  Interventional       RPCEC   \n",
       "4         Oncoxin viusid,   \\nOral Solution  Interventional       RPCEC   \n",
       "\n",
       "                                    drugs_from_title  \\\n",
       "0  [(cellulose, od364), (Microcrystalline cellulo...   \n",
       "1                                                 []   \n",
       "2                                                 []   \n",
       "3                                                 []   \n",
       "4                                                 []   \n",
       "\n",
       "                             drugs_from_intervention  \n",
       "0  [(cellulose, od364), (Microcrystalline cellulo...  \n",
       "1  [(Oxaliplatin, od660), (oxaliplatin (INN), 211...  \n",
       "2                                                 []  \n",
       "3  [(MAY, od177), (Condition, od563), (nimotuzuma...  \n",
       "4                                                 []  "
      ]
     },
     "execution_count": 17,
     "metadata": {},
     "output_type": "execute_result"
    }
   ],
   "source": [
    "cuba_interventions.head()"
   ]
  },
  {
   "cell_type": "code",
   "execution_count": null,
   "metadata": {},
   "outputs": [],
   "source": []
  },
  {
   "cell_type": "code",
   "execution_count": 18,
   "metadata": {},
   "outputs": [],
   "source": [
    "cuba_interventions.to_excel(\"../../Data/interventions/_interventions_data/_cuba_intervention_copy.xlsx\")"
   ]
  },
  {
   "cell_type": "code",
   "execution_count": null,
   "metadata": {},
   "outputs": [],
   "source": []
  },
  {
   "cell_type": "code",
   "execution_count": null,
   "metadata": {},
   "outputs": [],
   "source": []
  },
  {
   "cell_type": "code",
   "execution_count": null,
   "metadata": {},
   "outputs": [],
   "source": []
  },
  {
   "cell_type": "markdown",
   "metadata": {},
   "source": [
    "## 02- Type 2 of drugs extruction"
   ]
  },
  {
   "cell_type": "code",
   "execution_count": null,
   "metadata": {},
   "outputs": [],
   "source": []
  }
 ],
 "metadata": {
  "kernelspec": {
   "display_name": "Python 3",
   "language": "python",
   "name": "python3"
  },
  "language_info": {
   "codemirror_mode": {
    "name": "ipython",
    "version": 3
   },
   "file_extension": ".py",
   "mimetype": "text/x-python",
   "name": "python",
   "nbconvert_exporter": "python",
   "pygments_lexer": "ipython3",
   "version": "3.6.5"
  }
 },
 "nbformat": 4,
 "nbformat_minor": 2
}
