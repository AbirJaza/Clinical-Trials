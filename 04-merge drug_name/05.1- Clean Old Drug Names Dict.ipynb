{
 "cells": [
  {
   "cell_type": "code",
   "execution_count": 1,
   "metadata": {},
   "outputs": [],
   "source": [
    "import pandas as pd\n",
    "import re\n",
    "from pathlib import Path\n",
    "import xml.etree.ElementTree as ET"
   ]
  },
  {
   "cell_type": "markdown",
   "metadata": {},
   "source": [
    "## Dictionnary of old drugs"
   ]
  },
  {
   "cell_type": "code",
   "execution_count": 3,
   "metadata": {},
   "outputs": [
    {
     "data": {
      "text/html": [
       "<div>\n",
       "<style scoped>\n",
       "    .dataframe tbody tr th:only-of-type {\n",
       "        vertical-align: middle;\n",
       "    }\n",
       "\n",
       "    .dataframe tbody tr th {\n",
       "        vertical-align: top;\n",
       "    }\n",
       "\n",
       "    .dataframe thead th {\n",
       "        text-align: right;\n",
       "    }\n",
       "</style>\n",
       "<table border=\"1\" class=\"dataframe\">\n",
       "  <thead>\n",
       "    <tr style=\"text-align: right;\">\n",
       "      <th></th>\n",
       "      <th>record_no</th>\n",
       "      <th>drug_name</th>\n",
       "    </tr>\n",
       "  </thead>\n",
       "  <tbody>\n",
       "    <tr>\n",
       "      <th>0</th>\n",
       "      <td>1</td>\n",
       "      <td>abacavir sulfate</td>\n",
       "    </tr>\n",
       "    <tr>\n",
       "      <th>1</th>\n",
       "      <td>1</td>\n",
       "      <td>1592U89</td>\n",
       "    </tr>\n",
       "    <tr>\n",
       "      <th>2</th>\n",
       "      <td>1</td>\n",
       "      <td>1592U89 sulfate</td>\n",
       "    </tr>\n",
       "    <tr>\n",
       "      <th>3</th>\n",
       "      <td>1</td>\n",
       "      <td>Abacavir</td>\n",
       "    </tr>\n",
       "    <tr>\n",
       "      <th>4</th>\n",
       "      <td>1</td>\n",
       "      <td>Abacavir sulfate</td>\n",
       "    </tr>\n",
       "  </tbody>\n",
       "</table>\n",
       "</div>"
      ],
      "text/plain": [
       "   record_no         drug_name\n",
       "0          1  abacavir sulfate\n",
       "1          1           1592U89\n",
       "2          1   1592U89 sulfate\n",
       "3          1          Abacavir\n",
       "4          1  Abacavir sulfate"
      ]
     },
     "execution_count": 3,
     "metadata": {},
     "output_type": "execute_result"
    }
   ],
   "source": [
    "df_drug_name = pd.read_excel(\"../../Data/drugs/old_drugs_synonyms.xlsx\")\n",
    "df_drug_name = df_drug_name.drop(columns=['Unnamed: 0'])\n",
    "df_drug_name.head()"
   ]
  },
  {
   "cell_type": "code",
   "execution_count": 4,
   "metadata": {},
   "outputs": [
    {
     "data": {
      "text/plain": [
       "64433"
      ]
     },
     "execution_count": 4,
     "metadata": {},
     "output_type": "execute_result"
    }
   ],
   "source": [
    "len(df_drug_name)"
   ]
  },
  {
   "cell_type": "code",
   "execution_count": 5,
   "metadata": {},
   "outputs": [
    {
     "data": {
      "text/plain": [
       "64429"
      ]
     },
     "execution_count": 5,
     "metadata": {},
     "output_type": "execute_result"
    }
   ],
   "source": [
    "# DELETE DUPLICATES\n",
    "df_drug_name = df_drug_name.drop_duplicates(keep=False)\n",
    "len(df_drug_name)"
   ]
  },
  {
   "cell_type": "code",
   "execution_count": 7,
   "metadata": {},
   "outputs": [
    {
     "data": {
      "text/html": [
       "<div>\n",
       "<style scoped>\n",
       "    .dataframe tbody tr th:only-of-type {\n",
       "        vertical-align: middle;\n",
       "    }\n",
       "\n",
       "    .dataframe tbody tr th {\n",
       "        vertical-align: top;\n",
       "    }\n",
       "\n",
       "    .dataframe thead th {\n",
       "        text-align: right;\n",
       "    }\n",
       "</style>\n",
       "<table border=\"1\" class=\"dataframe\">\n",
       "  <thead>\n",
       "    <tr style=\"text-align: right;\">\n",
       "      <th></th>\n",
       "      <th>record_no</th>\n",
       "      <th>drug_name</th>\n",
       "      <th>drug_name_lower</th>\n",
       "    </tr>\n",
       "  </thead>\n",
       "  <tbody>\n",
       "    <tr>\n",
       "      <th>0</th>\n",
       "      <td>1</td>\n",
       "      <td>abacavir sulfate</td>\n",
       "      <td>abacavir sulfate</td>\n",
       "    </tr>\n",
       "    <tr>\n",
       "      <th>1</th>\n",
       "      <td>1</td>\n",
       "      <td>1592U89</td>\n",
       "      <td>1592u89</td>\n",
       "    </tr>\n",
       "    <tr>\n",
       "      <th>2</th>\n",
       "      <td>1</td>\n",
       "      <td>1592U89 sulfate</td>\n",
       "      <td>1592u89 sulfate</td>\n",
       "    </tr>\n",
       "    <tr>\n",
       "      <th>3</th>\n",
       "      <td>1</td>\n",
       "      <td>Abacavir</td>\n",
       "      <td>abacavir</td>\n",
       "    </tr>\n",
       "    <tr>\n",
       "      <th>4</th>\n",
       "      <td>1</td>\n",
       "      <td>Abacavir sulfate</td>\n",
       "      <td>abacavir sulfate</td>\n",
       "    </tr>\n",
       "  </tbody>\n",
       "</table>\n",
       "</div>"
      ],
      "text/plain": [
       "   record_no         drug_name   drug_name_lower\n",
       "0          1  abacavir sulfate  abacavir sulfate\n",
       "1          1           1592U89           1592u89\n",
       "2          1   1592U89 sulfate   1592u89 sulfate\n",
       "3          1          Abacavir          abacavir\n",
       "4          1  Abacavir sulfate  abacavir sulfate"
      ]
     },
     "execution_count": 7,
     "metadata": {},
     "output_type": "execute_result"
    }
   ],
   "source": [
    "# Create the drug_name_lower variable to delete duplicates that has just case difference\n",
    "df_drug_name['drug_name_lower'] = df_drug_name.drug_name.str.lower()\n",
    "df_drug_name.head()"
   ]
  },
  {
   "cell_type": "code",
   "execution_count": 8,
   "metadata": {
    "scrolled": false
   },
   "outputs": [
    {
     "data": {
      "text/plain": [
       "62120"
      ]
     },
     "execution_count": 8,
     "metadata": {},
     "output_type": "execute_result"
    }
   ],
   "source": [
    "# Delete duplicates from drug_name_lower\n",
    "df_drug_name = df_drug_name.drop_duplicates(subset=['record_no','drug_name_lower'], keep=\"first\")\n",
    "len(df_drug_name)"
   ]
  },
  {
   "cell_type": "code",
   "execution_count": null,
   "metadata": {},
   "outputs": [],
   "source": []
  },
  {
   "cell_type": "code",
   "execution_count": null,
   "metadata": {},
   "outputs": [],
   "source": [
    "#CREATE A NEW EMPTY COLUMN FOR \"search_string\"\n",
    "df_drug_name['search_string'] = [''] * len(df_drug_name)"
   ]
  },
  {
   "cell_type": "code",
   "execution_count": null,
   "metadata": {},
   "outputs": [],
   "source": [
    "# CREATE THE SEARCH_STRING VARIABLE\n",
    "search_str = []\n",
    "to_delete = ['(R)-(-)-','(S)-(-)-','(6S)-','(-)-','-(R)','(R)-',' (R)-','R-','(S)-',' (S)-', '(-)-(R)-'\n",
    "             ' (pINN)',' (INN)',' [INN]',' [DCIT]',' (USAN)','18F ','[18F]','F 18','(+)-',', n--',\n",
    "             ' [INN-Spanish]',' [INN-Latin]',' [German]',' [Spanish]',' [French]',' [Latin]',' [Netherlands]',\n",
    "             ' [Antineoplastic]',' [DCIT,Spanish]',' [INN-French]',' [Czech]',' [Italian]',' [Polish]',' [France]',\n",
    "             ' [iso-french]',' [Street Name]',' [Germany]',' [German]']\n",
    "clean_name =''\n",
    "for index,row in df_drug_name.iterrows() :\n",
    "    for x in to_delete:\n",
    "        if x in row.drug_name : \n",
    "            clean_name = df_drug_name.drug_name[index].replace(x,'')\n",
    "            clean_name = re.sub(r'\\([^)]*\\)', '', clean_name).strip() #Clean all extra () \n",
    "            clean_name = re.sub(r'^\\-', '', clean_name).strip() #Clean all extra -   \n",
    "            print(clean_name)\n",
    "            df_drug_name.search_string[index] = clean_name"
   ]
  },
  {
   "cell_type": "code",
   "execution_count": null,
   "metadata": {},
   "outputs": [],
   "source": [
    "df_drug_name.head()"
   ]
  },
  {
   "cell_type": "code",
   "execution_count": null,
   "metadata": {},
   "outputs": [],
   "source": [
    "#Save the rest of the drug names, if they does not need any cleaning\n",
    "for index,row in df_drug_name.iterrows() :           \n",
    "    print(index)\n",
    "    if (df_drug_name.search_string[index] == ''):\n",
    "        clean_name = re.sub(r'\\([^)]*\\)', '', df_drug_name.drug_name[index]).strip()\n",
    "        df_drug_name.search_string[index] = clean_name\n",
    "        \n",
    "df_drug_name.head()"
   ]
  },
  {
   "cell_type": "code",
   "execution_count": 9,
   "metadata": {},
   "outputs": [],
   "source": [
    "df_drug_name.to_excel('../../Data/drugs/_old_drug_names_final.xlsx')"
   ]
  },
  {
   "cell_type": "code",
   "execution_count": null,
   "metadata": {},
   "outputs": [],
   "source": []
  },
  {
   "cell_type": "code",
   "execution_count": null,
   "metadata": {},
   "outputs": [],
   "source": []
  }
 ],
 "metadata": {
  "kernelspec": {
   "display_name": "Python 3",
   "language": "python",
   "name": "python3"
  },
  "language_info": {
   "codemirror_mode": {
    "name": "ipython",
    "version": 3
   },
   "file_extension": ".py",
   "mimetype": "text/x-python",
   "name": "python",
   "nbconvert_exporter": "python",
   "pygments_lexer": "ipython3",
   "version": "3.6.5"
  }
 },
 "nbformat": 4,
 "nbformat_minor": 2
}
