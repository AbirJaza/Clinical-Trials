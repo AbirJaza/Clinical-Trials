{
 "cells": [
  {
   "cell_type": "code",
   "execution_count": 3,
   "metadata": {},
   "outputs": [
    {
     "name": "stderr",
     "output_type": "stream",
     "text": [
      "/anaconda3/lib/python3.6/site-packages/fuzzywuzzy/fuzz.py:11: UserWarning: Using slow pure-python SequenceMatcher. Install python-Levenshtein to remove this warning\n",
      "  warnings.warn('Using slow pure-python SequenceMatcher. Install python-Levenshtein to remove this warning')\n"
     ]
    }
   ],
   "source": [
    "from difflib import SequenceMatcher\n",
    "from fuzzywuzzy import fuzz"
   ]
  },
  {
   "cell_type": "code",
   "execution_count": null,
   "metadata": {},
   "outputs": [],
   "source": []
  },
  {
   "cell_type": "code",
   "execution_count": 2,
   "metadata": {},
   "outputs": [
    {
     "data": {
      "text/plain": [
       "0.2632696390658174"
      ]
     },
     "execution_count": 2,
     "metadata": {},
     "output_type": "execute_result"
    }
   ],
   "source": [
    "## SEQUENCE MATCHER\n",
    "a = SequenceMatcher(lambda x: x == \" \", \n",
    "               'An Open-label, Non-comparative, Multi-centre Study to Assess the Efficacy and Safety of Bicalutamide When Used in Combination With Anastrozole for the Treatment of Gonadotropin-independent Precocious Puberty in Boys With Testotoxicosis', \n",
    "                'An open-label, non-comparative, multi-centre study to assess the efficacy and safety of bicalutamide when used in combination with anastrozole for the treatment of gonadotropin-independent precocious puberty in boys with testotoxicosis.').ratio()\n",
    "a"
   ]
  },
  {
   "cell_type": "code",
   "execution_count": 4,
   "metadata": {},
   "outputs": [
    {
     "data": {
      "text/plain": [
       "0.26"
      ]
     },
     "execution_count": 4,
     "metadata": {},
     "output_type": "execute_result"
    }
   ],
   "source": [
    "## LEVENSHTEIN DISTANCE\n",
    "b = fuzz.ratio('An Open-label, Non-comparative, Multi-centre Study to Assess the Efficacy and Safety of Bicalutamide When Used in Combination With Anastrozole for the Treatment of Gonadotropin-independent Precocious Puberty in Boys With Testotoxicosis', \n",
    "                'An open-label, non-comparative, multi-centre study to assess the efficacy and safety of bicalutamide when used in combination with anastrozole for the treatment of gonadotropin-independent precocious puberty in boys with testotoxicosis.')/100\n",
    "b"
   ]
  },
  {
   "cell_type": "code",
   "execution_count": 10,
   "metadata": {},
   "outputs": [],
   "source": [
    "## JACCARD DISTANCE\n",
    "def DisJaccard (str1,str2):\n",
    "    str1 = set(str1.lower().split)\n",
    "    str2 = set(str2.lower().split)\n",
    "    return float(len(str1 & str2))/len(str1|str2)"
   ]
  },
  {
   "cell_type": "code",
   "execution_count": 11,
   "metadata": {},
   "outputs": [
    {
     "ename": "TypeError",
     "evalue": "'builtin_function_or_method' object is not iterable",
     "output_type": "error",
     "traceback": [
      "\u001b[0;31m---------------------------------------------------------------------------\u001b[0m",
      "\u001b[0;31mTypeError\u001b[0m                                 Traceback (most recent call last)",
      "\u001b[0;32m<ipython-input-11-e06f5199d765>\u001b[0m in \u001b[0;36m<module>\u001b[0;34m()\u001b[0m\n\u001b[1;32m      1\u001b[0m DisJaccard(\"An Open label, Non comparative, Multi centre Study to Assess the Efficacy and Safety of Bicalutamide When Used in Combination With Anastrozole for the Treatment of Gonadotropin independent Precocious Puberty in Boys With Testotoxicosis\", \n\u001b[0;32m----> 2\u001b[0;31m             \"An open label, non comparative, multi centre study to assess the efficacy and safety of bicalutamide when used in combination with anastrozole for the treatment of gonadotropin independent precocious puberty in boys with testotoxicosis.\")\n\u001b[0m",
      "\u001b[0;32m<ipython-input-10-96c2e517b58d>\u001b[0m in \u001b[0;36mDisJaccard\u001b[0;34m(str1, str2)\u001b[0m\n\u001b[1;32m      1\u001b[0m \u001b[0;31m## JACCARD DISTANCE\u001b[0m\u001b[0;34m\u001b[0m\u001b[0;34m\u001b[0m\u001b[0m\n\u001b[1;32m      2\u001b[0m \u001b[0;32mdef\u001b[0m \u001b[0mDisJaccard\u001b[0m \u001b[0;34m(\u001b[0m\u001b[0mstr1\u001b[0m\u001b[0;34m,\u001b[0m\u001b[0mstr2\u001b[0m\u001b[0;34m)\u001b[0m\u001b[0;34m:\u001b[0m\u001b[0;34m\u001b[0m\u001b[0m\n\u001b[0;32m----> 3\u001b[0;31m     \u001b[0mstr1\u001b[0m \u001b[0;34m=\u001b[0m \u001b[0mset\u001b[0m\u001b[0;34m(\u001b[0m\u001b[0mstr1\u001b[0m\u001b[0;34m.\u001b[0m\u001b[0mlower\u001b[0m\u001b[0;34m(\u001b[0m\u001b[0;34m)\u001b[0m\u001b[0;34m.\u001b[0m\u001b[0msplit\u001b[0m\u001b[0;34m)\u001b[0m\u001b[0;34m\u001b[0m\u001b[0m\n\u001b[0m\u001b[1;32m      4\u001b[0m     \u001b[0mstr2\u001b[0m \u001b[0;34m=\u001b[0m \u001b[0mset\u001b[0m\u001b[0;34m(\u001b[0m\u001b[0mstr2\u001b[0m\u001b[0;34m.\u001b[0m\u001b[0mlower\u001b[0m\u001b[0;34m(\u001b[0m\u001b[0;34m)\u001b[0m\u001b[0;34m.\u001b[0m\u001b[0msplit\u001b[0m\u001b[0;34m)\u001b[0m\u001b[0;34m\u001b[0m\u001b[0m\n\u001b[1;32m      5\u001b[0m     \u001b[0;32mreturn\u001b[0m \u001b[0mfloat\u001b[0m\u001b[0;34m(\u001b[0m\u001b[0mlen\u001b[0m\u001b[0;34m(\u001b[0m\u001b[0mstr1\u001b[0m \u001b[0;34m&\u001b[0m \u001b[0mstr2\u001b[0m\u001b[0;34m)\u001b[0m\u001b[0;34m)\u001b[0m\u001b[0;34m/\u001b[0m\u001b[0mlen\u001b[0m\u001b[0;34m(\u001b[0m\u001b[0mstr1\u001b[0m\u001b[0;34m|\u001b[0m\u001b[0mstr2\u001b[0m\u001b[0;34m)\u001b[0m\u001b[0;34m\u001b[0m\u001b[0m\n",
      "\u001b[0;31mTypeError\u001b[0m: 'builtin_function_or_method' object is not iterable"
     ]
    }
   ],
   "source": [
    "DisJaccard(\"An Open label, Non comparative, Multi centre Study to Assess the Efficacy and Safety of Bicalutamide When Used in Combination With Anastrozole for the Treatment of Gonadotropin independent Precocious Puberty in Boys With Testotoxicosis\", \n",
    "            \"An openlabel, non comparative, multi centre study to assess the efficacy and safety of bicalutamide when used in combination with anastrozole for the treatment of gonadotropin independent precocious puberty in boys with testotoxicosis.\")\n",
    "\n"
   ]
  },
  {
   "cell_type": "code",
   "execution_count": null,
   "metadata": {},
   "outputs": [],
   "source": []
  }
 ],
 "metadata": {
  "kernelspec": {
   "display_name": "Python 3",
   "language": "python",
   "name": "python3"
  },
  "language_info": {
   "codemirror_mode": {
    "name": "ipython",
    "version": 3
   },
   "file_extension": ".py",
   "mimetype": "text/x-python",
   "name": "python",
   "nbconvert_exporter": "python",
   "pygments_lexer": "ipython3",
   "version": "3.6.5"
  }
 },
 "nbformat": 4,
 "nbformat_minor": 2
}
